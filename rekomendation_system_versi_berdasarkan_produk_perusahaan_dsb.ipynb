{
  "nbformat": 4,
  "nbformat_minor": 0,
  "metadata": {
    "colab": {
      "provenance": [],
      "authorship_tag": "ABX9TyPqw15Yz+vZ4npkhLm5Khl3",
      "include_colab_link": true
    },
    "kernelspec": {
      "name": "python3",
      "display_name": "Python 3"
    },
    "language_info": {
      "name": "python"
    }
  },
  "cells": [
    {
      "cell_type": "markdown",
      "metadata": {
        "id": "view-in-github",
        "colab_type": "text"
      },
      "source": [
        "<a href=\"https://colab.research.google.com/github/lugastyan98/portofolio/blob/main/rekomendation_system_versi_berdasarkan_produk_perusahaan_dsb.ipynb\" target=\"_parent\"><img src=\"https://colab.research.google.com/assets/colab-badge.svg\" alt=\"Open In Colab\"/></a>"
      ]
    },
    {
      "cell_type": "markdown",
      "source": [
        "# library"
      ],
      "metadata": {
        "id": "3WT0IUHg5OOO"
      }
    },
    {
      "cell_type": "code",
      "source": [
        "!pip install rake_nltk"
      ],
      "metadata": {
        "colab": {
          "base_uri": "https://localhost:8080/"
        },
        "id": "wa-56hb07vft",
        "outputId": "06add487-6527-43bc-b6ce-47a6c4846423"
      },
      "execution_count": null,
      "outputs": [
        {
          "output_type": "stream",
          "name": "stdout",
          "text": [
            "Looking in indexes: https://pypi.org/simple, https://us-python.pkg.dev/colab-wheels/public/simple/\n",
            "Collecting rake_nltk\n",
            "  Downloading rake_nltk-1.0.6-py3-none-any.whl (9.1 kB)\n",
            "Requirement already satisfied: nltk<4.0.0,>=3.6.2 in /usr/local/lib/python3.10/dist-packages (from rake_nltk) (3.8.1)\n",
            "Requirement already satisfied: click in /usr/local/lib/python3.10/dist-packages (from nltk<4.0.0,>=3.6.2->rake_nltk) (8.1.3)\n",
            "Requirement already satisfied: joblib in /usr/local/lib/python3.10/dist-packages (from nltk<4.0.0,>=3.6.2->rake_nltk) (1.2.0)\n",
            "Requirement already satisfied: regex>=2021.8.3 in /usr/local/lib/python3.10/dist-packages (from nltk<4.0.0,>=3.6.2->rake_nltk) (2022.10.31)\n",
            "Requirement already satisfied: tqdm in /usr/local/lib/python3.10/dist-packages (from nltk<4.0.0,>=3.6.2->rake_nltk) (4.65.0)\n",
            "Installing collected packages: rake_nltk\n",
            "Successfully installed rake_nltk-1.0.6\n"
          ]
        }
      ]
    },
    {
      "cell_type": "code",
      "execution_count": null,
      "metadata": {
        "id": "bEQJJpCQ5NAn",
        "colab": {
          "base_uri": "https://localhost:8080/"
        },
        "outputId": "35cc3cc1-ce52-457c-f8d6-5d5dce49a297"
      },
      "outputs": [
        {
          "output_type": "stream",
          "name": "stderr",
          "text": [
            "[nltk_data] Downloading package stopwords to /root/nltk_data...\n",
            "[nltk_data]   Package stopwords is already up-to-date!\n",
            "[nltk_data] Downloading package punkt to /root/nltk_data...\n",
            "[nltk_data]   Package punkt is already up-to-date!\n"
          ]
        }
      ],
      "source": [
        "import pandas as pd\n",
        "import numpy as np\n",
        "from sklearn.feature_extraction.text import TfidfVectorizer\n",
        "from sklearn.metrics.pairwise import cosine_similarity\n",
        "\n",
        "from sklearn.metrics.pairwise import cosine_similarity\n",
        "from sklearn.feature_extraction.text import CountVectorizer\n",
        "\n",
        "import rake_nltk\n",
        "from rake_nltk import Rake\n",
        "import nltk\n",
        "nltk.download('stopwords')\n",
        "nltk.download('punkt')\n",
        "\n",
        "from bs4 import BeautifulSoup #untuk perHTMLan"
      ]
    },
    {
      "cell_type": "markdown",
      "source": [
        "# Load dataset"
      ],
      "metadata": {
        "id": "xuLi3Oug-QRD"
      }
    },
    {
      "cell_type": "code",
      "source": [
        "from google.colab import drive\n",
        "drive.mount('/content/drive')"
      ],
      "metadata": {
        "colab": {
          "base_uri": "https://localhost:8080/"
        },
        "id": "tLvCN4Nz-KDe",
        "outputId": "ba54a2cb-2dad-4d5e-a33b-501d4d417d75"
      },
      "execution_count": null,
      "outputs": [
        {
          "output_type": "stream",
          "name": "stdout",
          "text": [
            "Mounted at /content/drive\n"
          ]
        }
      ]
    },
    {
      "cell_type": "code",
      "source": [
        "df = pd.read_csv('/content/drive/MyDrive/PINA dataset/semua_versi_4___edwin_2023-05-10T04_25_24.475027Z.csv')"
      ],
      "metadata": {
        "id": "7ZXBkQoP-W2x"
      },
      "execution_count": null,
      "outputs": []
    },
    {
      "cell_type": "code",
      "source": [
        "df_user = pd.read_csv('/content/drive/MyDrive/PINA dataset/user_portfolio.csv')"
      ],
      "metadata": {
        "id": "VxAk4LzM4H_n"
      },
      "execution_count": null,
      "outputs": []
    },
    {
      "cell_type": "code",
      "source": [
        "df_user.head()"
      ],
      "metadata": {
        "colab": {
          "base_uri": "https://localhost:8080/",
          "height": 206
        },
        "id": "QEd3yWwYAKcC",
        "outputId": "a3c528c9-5a7d-4886-cdb0-38d2085ed66a"
      },
      "execution_count": null,
      "outputs": [
        {
          "output_type": "execute_result",
          "data": {
            "text/plain": [
              "  clientportfolioclientid clientportfoliostockid  clientportfoliobalance  \\\n",
              "0                 0000003                   FIMP              19000000.0   \n",
              "1                   01OLK                   BOLT                   100.0   \n",
              "2                       3                   CASH              47051800.0   \n",
              "3             ADANGWAH107                   TLKM                   100.0   \n",
              "4                  ADIN99                   TRIM                   100.0   \n",
              "\n",
              "  clientportfoliodate  date_rank_per_user  \n",
              "0          2023-05-05                   1  \n",
              "1          2023-05-05                   1  \n",
              "2          2022-03-28                   1  \n",
              "3          2023-05-05                   1  \n",
              "4          2023-05-05                   1  "
            ],
            "text/html": [
              "\n",
              "  <div id=\"df-a71211f4-d208-4cbd-a139-446680c3080b\">\n",
              "    <div class=\"colab-df-container\">\n",
              "      <div>\n",
              "<style scoped>\n",
              "    .dataframe tbody tr th:only-of-type {\n",
              "        vertical-align: middle;\n",
              "    }\n",
              "\n",
              "    .dataframe tbody tr th {\n",
              "        vertical-align: top;\n",
              "    }\n",
              "\n",
              "    .dataframe thead th {\n",
              "        text-align: right;\n",
              "    }\n",
              "</style>\n",
              "<table border=\"1\" class=\"dataframe\">\n",
              "  <thead>\n",
              "    <tr style=\"text-align: right;\">\n",
              "      <th></th>\n",
              "      <th>clientportfolioclientid</th>\n",
              "      <th>clientportfoliostockid</th>\n",
              "      <th>clientportfoliobalance</th>\n",
              "      <th>clientportfoliodate</th>\n",
              "      <th>date_rank_per_user</th>\n",
              "    </tr>\n",
              "  </thead>\n",
              "  <tbody>\n",
              "    <tr>\n",
              "      <th>0</th>\n",
              "      <td>0000003</td>\n",
              "      <td>FIMP</td>\n",
              "      <td>19000000.0</td>\n",
              "      <td>2023-05-05</td>\n",
              "      <td>1</td>\n",
              "    </tr>\n",
              "    <tr>\n",
              "      <th>1</th>\n",
              "      <td>01OLK</td>\n",
              "      <td>BOLT</td>\n",
              "      <td>100.0</td>\n",
              "      <td>2023-05-05</td>\n",
              "      <td>1</td>\n",
              "    </tr>\n",
              "    <tr>\n",
              "      <th>2</th>\n",
              "      <td>3</td>\n",
              "      <td>CASH</td>\n",
              "      <td>47051800.0</td>\n",
              "      <td>2022-03-28</td>\n",
              "      <td>1</td>\n",
              "    </tr>\n",
              "    <tr>\n",
              "      <th>3</th>\n",
              "      <td>ADANGWAH107</td>\n",
              "      <td>TLKM</td>\n",
              "      <td>100.0</td>\n",
              "      <td>2023-05-05</td>\n",
              "      <td>1</td>\n",
              "    </tr>\n",
              "    <tr>\n",
              "      <th>4</th>\n",
              "      <td>ADIN99</td>\n",
              "      <td>TRIM</td>\n",
              "      <td>100.0</td>\n",
              "      <td>2023-05-05</td>\n",
              "      <td>1</td>\n",
              "    </tr>\n",
              "  </tbody>\n",
              "</table>\n",
              "</div>\n",
              "      <button class=\"colab-df-convert\" onclick=\"convertToInteractive('df-a71211f4-d208-4cbd-a139-446680c3080b')\"\n",
              "              title=\"Convert this dataframe to an interactive table.\"\n",
              "              style=\"display:none;\">\n",
              "        \n",
              "  <svg xmlns=\"http://www.w3.org/2000/svg\" height=\"24px\"viewBox=\"0 0 24 24\"\n",
              "       width=\"24px\">\n",
              "    <path d=\"M0 0h24v24H0V0z\" fill=\"none\"/>\n",
              "    <path d=\"M18.56 5.44l.94 2.06.94-2.06 2.06-.94-2.06-.94-.94-2.06-.94 2.06-2.06.94zm-11 1L8.5 8.5l.94-2.06 2.06-.94-2.06-.94L8.5 2.5l-.94 2.06-2.06.94zm10 10l.94 2.06.94-2.06 2.06-.94-2.06-.94-.94-2.06-.94 2.06-2.06.94z\"/><path d=\"M17.41 7.96l-1.37-1.37c-.4-.4-.92-.59-1.43-.59-.52 0-1.04.2-1.43.59L10.3 9.45l-7.72 7.72c-.78.78-.78 2.05 0 2.83L4 21.41c.39.39.9.59 1.41.59.51 0 1.02-.2 1.41-.59l7.78-7.78 2.81-2.81c.8-.78.8-2.07 0-2.86zM5.41 20L4 18.59l7.72-7.72 1.47 1.35L5.41 20z\"/>\n",
              "  </svg>\n",
              "      </button>\n",
              "      \n",
              "  <style>\n",
              "    .colab-df-container {\n",
              "      display:flex;\n",
              "      flex-wrap:wrap;\n",
              "      gap: 12px;\n",
              "    }\n",
              "\n",
              "    .colab-df-convert {\n",
              "      background-color: #E8F0FE;\n",
              "      border: none;\n",
              "      border-radius: 50%;\n",
              "      cursor: pointer;\n",
              "      display: none;\n",
              "      fill: #1967D2;\n",
              "      height: 32px;\n",
              "      padding: 0 0 0 0;\n",
              "      width: 32px;\n",
              "    }\n",
              "\n",
              "    .colab-df-convert:hover {\n",
              "      background-color: #E2EBFA;\n",
              "      box-shadow: 0px 1px 2px rgba(60, 64, 67, 0.3), 0px 1px 3px 1px rgba(60, 64, 67, 0.15);\n",
              "      fill: #174EA6;\n",
              "    }\n",
              "\n",
              "    [theme=dark] .colab-df-convert {\n",
              "      background-color: #3B4455;\n",
              "      fill: #D2E3FC;\n",
              "    }\n",
              "\n",
              "    [theme=dark] .colab-df-convert:hover {\n",
              "      background-color: #434B5C;\n",
              "      box-shadow: 0px 1px 3px 1px rgba(0, 0, 0, 0.15);\n",
              "      filter: drop-shadow(0px 1px 2px rgba(0, 0, 0, 0.3));\n",
              "      fill: #FFFFFF;\n",
              "    }\n",
              "  </style>\n",
              "\n",
              "      <script>\n",
              "        const buttonEl =\n",
              "          document.querySelector('#df-a71211f4-d208-4cbd-a139-446680c3080b button.colab-df-convert');\n",
              "        buttonEl.style.display =\n",
              "          google.colab.kernel.accessAllowed ? 'block' : 'none';\n",
              "\n",
              "        async function convertToInteractive(key) {\n",
              "          const element = document.querySelector('#df-a71211f4-d208-4cbd-a139-446680c3080b');\n",
              "          const dataTable =\n",
              "            await google.colab.kernel.invokeFunction('convertToInteractive',\n",
              "                                                     [key], {});\n",
              "          if (!dataTable) return;\n",
              "\n",
              "          const docLinkHtml = 'Like what you see? Visit the ' +\n",
              "            '<a target=\"_blank\" href=https://colab.research.google.com/notebooks/data_table.ipynb>data table notebook</a>'\n",
              "            + ' to learn more about interactive tables.';\n",
              "          element.innerHTML = '';\n",
              "          dataTable['output_type'] = 'display_data';\n",
              "          await google.colab.output.renderOutput(dataTable, element);\n",
              "          const docLink = document.createElement('div');\n",
              "          docLink.innerHTML = docLinkHtml;\n",
              "          element.appendChild(docLink);\n",
              "        }\n",
              "      </script>\n",
              "    </div>\n",
              "  </div>\n",
              "  "
            ]
          },
          "metadata": {},
          "execution_count": 7
        }
      ]
    },
    {
      "cell_type": "code",
      "source": [
        "df_grouped = pd.DataFrame(df_user.groupby('clientportfolioclientid')['clientportfoliostockid'].agg(list))"
      ],
      "metadata": {
        "id": "K1rVu0Q1AcNz"
      },
      "execution_count": null,
      "outputs": []
    },
    {
      "cell_type": "code",
      "source": [
        "df_grouped = df_grouped.reset_index()"
      ],
      "metadata": {
        "id": "ax41A96hA9zA"
      },
      "execution_count": null,
      "outputs": []
    },
    {
      "cell_type": "code",
      "source": [
        "df_grouped.head()"
      ],
      "metadata": {
        "colab": {
          "base_uri": "https://localhost:8080/",
          "height": 206
        },
        "id": "Jkd42hVvTpch",
        "outputId": "2e44bd9e-3507-43ea-ac7d-495e05185e58"
      },
      "execution_count": null,
      "outputs": [
        {
          "output_type": "execute_result",
          "data": {
            "text/plain": [
              "  clientportfolioclientid clientportfoliostockid\n",
              "0                 0000003                 [FIMP]\n",
              "1                   01OLK                 [BOLT]\n",
              "2                       3                 [CASH]\n",
              "3             ADANGWAH107                 [TLKM]\n",
              "4                  ADIN99                 [TRIM]"
            ],
            "text/html": [
              "\n",
              "  <div id=\"df-d997d866-b9f6-487e-92b4-ca6ccb4ccf62\">\n",
              "    <div class=\"colab-df-container\">\n",
              "      <div>\n",
              "<style scoped>\n",
              "    .dataframe tbody tr th:only-of-type {\n",
              "        vertical-align: middle;\n",
              "    }\n",
              "\n",
              "    .dataframe tbody tr th {\n",
              "        vertical-align: top;\n",
              "    }\n",
              "\n",
              "    .dataframe thead th {\n",
              "        text-align: right;\n",
              "    }\n",
              "</style>\n",
              "<table border=\"1\" class=\"dataframe\">\n",
              "  <thead>\n",
              "    <tr style=\"text-align: right;\">\n",
              "      <th></th>\n",
              "      <th>clientportfolioclientid</th>\n",
              "      <th>clientportfoliostockid</th>\n",
              "    </tr>\n",
              "  </thead>\n",
              "  <tbody>\n",
              "    <tr>\n",
              "      <th>0</th>\n",
              "      <td>0000003</td>\n",
              "      <td>[FIMP]</td>\n",
              "    </tr>\n",
              "    <tr>\n",
              "      <th>1</th>\n",
              "      <td>01OLK</td>\n",
              "      <td>[BOLT]</td>\n",
              "    </tr>\n",
              "    <tr>\n",
              "      <th>2</th>\n",
              "      <td>3</td>\n",
              "      <td>[CASH]</td>\n",
              "    </tr>\n",
              "    <tr>\n",
              "      <th>3</th>\n",
              "      <td>ADANGWAH107</td>\n",
              "      <td>[TLKM]</td>\n",
              "    </tr>\n",
              "    <tr>\n",
              "      <th>4</th>\n",
              "      <td>ADIN99</td>\n",
              "      <td>[TRIM]</td>\n",
              "    </tr>\n",
              "  </tbody>\n",
              "</table>\n",
              "</div>\n",
              "      <button class=\"colab-df-convert\" onclick=\"convertToInteractive('df-d997d866-b9f6-487e-92b4-ca6ccb4ccf62')\"\n",
              "              title=\"Convert this dataframe to an interactive table.\"\n",
              "              style=\"display:none;\">\n",
              "        \n",
              "  <svg xmlns=\"http://www.w3.org/2000/svg\" height=\"24px\"viewBox=\"0 0 24 24\"\n",
              "       width=\"24px\">\n",
              "    <path d=\"M0 0h24v24H0V0z\" fill=\"none\"/>\n",
              "    <path d=\"M18.56 5.44l.94 2.06.94-2.06 2.06-.94-2.06-.94-.94-2.06-.94 2.06-2.06.94zm-11 1L8.5 8.5l.94-2.06 2.06-.94-2.06-.94L8.5 2.5l-.94 2.06-2.06.94zm10 10l.94 2.06.94-2.06 2.06-.94-2.06-.94-.94-2.06-.94 2.06-2.06.94z\"/><path d=\"M17.41 7.96l-1.37-1.37c-.4-.4-.92-.59-1.43-.59-.52 0-1.04.2-1.43.59L10.3 9.45l-7.72 7.72c-.78.78-.78 2.05 0 2.83L4 21.41c.39.39.9.59 1.41.59.51 0 1.02-.2 1.41-.59l7.78-7.78 2.81-2.81c.8-.78.8-2.07 0-2.86zM5.41 20L4 18.59l7.72-7.72 1.47 1.35L5.41 20z\"/>\n",
              "  </svg>\n",
              "      </button>\n",
              "      \n",
              "  <style>\n",
              "    .colab-df-container {\n",
              "      display:flex;\n",
              "      flex-wrap:wrap;\n",
              "      gap: 12px;\n",
              "    }\n",
              "\n",
              "    .colab-df-convert {\n",
              "      background-color: #E8F0FE;\n",
              "      border: none;\n",
              "      border-radius: 50%;\n",
              "      cursor: pointer;\n",
              "      display: none;\n",
              "      fill: #1967D2;\n",
              "      height: 32px;\n",
              "      padding: 0 0 0 0;\n",
              "      width: 32px;\n",
              "    }\n",
              "\n",
              "    .colab-df-convert:hover {\n",
              "      background-color: #E2EBFA;\n",
              "      box-shadow: 0px 1px 2px rgba(60, 64, 67, 0.3), 0px 1px 3px 1px rgba(60, 64, 67, 0.15);\n",
              "      fill: #174EA6;\n",
              "    }\n",
              "\n",
              "    [theme=dark] .colab-df-convert {\n",
              "      background-color: #3B4455;\n",
              "      fill: #D2E3FC;\n",
              "    }\n",
              "\n",
              "    [theme=dark] .colab-df-convert:hover {\n",
              "      background-color: #434B5C;\n",
              "      box-shadow: 0px 1px 3px 1px rgba(0, 0, 0, 0.15);\n",
              "      filter: drop-shadow(0px 1px 2px rgba(0, 0, 0, 0.3));\n",
              "      fill: #FFFFFF;\n",
              "    }\n",
              "  </style>\n",
              "\n",
              "      <script>\n",
              "        const buttonEl =\n",
              "          document.querySelector('#df-d997d866-b9f6-487e-92b4-ca6ccb4ccf62 button.colab-df-convert');\n",
              "        buttonEl.style.display =\n",
              "          google.colab.kernel.accessAllowed ? 'block' : 'none';\n",
              "\n",
              "        async function convertToInteractive(key) {\n",
              "          const element = document.querySelector('#df-d997d866-b9f6-487e-92b4-ca6ccb4ccf62');\n",
              "          const dataTable =\n",
              "            await google.colab.kernel.invokeFunction('convertToInteractive',\n",
              "                                                     [key], {});\n",
              "          if (!dataTable) return;\n",
              "\n",
              "          const docLinkHtml = 'Like what you see? Visit the ' +\n",
              "            '<a target=\"_blank\" href=https://colab.research.google.com/notebooks/data_table.ipynb>data table notebook</a>'\n",
              "            + ' to learn more about interactive tables.';\n",
              "          element.innerHTML = '';\n",
              "          dataTable['output_type'] = 'display_data';\n",
              "          await google.colab.output.renderOutput(dataTable, element);\n",
              "          const docLink = document.createElement('div');\n",
              "          docLink.innerHTML = docLinkHtml;\n",
              "          element.appendChild(docLink);\n",
              "        }\n",
              "      </script>\n",
              "    </div>\n",
              "  </div>\n",
              "  "
            ]
          },
          "metadata": {},
          "execution_count": 10
        }
      ]
    },
    {
      "cell_type": "code",
      "source": [
        "df_grouped.columns  = ['id','portofolio']"
      ],
      "metadata": {
        "id": "daFM65ZsBhEC"
      },
      "execution_count": null,
      "outputs": []
    },
    {
      "cell_type": "code",
      "source": [
        "df_grouped.head()"
      ],
      "metadata": {
        "colab": {
          "base_uri": "https://localhost:8080/",
          "height": 206
        },
        "id": "4U2Oe_pJRXjI",
        "outputId": "b1e64da6-aa6b-433e-c02f-6d7c23aa1a88"
      },
      "execution_count": null,
      "outputs": [
        {
          "output_type": "execute_result",
          "data": {
            "text/plain": [
              "            id portofolio\n",
              "0      0000003     [FIMP]\n",
              "1        01OLK     [BOLT]\n",
              "2            3     [CASH]\n",
              "3  ADANGWAH107     [TLKM]\n",
              "4       ADIN99     [TRIM]"
            ],
            "text/html": [
              "\n",
              "  <div id=\"df-5b861c6e-5b0d-4304-9fea-adf49bfe1c56\">\n",
              "    <div class=\"colab-df-container\">\n",
              "      <div>\n",
              "<style scoped>\n",
              "    .dataframe tbody tr th:only-of-type {\n",
              "        vertical-align: middle;\n",
              "    }\n",
              "\n",
              "    .dataframe tbody tr th {\n",
              "        vertical-align: top;\n",
              "    }\n",
              "\n",
              "    .dataframe thead th {\n",
              "        text-align: right;\n",
              "    }\n",
              "</style>\n",
              "<table border=\"1\" class=\"dataframe\">\n",
              "  <thead>\n",
              "    <tr style=\"text-align: right;\">\n",
              "      <th></th>\n",
              "      <th>id</th>\n",
              "      <th>portofolio</th>\n",
              "    </tr>\n",
              "  </thead>\n",
              "  <tbody>\n",
              "    <tr>\n",
              "      <th>0</th>\n",
              "      <td>0000003</td>\n",
              "      <td>[FIMP]</td>\n",
              "    </tr>\n",
              "    <tr>\n",
              "      <th>1</th>\n",
              "      <td>01OLK</td>\n",
              "      <td>[BOLT]</td>\n",
              "    </tr>\n",
              "    <tr>\n",
              "      <th>2</th>\n",
              "      <td>3</td>\n",
              "      <td>[CASH]</td>\n",
              "    </tr>\n",
              "    <tr>\n",
              "      <th>3</th>\n",
              "      <td>ADANGWAH107</td>\n",
              "      <td>[TLKM]</td>\n",
              "    </tr>\n",
              "    <tr>\n",
              "      <th>4</th>\n",
              "      <td>ADIN99</td>\n",
              "      <td>[TRIM]</td>\n",
              "    </tr>\n",
              "  </tbody>\n",
              "</table>\n",
              "</div>\n",
              "      <button class=\"colab-df-convert\" onclick=\"convertToInteractive('df-5b861c6e-5b0d-4304-9fea-adf49bfe1c56')\"\n",
              "              title=\"Convert this dataframe to an interactive table.\"\n",
              "              style=\"display:none;\">\n",
              "        \n",
              "  <svg xmlns=\"http://www.w3.org/2000/svg\" height=\"24px\"viewBox=\"0 0 24 24\"\n",
              "       width=\"24px\">\n",
              "    <path d=\"M0 0h24v24H0V0z\" fill=\"none\"/>\n",
              "    <path d=\"M18.56 5.44l.94 2.06.94-2.06 2.06-.94-2.06-.94-.94-2.06-.94 2.06-2.06.94zm-11 1L8.5 8.5l.94-2.06 2.06-.94-2.06-.94L8.5 2.5l-.94 2.06-2.06.94zm10 10l.94 2.06.94-2.06 2.06-.94-2.06-.94-.94-2.06-.94 2.06-2.06.94z\"/><path d=\"M17.41 7.96l-1.37-1.37c-.4-.4-.92-.59-1.43-.59-.52 0-1.04.2-1.43.59L10.3 9.45l-7.72 7.72c-.78.78-.78 2.05 0 2.83L4 21.41c.39.39.9.59 1.41.59.51 0 1.02-.2 1.41-.59l7.78-7.78 2.81-2.81c.8-.78.8-2.07 0-2.86zM5.41 20L4 18.59l7.72-7.72 1.47 1.35L5.41 20z\"/>\n",
              "  </svg>\n",
              "      </button>\n",
              "      \n",
              "  <style>\n",
              "    .colab-df-container {\n",
              "      display:flex;\n",
              "      flex-wrap:wrap;\n",
              "      gap: 12px;\n",
              "    }\n",
              "\n",
              "    .colab-df-convert {\n",
              "      background-color: #E8F0FE;\n",
              "      border: none;\n",
              "      border-radius: 50%;\n",
              "      cursor: pointer;\n",
              "      display: none;\n",
              "      fill: #1967D2;\n",
              "      height: 32px;\n",
              "      padding: 0 0 0 0;\n",
              "      width: 32px;\n",
              "    }\n",
              "\n",
              "    .colab-df-convert:hover {\n",
              "      background-color: #E2EBFA;\n",
              "      box-shadow: 0px 1px 2px rgba(60, 64, 67, 0.3), 0px 1px 3px 1px rgba(60, 64, 67, 0.15);\n",
              "      fill: #174EA6;\n",
              "    }\n",
              "\n",
              "    [theme=dark] .colab-df-convert {\n",
              "      background-color: #3B4455;\n",
              "      fill: #D2E3FC;\n",
              "    }\n",
              "\n",
              "    [theme=dark] .colab-df-convert:hover {\n",
              "      background-color: #434B5C;\n",
              "      box-shadow: 0px 1px 3px 1px rgba(0, 0, 0, 0.15);\n",
              "      filter: drop-shadow(0px 1px 2px rgba(0, 0, 0, 0.3));\n",
              "      fill: #FFFFFF;\n",
              "    }\n",
              "  </style>\n",
              "\n",
              "      <script>\n",
              "        const buttonEl =\n",
              "          document.querySelector('#df-5b861c6e-5b0d-4304-9fea-adf49bfe1c56 button.colab-df-convert');\n",
              "        buttonEl.style.display =\n",
              "          google.colab.kernel.accessAllowed ? 'block' : 'none';\n",
              "\n",
              "        async function convertToInteractive(key) {\n",
              "          const element = document.querySelector('#df-5b861c6e-5b0d-4304-9fea-adf49bfe1c56');\n",
              "          const dataTable =\n",
              "            await google.colab.kernel.invokeFunction('convertToInteractive',\n",
              "                                                     [key], {});\n",
              "          if (!dataTable) return;\n",
              "\n",
              "          const docLinkHtml = 'Like what you see? Visit the ' +\n",
              "            '<a target=\"_blank\" href=https://colab.research.google.com/notebooks/data_table.ipynb>data table notebook</a>'\n",
              "            + ' to learn more about interactive tables.';\n",
              "          element.innerHTML = '';\n",
              "          dataTable['output_type'] = 'display_data';\n",
              "          await google.colab.output.renderOutput(dataTable, element);\n",
              "          const docLink = document.createElement('div');\n",
              "          docLink.innerHTML = docLinkHtml;\n",
              "          element.appendChild(docLink);\n",
              "        }\n",
              "      </script>\n",
              "    </div>\n",
              "  </div>\n",
              "  "
            ]
          },
          "metadata": {},
          "execution_count": 12
        }
      ]
    },
    {
      "cell_type": "code",
      "source": [
        "df_grouped.info()"
      ],
      "metadata": {
        "colab": {
          "base_uri": "https://localhost:8080/"
        },
        "id": "F8qMjkoV_gXe",
        "outputId": "b9140c04-0594-4356-b81e-2b8577c6b3fd"
      },
      "execution_count": null,
      "outputs": [
        {
          "output_type": "stream",
          "name": "stdout",
          "text": [
            "<class 'pandas.core.frame.DataFrame'>\n",
            "RangeIndex: 555 entries, 0 to 554\n",
            "Data columns (total 2 columns):\n",
            " #   Column      Non-Null Count  Dtype \n",
            "---  ------      --------------  ----- \n",
            " 0   id          555 non-null    object\n",
            " 1   portofolio  555 non-null    object\n",
            "dtypes: object(2)\n",
            "memory usage: 8.8+ KB\n"
          ]
        }
      ]
    },
    {
      "cell_type": "code",
      "source": [
        "print(df_grouped['id'].nunique())"
      ],
      "metadata": {
        "colab": {
          "base_uri": "https://localhost:8080/"
        },
        "id": "NXw_XqLS4gRn",
        "outputId": "f2a41636-bca5-4cb6-b76e-8f6321e4ec36"
      },
      "execution_count": null,
      "outputs": [
        {
          "output_type": "stream",
          "name": "stdout",
          "text": [
            "555\n"
          ]
        }
      ]
    },
    {
      "cell_type": "code",
      "source": [
        "df.info()"
      ],
      "metadata": {
        "id": "oWTU69Rw_0A4",
        "colab": {
          "base_uri": "https://localhost:8080/"
        },
        "outputId": "32efd6fe-6088-4397-dd1f-1ef5fe8d1a68"
      },
      "execution_count": null,
      "outputs": [
        {
          "output_type": "stream",
          "name": "stdout",
          "text": [
            "<class 'pandas.core.frame.DataFrame'>\n",
            "RangeIndex: 883 entries, 0 to 882\n",
            "Data columns (total 54 columns):\n",
            " #   Column                   Non-Null Count  Dtype  \n",
            "---  ------                   --------------  -----  \n",
            " 0   _id                      883 non-null    object \n",
            " 1   sector                   883 non-null    object \n",
            " 2   idx                      883 non-null    object \n",
            " 3   thematic                 883 non-null    object \n",
            " 4   general_info             865 non-null    object \n",
            " 5   business_product         669 non-null    object \n",
            " 6   total_asset_growth       853 non-null    float64\n",
            " 7   price_sales_ratio        845 non-null    float64\n",
            " 8   sales_growth             834 non-null    float64\n",
            " 9   quick_ratio              849 non-null    float64\n",
            " 10  cost_of_goods_sold       853 non-null    float64\n",
            " 11  cash_flow_per_share      850 non-null    float64\n",
            " 12  net_income_growth        839 non-null    float64\n",
            " 13  operating_profit         853 non-null    float64\n",
            " 14  income_before_tax        853 non-null    float64\n",
            " 15  total_assets             853 non-null    float64\n",
            " 16  total_equity             853 non-null    float64\n",
            " 17  total_liabilities        853 non-null    float64\n",
            " 18  debt_to_equity_ratio     853 non-null    float64\n",
            " 19  cash_equivalent          853 non-null    float64\n",
            " 20  total_sales              853 non-null    float64\n",
            " 21  operating_profit_margin  848 non-null    float64\n",
            " 22  gross_profit_margin      848 non-null    float64\n",
            " 23  net_profit_margin        848 non-null    float64\n",
            " 24  net_income               853 non-null    float64\n",
            " 25  market_cap               861 non-null    float64\n",
            " 26  dailyReturn              861 non-null    float64\n",
            " 27  monthlyReturn            861 non-null    float64\n",
            " 28  annualReturn             861 non-null    float64\n",
            " 29  threeYearReturn          861 non-null    float64\n",
            " 30  fiveYearReturn           861 non-null    float64\n",
            " 31  tenYearReturn            789 non-null    float64\n",
            " 32  listedShare              863 non-null    float64\n",
            " 33  tradableVolume           801 non-null    float64\n",
            " 34  offerVolume              801 non-null    float64\n",
            " 35  tradableValue            858 non-null    float64\n",
            " 36  openPrice                863 non-null    float64\n",
            " 37  closePrice               863 non-null    float64\n",
            " 38  averagePrice             863 non-null    float64\n",
            " 39  lastTradedPrice          863 non-null    float64\n",
            " 40  lowTradedPrice           863 non-null    float64\n",
            " 41  highTradedPrice          863 non-null    float64\n",
            " 42  bidPrice                 749 non-null    float64\n",
            " 43  offerPrice               801 non-null    float64\n",
            " 44  book_value_per_share     853 non-null    float64\n",
            " 45  eps                      778 non-null    float64\n",
            " 46  pbv                      863 non-null    float64\n",
            " 47  roa                      853 non-null    float64\n",
            " 48  roe                      853 non-null    float64\n",
            " 49  per                      787 non-null    float64\n",
            " 50  description              669 non-null    object \n",
            " 51  underwriter              669 non-null    object \n",
            " 52  shareholders             669 non-null    object \n",
            " 53  industry                 883 non-null    object \n",
            "dtypes: float64(44), object(10)\n",
            "memory usage: 372.6+ KB\n"
          ]
        }
      ]
    },
    {
      "cell_type": "markdown",
      "source": [
        "# Missing Value"
      ],
      "metadata": {
        "id": "Uky5dcKa_pQ1"
      }
    },
    {
      "cell_type": "markdown",
      "source": [
        "Missing value akan diisi dengan rata-rata.\n",
        "Tidak dihapus karena data _id itu merupakan data semua saham di PINA\n"
      ],
      "metadata": {
        "id": "7QDn56SDA0O6"
      }
    },
    {
      "cell_type": "code",
      "source": [
        "df.isnull().sum() #cek yang NaNT"
      ],
      "metadata": {
        "colab": {
          "base_uri": "https://localhost:8080/"
        },
        "id": "_hrO4y-R_rYw",
        "outputId": "36197dad-bcfc-4281-d134-751324363fe6"
      },
      "execution_count": null,
      "outputs": [
        {
          "output_type": "execute_result",
          "data": {
            "text/plain": [
              "_id                          0\n",
              "sector                       0\n",
              "idx                          0\n",
              "thematic                     0\n",
              "general_info                18\n",
              "business_product           214\n",
              "total_asset_growth          30\n",
              "price_sales_ratio           38\n",
              "sales_growth                49\n",
              "quick_ratio                 34\n",
              "cost_of_goods_sold          30\n",
              "cash_flow_per_share         33\n",
              "net_income_growth           44\n",
              "operating_profit            30\n",
              "income_before_tax           30\n",
              "total_assets                30\n",
              "total_equity                30\n",
              "total_liabilities           30\n",
              "debt_to_equity_ratio        30\n",
              "cash_equivalent             30\n",
              "total_sales                 30\n",
              "operating_profit_margin     35\n",
              "gross_profit_margin         35\n",
              "net_profit_margin           35\n",
              "net_income                  30\n",
              "market_cap                  22\n",
              "dailyReturn                 22\n",
              "monthlyReturn               22\n",
              "annualReturn                22\n",
              "threeYearReturn             22\n",
              "fiveYearReturn              22\n",
              "tenYearReturn               94\n",
              "listedShare                 20\n",
              "tradableVolume              82\n",
              "offerVolume                 82\n",
              "tradableValue               25\n",
              "openPrice                   20\n",
              "closePrice                  20\n",
              "averagePrice                20\n",
              "lastTradedPrice             20\n",
              "lowTradedPrice              20\n",
              "highTradedPrice             20\n",
              "bidPrice                   134\n",
              "offerPrice                  82\n",
              "book_value_per_share        30\n",
              "eps                        105\n",
              "pbv                         20\n",
              "roa                         30\n",
              "roe                         30\n",
              "per                         96\n",
              "description                214\n",
              "underwriter                214\n",
              "shareholders               214\n",
              "industry                     0\n",
              "dtype: int64"
            ]
          },
          "metadata": {},
          "execution_count": 16
        }
      ]
    },
    {
      "cell_type": "code",
      "source": [
        "#mengisi NaN kolum general_info dengan string kosong\n",
        "df['general_info'].fillna('', inplace=True)"
      ],
      "metadata": {
        "id": "lo5F784YG77H"
      },
      "execution_count": null,
      "outputs": []
    },
    {
      "cell_type": "code",
      "source": [
        "count = df['_id'].nunique()\n",
        "print(count)"
      ],
      "metadata": {
        "colab": {
          "base_uri": "https://localhost:8080/"
        },
        "id": "o8oXOMz0ANwJ",
        "outputId": "a7ebb2be-f522-4a63-94a4-ddc4a084cfc5"
      },
      "execution_count": null,
      "outputs": [
        {
          "output_type": "stream",
          "name": "stdout",
          "text": [
            "883\n"
          ]
        }
      ]
    },
    {
      "cell_type": "code",
      "source": [
        "df.fillna(df.mean(), inplace=True) #mengisi dengan nilai rata-rata"
      ],
      "metadata": {
        "colab": {
          "base_uri": "https://localhost:8080/"
        },
        "id": "KK0ETcvZArJW",
        "outputId": "45e99f6b-46c8-4f9c-c537-db1acfab3086"
      },
      "execution_count": null,
      "outputs": [
        {
          "output_type": "stream",
          "name": "stderr",
          "text": [
            "<ipython-input-19-9598921fdd30>:1: FutureWarning: The default value of numeric_only in DataFrame.mean is deprecated. In a future version, it will default to False. In addition, specifying 'numeric_only=None' is deprecated. Select only valid columns or specify the value of numeric_only to silence this warning.\n",
            "  df.fillna(df.mean(), inplace=True) #mengisi dengan nilai rata-rata\n"
          ]
        }
      ]
    },
    {
      "cell_type": "code",
      "source": [
        "df.info()"
      ],
      "metadata": {
        "id": "at64pTPACKz3"
      },
      "execution_count": null,
      "outputs": []
    },
    {
      "cell_type": "code",
      "source": [
        "df.columns"
      ],
      "metadata": {
        "colab": {
          "base_uri": "https://localhost:8080/"
        },
        "id": "v-kFF72vkE2g",
        "outputId": "040faeb4-5234-43d0-fe42-20af5cce50f4"
      },
      "execution_count": null,
      "outputs": [
        {
          "output_type": "execute_result",
          "data": {
            "text/plain": [
              "Index(['_id', 'sector', 'idx', 'thematic', 'general_info', 'business_product',\n",
              "       'total_asset_growth', 'price_sales_ratio', 'sales_growth',\n",
              "       'quick_ratio', 'cost_of_goods_sold', 'cash_flow_per_share',\n",
              "       'net_income_growth', 'operating_profit', 'income_before_tax',\n",
              "       'total_assets', 'total_equity', 'total_liabilities',\n",
              "       'debt_to_equity_ratio', 'cash_equivalent', 'total_sales',\n",
              "       'operating_profit_margin', 'gross_profit_margin', 'net_profit_margin',\n",
              "       'net_income', 'market_cap', 'dailyReturn', 'monthlyReturn',\n",
              "       'annualReturn', 'threeYearReturn', 'fiveYearReturn', 'tenYearReturn',\n",
              "       'listedShare', 'tradableVolume', 'offerVolume', 'tradableValue',\n",
              "       'openPrice', 'closePrice', 'averagePrice', 'lastTradedPrice',\n",
              "       'lowTradedPrice', 'highTradedPrice', 'bidPrice', 'offerPrice',\n",
              "       'book_value_per_share', 'eps', 'pbv', 'roa', 'roe', 'per',\n",
              "       'description', 'underwriter', 'shareholders', 'industry'],\n",
              "      dtype='object')"
            ]
          },
          "metadata": {},
          "execution_count": 25
        }
      ]
    },
    {
      "cell_type": "code",
      "source": [
        "#yang NaN ini diisi sama ''\n",
        "df[['business_product','description', 'underwriter', 'shareholders']] = df[['business_product','description', 'underwriter', 'shareholders']].fillna('')"
      ],
      "metadata": {
        "id": "Vs-gV4o0j0FD"
      },
      "execution_count": null,
      "outputs": []
    },
    {
      "cell_type": "code",
      "source": [
        "df.info()"
      ],
      "metadata": {
        "colab": {
          "base_uri": "https://localhost:8080/"
        },
        "id": "0QxrBRdCh89g",
        "outputId": "7146df9a-0f56-4bd7-dd98-49707413503a"
      },
      "execution_count": null,
      "outputs": [
        {
          "output_type": "stream",
          "name": "stdout",
          "text": [
            "<class 'pandas.core.frame.DataFrame'>\n",
            "RangeIndex: 883 entries, 0 to 882\n",
            "Data columns (total 54 columns):\n",
            " #   Column                   Non-Null Count  Dtype  \n",
            "---  ------                   --------------  -----  \n",
            " 0   _id                      883 non-null    object \n",
            " 1   sector                   883 non-null    object \n",
            " 2   idx                      883 non-null    object \n",
            " 3   thematic                 883 non-null    object \n",
            " 4   general_info             883 non-null    object \n",
            " 5   business_product         883 non-null    object \n",
            " 6   total_asset_growth       883 non-null    float64\n",
            " 7   price_sales_ratio        883 non-null    float64\n",
            " 8   sales_growth             883 non-null    float64\n",
            " 9   quick_ratio              883 non-null    float64\n",
            " 10  cost_of_goods_sold       883 non-null    float64\n",
            " 11  cash_flow_per_share      883 non-null    float64\n",
            " 12  net_income_growth        883 non-null    float64\n",
            " 13  operating_profit         883 non-null    float64\n",
            " 14  income_before_tax        883 non-null    float64\n",
            " 15  total_assets             883 non-null    float64\n",
            " 16  total_equity             883 non-null    float64\n",
            " 17  total_liabilities        883 non-null    float64\n",
            " 18  debt_to_equity_ratio     883 non-null    float64\n",
            " 19  cash_equivalent          883 non-null    float64\n",
            " 20  total_sales              883 non-null    float64\n",
            " 21  operating_profit_margin  883 non-null    float64\n",
            " 22  gross_profit_margin      883 non-null    float64\n",
            " 23  net_profit_margin        883 non-null    float64\n",
            " 24  net_income               883 non-null    float64\n",
            " 25  market_cap               883 non-null    float64\n",
            " 26  dailyReturn              883 non-null    float64\n",
            " 27  monthlyReturn            883 non-null    float64\n",
            " 28  annualReturn             883 non-null    float64\n",
            " 29  threeYearReturn          883 non-null    float64\n",
            " 30  fiveYearReturn           883 non-null    float64\n",
            " 31  tenYearReturn            883 non-null    float64\n",
            " 32  listedShare              883 non-null    float64\n",
            " 33  tradableVolume           883 non-null    float64\n",
            " 34  offerVolume              883 non-null    float64\n",
            " 35  tradableValue            883 non-null    float64\n",
            " 36  openPrice                883 non-null    float64\n",
            " 37  closePrice               883 non-null    float64\n",
            " 38  averagePrice             883 non-null    float64\n",
            " 39  lastTradedPrice          883 non-null    float64\n",
            " 40  lowTradedPrice           883 non-null    float64\n",
            " 41  highTradedPrice          883 non-null    float64\n",
            " 42  bidPrice                 883 non-null    float64\n",
            " 43  offerPrice               883 non-null    float64\n",
            " 44  book_value_per_share     883 non-null    float64\n",
            " 45  eps                      883 non-null    float64\n",
            " 46  pbv                      883 non-null    float64\n",
            " 47  roa                      883 non-null    float64\n",
            " 48  roe                      883 non-null    float64\n",
            " 49  per                      883 non-null    float64\n",
            " 50  description              883 non-null    object \n",
            " 51  underwriter              883 non-null    object \n",
            " 52  shareholders             883 non-null    object \n",
            " 53  industry                 883 non-null    object \n",
            "dtypes: float64(44), object(10)\n",
            "memory usage: 372.6+ KB\n"
          ]
        }
      ]
    },
    {
      "cell_type": "code",
      "source": [
        "df.columns"
      ],
      "metadata": {
        "colab": {
          "base_uri": "https://localhost:8080/"
        },
        "id": "noi2Tzn7i25z",
        "outputId": "ec9e9b0d-6ee9-4316-8820-5fe962c022c0"
      },
      "execution_count": null,
      "outputs": [
        {
          "output_type": "execute_result",
          "data": {
            "text/plain": [
              "Index(['_id', 'sector', 'idx', 'thematic', 'general_info', 'business_product',\n",
              "       'total_asset_growth', 'price_sales_ratio', 'sales_growth',\n",
              "       'quick_ratio', 'cost_of_goods_sold', 'cash_flow_per_share',\n",
              "       'net_income_growth', 'operating_profit', 'income_before_tax',\n",
              "       'total_assets', 'total_equity', 'total_liabilities',\n",
              "       'debt_to_equity_ratio', 'cash_equivalent', 'total_sales',\n",
              "       'operating_profit_margin', 'gross_profit_margin', 'net_profit_margin',\n",
              "       'net_income', 'market_cap', 'dailyReturn', 'monthlyReturn',\n",
              "       'annualReturn', 'threeYearReturn', 'fiveYearReturn', 'tenYearReturn',\n",
              "       'listedShare', 'tradableVolume', 'offerVolume', 'tradableValue',\n",
              "       'openPrice', 'closePrice', 'averagePrice', 'lastTradedPrice',\n",
              "       'lowTradedPrice', 'highTradedPrice', 'bidPrice', 'offerPrice',\n",
              "       'book_value_per_share', 'eps', 'pbv', 'roa', 'roe', 'per',\n",
              "       'description', 'underwriter', 'shareholders', 'industry'],\n",
              "      dtype='object')"
            ]
          },
          "metadata": {},
          "execution_count": 23
        }
      ]
    },
    {
      "cell_type": "markdown",
      "source": [
        "# Menghapus Kolum tidak penting"
      ],
      "metadata": {
        "id": "SUNr5n56i9-s"
      }
    },
    {
      "cell_type": "code",
      "source": [
        "#aku akan menghapus semua yang float karena ini versi menggunakan bacotan okay\n",
        "columns_to_drop = ['total_asset_growth', 'price_sales_ratio', 'sales_growth',\n",
        "       'quick_ratio', 'cost_of_goods_sold', 'cash_flow_per_share',\n",
        "       'net_income_growth', 'operating_profit', 'income_before_tax',\n",
        "       'total_assets', 'total_equity', 'total_liabilities',\n",
        "       'debt_to_equity_ratio', 'cash_equivalent', 'total_sales',\n",
        "       'operating_profit_margin', 'gross_profit_margin', 'net_profit_margin',\n",
        "       'net_income', 'market_cap', 'dailyReturn', 'monthlyReturn',\n",
        "       'annualReturn', 'threeYearReturn', 'fiveYearReturn', 'tenYearReturn',\n",
        "       'listedShare', 'tradableVolume', 'offerVolume', 'tradableValue',\n",
        "       'openPrice', 'closePrice', 'averagePrice', 'lastTradedPrice',\n",
        "       'lowTradedPrice', 'highTradedPrice', 'bidPrice', 'offerPrice',\n",
        "       'book_value_per_share', 'eps', 'pbv', 'roa', 'roe', 'per']\n",
        "df = df.drop(columns=columns_to_drop)\n"
      ],
      "metadata": {
        "id": "3ryRU_sEiUmm"
      },
      "execution_count": null,
      "outputs": []
    },
    {
      "cell_type": "code",
      "source": [
        "df.head()"
      ],
      "metadata": {
        "colab": {
          "base_uri": "https://localhost:8080/",
          "height": 206
        },
        "id": "8oqzO39k38AY",
        "outputId": "4538f3c4-1e2e-49e4-f6b8-5bf4d570cef3"
      },
      "execution_count": null,
      "outputs": [
        {
          "output_type": "execute_result",
          "data": {
            "text/plain": [
              "    _id             sector                                    thematic  \\\n",
              "0  AALI   [\"Non-Siklikal\"]                                          []   \n",
              "1  ABBA       [\"Siklikal\"]                                          []   \n",
              "2  ABDA       [\"Keuangan\"]                                          []   \n",
              "3  ABMM  [\"Perindustrian\"]  [\"Value Investing\" \"Komoditas Supercycle\"]   \n",
              "4  ACES       [\"Siklikal\"]        [\"Retailer Indonesia\" \"ESG Leaders\"]   \n",
              "\n",
              "                                    business_product  \\\n",
              "0  <p>Based&#32;on&#32;the&#32;Company&#39;s&#32;...   \n",
              "1                                                      \n",
              "2  <p>The&#32;Company&#32;is&#32;engaged&#32;in&#...   \n",
              "3  <p>The&#32;Company&#39;s&#32;scope&#32;of&#32;...   \n",
              "4  <p>The&#32;Company&#39;s&#32;scope&#32;of&#32;...   \n",
              "\n",
              "                          industry  \n",
              "0         Produk Makanan Pertanian  \n",
              "1                            Media  \n",
              "2                         Asuransi  \n",
              "3  Perusahaan Holding Multi-sektor  \n",
              "4                     Ritel Khusus  "
            ],
            "text/html": [
              "\n",
              "  <div id=\"df-65973dfe-3df2-46ce-bb6a-9538c21d2f1f\">\n",
              "    <div class=\"colab-df-container\">\n",
              "      <div>\n",
              "<style scoped>\n",
              "    .dataframe tbody tr th:only-of-type {\n",
              "        vertical-align: middle;\n",
              "    }\n",
              "\n",
              "    .dataframe tbody tr th {\n",
              "        vertical-align: top;\n",
              "    }\n",
              "\n",
              "    .dataframe thead th {\n",
              "        text-align: right;\n",
              "    }\n",
              "</style>\n",
              "<table border=\"1\" class=\"dataframe\">\n",
              "  <thead>\n",
              "    <tr style=\"text-align: right;\">\n",
              "      <th></th>\n",
              "      <th>_id</th>\n",
              "      <th>sector</th>\n",
              "      <th>thematic</th>\n",
              "      <th>business_product</th>\n",
              "      <th>industry</th>\n",
              "    </tr>\n",
              "  </thead>\n",
              "  <tbody>\n",
              "    <tr>\n",
              "      <th>0</th>\n",
              "      <td>AALI</td>\n",
              "      <td>[\"Non-Siklikal\"]</td>\n",
              "      <td>[]</td>\n",
              "      <td>&lt;p&gt;Based&amp;#32;on&amp;#32;the&amp;#32;Company&amp;#39;s&amp;#32;...</td>\n",
              "      <td>Produk Makanan Pertanian</td>\n",
              "    </tr>\n",
              "    <tr>\n",
              "      <th>1</th>\n",
              "      <td>ABBA</td>\n",
              "      <td>[\"Siklikal\"]</td>\n",
              "      <td>[]</td>\n",
              "      <td></td>\n",
              "      <td>Media</td>\n",
              "    </tr>\n",
              "    <tr>\n",
              "      <th>2</th>\n",
              "      <td>ABDA</td>\n",
              "      <td>[\"Keuangan\"]</td>\n",
              "      <td>[]</td>\n",
              "      <td>&lt;p&gt;The&amp;#32;Company&amp;#32;is&amp;#32;engaged&amp;#32;in&amp;#...</td>\n",
              "      <td>Asuransi</td>\n",
              "    </tr>\n",
              "    <tr>\n",
              "      <th>3</th>\n",
              "      <td>ABMM</td>\n",
              "      <td>[\"Perindustrian\"]</td>\n",
              "      <td>[\"Value Investing\" \"Komoditas Supercycle\"]</td>\n",
              "      <td>&lt;p&gt;The&amp;#32;Company&amp;#39;s&amp;#32;scope&amp;#32;of&amp;#32;...</td>\n",
              "      <td>Perusahaan Holding Multi-sektor</td>\n",
              "    </tr>\n",
              "    <tr>\n",
              "      <th>4</th>\n",
              "      <td>ACES</td>\n",
              "      <td>[\"Siklikal\"]</td>\n",
              "      <td>[\"Retailer Indonesia\" \"ESG Leaders\"]</td>\n",
              "      <td>&lt;p&gt;The&amp;#32;Company&amp;#39;s&amp;#32;scope&amp;#32;of&amp;#32;...</td>\n",
              "      <td>Ritel Khusus</td>\n",
              "    </tr>\n",
              "  </tbody>\n",
              "</table>\n",
              "</div>\n",
              "      <button class=\"colab-df-convert\" onclick=\"convertToInteractive('df-65973dfe-3df2-46ce-bb6a-9538c21d2f1f')\"\n",
              "              title=\"Convert this dataframe to an interactive table.\"\n",
              "              style=\"display:none;\">\n",
              "        \n",
              "  <svg xmlns=\"http://www.w3.org/2000/svg\" height=\"24px\"viewBox=\"0 0 24 24\"\n",
              "       width=\"24px\">\n",
              "    <path d=\"M0 0h24v24H0V0z\" fill=\"none\"/>\n",
              "    <path d=\"M18.56 5.44l.94 2.06.94-2.06 2.06-.94-2.06-.94-.94-2.06-.94 2.06-2.06.94zm-11 1L8.5 8.5l.94-2.06 2.06-.94-2.06-.94L8.5 2.5l-.94 2.06-2.06.94zm10 10l.94 2.06.94-2.06 2.06-.94-2.06-.94-.94-2.06-.94 2.06-2.06.94z\"/><path d=\"M17.41 7.96l-1.37-1.37c-.4-.4-.92-.59-1.43-.59-.52 0-1.04.2-1.43.59L10.3 9.45l-7.72 7.72c-.78.78-.78 2.05 0 2.83L4 21.41c.39.39.9.59 1.41.59.51 0 1.02-.2 1.41-.59l7.78-7.78 2.81-2.81c.8-.78.8-2.07 0-2.86zM5.41 20L4 18.59l7.72-7.72 1.47 1.35L5.41 20z\"/>\n",
              "  </svg>\n",
              "      </button>\n",
              "      \n",
              "  <style>\n",
              "    .colab-df-container {\n",
              "      display:flex;\n",
              "      flex-wrap:wrap;\n",
              "      gap: 12px;\n",
              "    }\n",
              "\n",
              "    .colab-df-convert {\n",
              "      background-color: #E8F0FE;\n",
              "      border: none;\n",
              "      border-radius: 50%;\n",
              "      cursor: pointer;\n",
              "      display: none;\n",
              "      fill: #1967D2;\n",
              "      height: 32px;\n",
              "      padding: 0 0 0 0;\n",
              "      width: 32px;\n",
              "    }\n",
              "\n",
              "    .colab-df-convert:hover {\n",
              "      background-color: #E2EBFA;\n",
              "      box-shadow: 0px 1px 2px rgba(60, 64, 67, 0.3), 0px 1px 3px 1px rgba(60, 64, 67, 0.15);\n",
              "      fill: #174EA6;\n",
              "    }\n",
              "\n",
              "    [theme=dark] .colab-df-convert {\n",
              "      background-color: #3B4455;\n",
              "      fill: #D2E3FC;\n",
              "    }\n",
              "\n",
              "    [theme=dark] .colab-df-convert:hover {\n",
              "      background-color: #434B5C;\n",
              "      box-shadow: 0px 1px 3px 1px rgba(0, 0, 0, 0.15);\n",
              "      filter: drop-shadow(0px 1px 2px rgba(0, 0, 0, 0.3));\n",
              "      fill: #FFFFFF;\n",
              "    }\n",
              "  </style>\n",
              "\n",
              "      <script>\n",
              "        const buttonEl =\n",
              "          document.querySelector('#df-65973dfe-3df2-46ce-bb6a-9538c21d2f1f button.colab-df-convert');\n",
              "        buttonEl.style.display =\n",
              "          google.colab.kernel.accessAllowed ? 'block' : 'none';\n",
              "\n",
              "        async function convertToInteractive(key) {\n",
              "          const element = document.querySelector('#df-65973dfe-3df2-46ce-bb6a-9538c21d2f1f');\n",
              "          const dataTable =\n",
              "            await google.colab.kernel.invokeFunction('convertToInteractive',\n",
              "                                                     [key], {});\n",
              "          if (!dataTable) return;\n",
              "\n",
              "          const docLinkHtml = 'Like what you see? Visit the ' +\n",
              "            '<a target=\"_blank\" href=https://colab.research.google.com/notebooks/data_table.ipynb>data table notebook</a>'\n",
              "            + ' to learn more about interactive tables.';\n",
              "          element.innerHTML = '';\n",
              "          dataTable['output_type'] = 'display_data';\n",
              "          await google.colab.output.renderOutput(dataTable, element);\n",
              "          const docLink = document.createElement('div');\n",
              "          docLink.innerHTML = docLinkHtml;\n",
              "          element.appendChild(docLink);\n",
              "        }\n",
              "      </script>\n",
              "    </div>\n",
              "  </div>\n",
              "  "
            ]
          },
          "metadata": {},
          "execution_count": 32
        }
      ]
    },
    {
      "cell_type": "code",
      "source": [
        "#ini dihapusin karena terlihat tidak penting, sudah dicek\n",
        "columns_to_drop = ['idx','general_info','description','underwriter','shareholders']\n",
        "df = df.drop(columns=columns_to_drop)\n"
      ],
      "metadata": {
        "id": "vh_8StiAjvOB",
        "colab": {
          "base_uri": "https://localhost:8080/",
          "height": 356
        },
        "outputId": "b2031b69-d4c4-4cb5-f26d-c928d2c254b2"
      },
      "execution_count": null,
      "outputs": [
        {
          "output_type": "error",
          "ename": "KeyError",
          "evalue": "ignored",
          "traceback": [
            "\u001b[0;31m---------------------------------------------------------------------------\u001b[0m",
            "\u001b[0;31mKeyError\u001b[0m                                  Traceback (most recent call last)",
            "\u001b[0;32m<ipython-input-31-7b4e79d8cfc3>\u001b[0m in \u001b[0;36m<cell line: 3>\u001b[0;34m()\u001b[0m\n\u001b[1;32m      1\u001b[0m \u001b[0;31m#ini dihapusin karena terlihat tidak penting, sudah dicek\u001b[0m\u001b[0;34m\u001b[0m\u001b[0;34m\u001b[0m\u001b[0m\n\u001b[1;32m      2\u001b[0m \u001b[0mcolumns_to_drop\u001b[0m \u001b[0;34m=\u001b[0m \u001b[0;34m[\u001b[0m\u001b[0;34m'idx'\u001b[0m\u001b[0;34m,\u001b[0m\u001b[0;34m'general_info'\u001b[0m\u001b[0;34m,\u001b[0m\u001b[0;34m'description'\u001b[0m\u001b[0;34m,\u001b[0m\u001b[0;34m'underwriter'\u001b[0m\u001b[0;34m,\u001b[0m\u001b[0;34m'shareholders'\u001b[0m\u001b[0;34m]\u001b[0m\u001b[0;34m\u001b[0m\u001b[0;34m\u001b[0m\u001b[0m\n\u001b[0;32m----> 3\u001b[0;31m \u001b[0mdf\u001b[0m \u001b[0;34m=\u001b[0m \u001b[0mdf\u001b[0m\u001b[0;34m.\u001b[0m\u001b[0mdrop\u001b[0m\u001b[0;34m(\u001b[0m\u001b[0mcolumns\u001b[0m\u001b[0;34m=\u001b[0m\u001b[0mcolumns_to_drop\u001b[0m\u001b[0;34m)\u001b[0m\u001b[0;34m\u001b[0m\u001b[0;34m\u001b[0m\u001b[0m\n\u001b[0m",
            "\u001b[0;32m/usr/local/lib/python3.10/dist-packages/pandas/util/_decorators.py\u001b[0m in \u001b[0;36mwrapper\u001b[0;34m(*args, **kwargs)\u001b[0m\n\u001b[1;32m    329\u001b[0m                     \u001b[0mstacklevel\u001b[0m\u001b[0;34m=\u001b[0m\u001b[0mfind_stack_level\u001b[0m\u001b[0;34m(\u001b[0m\u001b[0;34m)\u001b[0m\u001b[0;34m,\u001b[0m\u001b[0;34m\u001b[0m\u001b[0;34m\u001b[0m\u001b[0m\n\u001b[1;32m    330\u001b[0m                 )\n\u001b[0;32m--> 331\u001b[0;31m             \u001b[0;32mreturn\u001b[0m \u001b[0mfunc\u001b[0m\u001b[0;34m(\u001b[0m\u001b[0;34m*\u001b[0m\u001b[0margs\u001b[0m\u001b[0;34m,\u001b[0m \u001b[0;34m**\u001b[0m\u001b[0mkwargs\u001b[0m\u001b[0;34m)\u001b[0m\u001b[0;34m\u001b[0m\u001b[0;34m\u001b[0m\u001b[0m\n\u001b[0m\u001b[1;32m    332\u001b[0m \u001b[0;34m\u001b[0m\u001b[0m\n\u001b[1;32m    333\u001b[0m         \u001b[0;31m# error: \"Callable[[VarArg(Any), KwArg(Any)], Any]\" has no\u001b[0m\u001b[0;34m\u001b[0m\u001b[0;34m\u001b[0m\u001b[0m\n",
            "\u001b[0;32m/usr/local/lib/python3.10/dist-packages/pandas/core/frame.py\u001b[0m in \u001b[0;36mdrop\u001b[0;34m(self, labels, axis, index, columns, level, inplace, errors)\u001b[0m\n\u001b[1;32m   5397\u001b[0m                 \u001b[0mweight\u001b[0m  \u001b[0;36m1.0\u001b[0m     \u001b[0;36m0.8\u001b[0m\u001b[0;34m\u001b[0m\u001b[0;34m\u001b[0m\u001b[0m\n\u001b[1;32m   5398\u001b[0m         \"\"\"\n\u001b[0;32m-> 5399\u001b[0;31m         return super().drop(\n\u001b[0m\u001b[1;32m   5400\u001b[0m             \u001b[0mlabels\u001b[0m\u001b[0;34m=\u001b[0m\u001b[0mlabels\u001b[0m\u001b[0;34m,\u001b[0m\u001b[0;34m\u001b[0m\u001b[0;34m\u001b[0m\u001b[0m\n\u001b[1;32m   5401\u001b[0m             \u001b[0maxis\u001b[0m\u001b[0;34m=\u001b[0m\u001b[0maxis\u001b[0m\u001b[0;34m,\u001b[0m\u001b[0;34m\u001b[0m\u001b[0;34m\u001b[0m\u001b[0m\n",
            "\u001b[0;32m/usr/local/lib/python3.10/dist-packages/pandas/util/_decorators.py\u001b[0m in \u001b[0;36mwrapper\u001b[0;34m(*args, **kwargs)\u001b[0m\n\u001b[1;32m    329\u001b[0m                     \u001b[0mstacklevel\u001b[0m\u001b[0;34m=\u001b[0m\u001b[0mfind_stack_level\u001b[0m\u001b[0;34m(\u001b[0m\u001b[0;34m)\u001b[0m\u001b[0;34m,\u001b[0m\u001b[0;34m\u001b[0m\u001b[0;34m\u001b[0m\u001b[0m\n\u001b[1;32m    330\u001b[0m                 )\n\u001b[0;32m--> 331\u001b[0;31m             \u001b[0;32mreturn\u001b[0m \u001b[0mfunc\u001b[0m\u001b[0;34m(\u001b[0m\u001b[0;34m*\u001b[0m\u001b[0margs\u001b[0m\u001b[0;34m,\u001b[0m \u001b[0;34m**\u001b[0m\u001b[0mkwargs\u001b[0m\u001b[0;34m)\u001b[0m\u001b[0;34m\u001b[0m\u001b[0;34m\u001b[0m\u001b[0m\n\u001b[0m\u001b[1;32m    332\u001b[0m \u001b[0;34m\u001b[0m\u001b[0m\n\u001b[1;32m    333\u001b[0m         \u001b[0;31m# error: \"Callable[[VarArg(Any), KwArg(Any)], Any]\" has no\u001b[0m\u001b[0;34m\u001b[0m\u001b[0;34m\u001b[0m\u001b[0m\n",
            "\u001b[0;32m/usr/local/lib/python3.10/dist-packages/pandas/core/generic.py\u001b[0m in \u001b[0;36mdrop\u001b[0;34m(self, labels, axis, index, columns, level, inplace, errors)\u001b[0m\n\u001b[1;32m   4503\u001b[0m         \u001b[0;32mfor\u001b[0m \u001b[0maxis\u001b[0m\u001b[0;34m,\u001b[0m \u001b[0mlabels\u001b[0m \u001b[0;32min\u001b[0m \u001b[0maxes\u001b[0m\u001b[0;34m.\u001b[0m\u001b[0mitems\u001b[0m\u001b[0;34m(\u001b[0m\u001b[0;34m)\u001b[0m\u001b[0;34m:\u001b[0m\u001b[0;34m\u001b[0m\u001b[0;34m\u001b[0m\u001b[0m\n\u001b[1;32m   4504\u001b[0m             \u001b[0;32mif\u001b[0m \u001b[0mlabels\u001b[0m \u001b[0;32mis\u001b[0m \u001b[0;32mnot\u001b[0m \u001b[0;32mNone\u001b[0m\u001b[0;34m:\u001b[0m\u001b[0;34m\u001b[0m\u001b[0;34m\u001b[0m\u001b[0m\n\u001b[0;32m-> 4505\u001b[0;31m                 \u001b[0mobj\u001b[0m \u001b[0;34m=\u001b[0m \u001b[0mobj\u001b[0m\u001b[0;34m.\u001b[0m\u001b[0m_drop_axis\u001b[0m\u001b[0;34m(\u001b[0m\u001b[0mlabels\u001b[0m\u001b[0;34m,\u001b[0m \u001b[0maxis\u001b[0m\u001b[0;34m,\u001b[0m \u001b[0mlevel\u001b[0m\u001b[0;34m=\u001b[0m\u001b[0mlevel\u001b[0m\u001b[0;34m,\u001b[0m \u001b[0merrors\u001b[0m\u001b[0;34m=\u001b[0m\u001b[0merrors\u001b[0m\u001b[0;34m)\u001b[0m\u001b[0;34m\u001b[0m\u001b[0;34m\u001b[0m\u001b[0m\n\u001b[0m\u001b[1;32m   4506\u001b[0m \u001b[0;34m\u001b[0m\u001b[0m\n\u001b[1;32m   4507\u001b[0m         \u001b[0;32mif\u001b[0m \u001b[0minplace\u001b[0m\u001b[0;34m:\u001b[0m\u001b[0;34m\u001b[0m\u001b[0;34m\u001b[0m\u001b[0m\n",
            "\u001b[0;32m/usr/local/lib/python3.10/dist-packages/pandas/core/generic.py\u001b[0m in \u001b[0;36m_drop_axis\u001b[0;34m(self, labels, axis, level, errors, only_slice)\u001b[0m\n\u001b[1;32m   4544\u001b[0m                 \u001b[0mnew_axis\u001b[0m \u001b[0;34m=\u001b[0m \u001b[0maxis\u001b[0m\u001b[0;34m.\u001b[0m\u001b[0mdrop\u001b[0m\u001b[0;34m(\u001b[0m\u001b[0mlabels\u001b[0m\u001b[0;34m,\u001b[0m \u001b[0mlevel\u001b[0m\u001b[0;34m=\u001b[0m\u001b[0mlevel\u001b[0m\u001b[0;34m,\u001b[0m \u001b[0merrors\u001b[0m\u001b[0;34m=\u001b[0m\u001b[0merrors\u001b[0m\u001b[0;34m)\u001b[0m\u001b[0;34m\u001b[0m\u001b[0;34m\u001b[0m\u001b[0m\n\u001b[1;32m   4545\u001b[0m             \u001b[0;32melse\u001b[0m\u001b[0;34m:\u001b[0m\u001b[0;34m\u001b[0m\u001b[0;34m\u001b[0m\u001b[0m\n\u001b[0;32m-> 4546\u001b[0;31m                 \u001b[0mnew_axis\u001b[0m \u001b[0;34m=\u001b[0m \u001b[0maxis\u001b[0m\u001b[0;34m.\u001b[0m\u001b[0mdrop\u001b[0m\u001b[0;34m(\u001b[0m\u001b[0mlabels\u001b[0m\u001b[0;34m,\u001b[0m \u001b[0merrors\u001b[0m\u001b[0;34m=\u001b[0m\u001b[0merrors\u001b[0m\u001b[0;34m)\u001b[0m\u001b[0;34m\u001b[0m\u001b[0;34m\u001b[0m\u001b[0m\n\u001b[0m\u001b[1;32m   4547\u001b[0m             \u001b[0mindexer\u001b[0m \u001b[0;34m=\u001b[0m \u001b[0maxis\u001b[0m\u001b[0;34m.\u001b[0m\u001b[0mget_indexer\u001b[0m\u001b[0;34m(\u001b[0m\u001b[0mnew_axis\u001b[0m\u001b[0;34m)\u001b[0m\u001b[0;34m\u001b[0m\u001b[0;34m\u001b[0m\u001b[0m\n\u001b[1;32m   4548\u001b[0m \u001b[0;34m\u001b[0m\u001b[0m\n",
            "\u001b[0;32m/usr/local/lib/python3.10/dist-packages/pandas/core/indexes/base.py\u001b[0m in \u001b[0;36mdrop\u001b[0;34m(self, labels, errors)\u001b[0m\n\u001b[1;32m   6932\u001b[0m         \u001b[0;32mif\u001b[0m \u001b[0mmask\u001b[0m\u001b[0;34m.\u001b[0m\u001b[0many\u001b[0m\u001b[0;34m(\u001b[0m\u001b[0;34m)\u001b[0m\u001b[0;34m:\u001b[0m\u001b[0;34m\u001b[0m\u001b[0;34m\u001b[0m\u001b[0m\n\u001b[1;32m   6933\u001b[0m             \u001b[0;32mif\u001b[0m \u001b[0merrors\u001b[0m \u001b[0;34m!=\u001b[0m \u001b[0;34m\"ignore\"\u001b[0m\u001b[0;34m:\u001b[0m\u001b[0;34m\u001b[0m\u001b[0;34m\u001b[0m\u001b[0m\n\u001b[0;32m-> 6934\u001b[0;31m                 \u001b[0;32mraise\u001b[0m \u001b[0mKeyError\u001b[0m\u001b[0;34m(\u001b[0m\u001b[0;34mf\"{list(labels[mask])} not found in axis\"\u001b[0m\u001b[0;34m)\u001b[0m\u001b[0;34m\u001b[0m\u001b[0;34m\u001b[0m\u001b[0m\n\u001b[0m\u001b[1;32m   6935\u001b[0m             \u001b[0mindexer\u001b[0m \u001b[0;34m=\u001b[0m \u001b[0mindexer\u001b[0m\u001b[0;34m[\u001b[0m\u001b[0;34m~\u001b[0m\u001b[0mmask\u001b[0m\u001b[0;34m]\u001b[0m\u001b[0;34m\u001b[0m\u001b[0;34m\u001b[0m\u001b[0m\n\u001b[1;32m   6936\u001b[0m         \u001b[0;32mreturn\u001b[0m \u001b[0mself\u001b[0m\u001b[0;34m.\u001b[0m\u001b[0mdelete\u001b[0m\u001b[0;34m(\u001b[0m\u001b[0mindexer\u001b[0m\u001b[0;34m)\u001b[0m\u001b[0;34m\u001b[0m\u001b[0;34m\u001b[0m\u001b[0m\n",
            "\u001b[0;31mKeyError\u001b[0m: \"['idx', 'general_info', 'description', 'underwriter', 'shareholders'] not found in axis\""
          ]
        }
      ]
    },
    {
      "cell_type": "code",
      "source": [
        "df.head(1)"
      ],
      "metadata": {
        "colab": {
          "base_uri": "https://localhost:8080/",
          "height": 80
        },
        "id": "9JSzkRggiUqG",
        "outputId": "1d250f0a-e8dd-40d6-84a4-b2189b7b1c86"
      },
      "execution_count": null,
      "outputs": [
        {
          "output_type": "execute_result",
          "data": {
            "text/plain": [
              "    _id            sector thematic  \\\n",
              "0  AALI  [\"Non-Siklikal\"]       []   \n",
              "\n",
              "                                    business_product                  industry  \n",
              "0  <p>Based&#32;on&#32;the&#32;Company&#39;s&#32;...  Produk Makanan Pertanian  "
            ],
            "text/html": [
              "\n",
              "  <div id=\"df-1278556d-47a4-460f-87fb-119607260e56\">\n",
              "    <div class=\"colab-df-container\">\n",
              "      <div>\n",
              "<style scoped>\n",
              "    .dataframe tbody tr th:only-of-type {\n",
              "        vertical-align: middle;\n",
              "    }\n",
              "\n",
              "    .dataframe tbody tr th {\n",
              "        vertical-align: top;\n",
              "    }\n",
              "\n",
              "    .dataframe thead th {\n",
              "        text-align: right;\n",
              "    }\n",
              "</style>\n",
              "<table border=\"1\" class=\"dataframe\">\n",
              "  <thead>\n",
              "    <tr style=\"text-align: right;\">\n",
              "      <th></th>\n",
              "      <th>_id</th>\n",
              "      <th>sector</th>\n",
              "      <th>thematic</th>\n",
              "      <th>business_product</th>\n",
              "      <th>industry</th>\n",
              "    </tr>\n",
              "  </thead>\n",
              "  <tbody>\n",
              "    <tr>\n",
              "      <th>0</th>\n",
              "      <td>AALI</td>\n",
              "      <td>[\"Non-Siklikal\"]</td>\n",
              "      <td>[]</td>\n",
              "      <td>&lt;p&gt;Based&amp;#32;on&amp;#32;the&amp;#32;Company&amp;#39;s&amp;#32;...</td>\n",
              "      <td>Produk Makanan Pertanian</td>\n",
              "    </tr>\n",
              "  </tbody>\n",
              "</table>\n",
              "</div>\n",
              "      <button class=\"colab-df-convert\" onclick=\"convertToInteractive('df-1278556d-47a4-460f-87fb-119607260e56')\"\n",
              "              title=\"Convert this dataframe to an interactive table.\"\n",
              "              style=\"display:none;\">\n",
              "        \n",
              "  <svg xmlns=\"http://www.w3.org/2000/svg\" height=\"24px\"viewBox=\"0 0 24 24\"\n",
              "       width=\"24px\">\n",
              "    <path d=\"M0 0h24v24H0V0z\" fill=\"none\"/>\n",
              "    <path d=\"M18.56 5.44l.94 2.06.94-2.06 2.06-.94-2.06-.94-.94-2.06-.94 2.06-2.06.94zm-11 1L8.5 8.5l.94-2.06 2.06-.94-2.06-.94L8.5 2.5l-.94 2.06-2.06.94zm10 10l.94 2.06.94-2.06 2.06-.94-2.06-.94-.94-2.06-.94 2.06-2.06.94z\"/><path d=\"M17.41 7.96l-1.37-1.37c-.4-.4-.92-.59-1.43-.59-.52 0-1.04.2-1.43.59L10.3 9.45l-7.72 7.72c-.78.78-.78 2.05 0 2.83L4 21.41c.39.39.9.59 1.41.59.51 0 1.02-.2 1.41-.59l7.78-7.78 2.81-2.81c.8-.78.8-2.07 0-2.86zM5.41 20L4 18.59l7.72-7.72 1.47 1.35L5.41 20z\"/>\n",
              "  </svg>\n",
              "      </button>\n",
              "      \n",
              "  <style>\n",
              "    .colab-df-container {\n",
              "      display:flex;\n",
              "      flex-wrap:wrap;\n",
              "      gap: 12px;\n",
              "    }\n",
              "\n",
              "    .colab-df-convert {\n",
              "      background-color: #E8F0FE;\n",
              "      border: none;\n",
              "      border-radius: 50%;\n",
              "      cursor: pointer;\n",
              "      display: none;\n",
              "      fill: #1967D2;\n",
              "      height: 32px;\n",
              "      padding: 0 0 0 0;\n",
              "      width: 32px;\n",
              "    }\n",
              "\n",
              "    .colab-df-convert:hover {\n",
              "      background-color: #E2EBFA;\n",
              "      box-shadow: 0px 1px 2px rgba(60, 64, 67, 0.3), 0px 1px 3px 1px rgba(60, 64, 67, 0.15);\n",
              "      fill: #174EA6;\n",
              "    }\n",
              "\n",
              "    [theme=dark] .colab-df-convert {\n",
              "      background-color: #3B4455;\n",
              "      fill: #D2E3FC;\n",
              "    }\n",
              "\n",
              "    [theme=dark] .colab-df-convert:hover {\n",
              "      background-color: #434B5C;\n",
              "      box-shadow: 0px 1px 3px 1px rgba(0, 0, 0, 0.15);\n",
              "      filter: drop-shadow(0px 1px 2px rgba(0, 0, 0, 0.3));\n",
              "      fill: #FFFFFF;\n",
              "    }\n",
              "  </style>\n",
              "\n",
              "      <script>\n",
              "        const buttonEl =\n",
              "          document.querySelector('#df-1278556d-47a4-460f-87fb-119607260e56 button.colab-df-convert');\n",
              "        buttonEl.style.display =\n",
              "          google.colab.kernel.accessAllowed ? 'block' : 'none';\n",
              "\n",
              "        async function convertToInteractive(key) {\n",
              "          const element = document.querySelector('#df-1278556d-47a4-460f-87fb-119607260e56');\n",
              "          const dataTable =\n",
              "            await google.colab.kernel.invokeFunction('convertToInteractive',\n",
              "                                                     [key], {});\n",
              "          if (!dataTable) return;\n",
              "\n",
              "          const docLinkHtml = 'Like what you see? Visit the ' +\n",
              "            '<a target=\"_blank\" href=https://colab.research.google.com/notebooks/data_table.ipynb>data table notebook</a>'\n",
              "            + ' to learn more about interactive tables.';\n",
              "          element.innerHTML = '';\n",
              "          dataTable['output_type'] = 'display_data';\n",
              "          await google.colab.output.renderOutput(dataTable, element);\n",
              "          const docLink = document.createElement('div');\n",
              "          docLink.innerHTML = docLinkHtml;\n",
              "          element.appendChild(docLink);\n",
              "        }\n",
              "      </script>\n",
              "    </div>\n",
              "  </div>\n",
              "  "
            ]
          },
          "metadata": {},
          "execution_count": 33
        }
      ]
    },
    {
      "cell_type": "markdown",
      "source": [
        "# Pengolahan Lebih lanjut"
      ],
      "metadata": {
        "id": "TpnlboySj_I8"
      }
    },
    {
      "cell_type": "code",
      "source": [
        "#menjadikan _id menjadi index\n",
        "df.set_index('_id', inplace = True)\n",
        "df.head()"
      ],
      "metadata": {
        "colab": {
          "base_uri": "https://localhost:8080/",
          "height": 237
        },
        "id": "NnlGFvLg9S8f",
        "outputId": "872eec65-9f6f-49d2-c515-5fb21c33b6c0"
      },
      "execution_count": null,
      "outputs": [
        {
          "output_type": "execute_result",
          "data": {
            "text/plain": [
              "                 sector                                    thematic  \\\n",
              "_id                                                                   \n",
              "AALI   [\"Non-Siklikal\"]                                          []   \n",
              "ABBA       [\"Siklikal\"]                                          []   \n",
              "ABDA       [\"Keuangan\"]                                          []   \n",
              "ABMM  [\"Perindustrian\"]  [\"Value Investing\" \"Komoditas Supercycle\"]   \n",
              "ACES       [\"Siklikal\"]        [\"Retailer Indonesia\" \"ESG Leaders\"]   \n",
              "\n",
              "                                       business_product  \\\n",
              "_id                                                       \n",
              "AALI  <p>Based&#32;on&#32;the&#32;Company&#39;s&#32;...   \n",
              "ABBA                                                      \n",
              "ABDA  <p>The&#32;Company&#32;is&#32;engaged&#32;in&#...   \n",
              "ABMM  <p>The&#32;Company&#39;s&#32;scope&#32;of&#32;...   \n",
              "ACES  <p>The&#32;Company&#39;s&#32;scope&#32;of&#32;...   \n",
              "\n",
              "                             industry  \n",
              "_id                                    \n",
              "AALI         Produk Makanan Pertanian  \n",
              "ABBA                            Media  \n",
              "ABDA                         Asuransi  \n",
              "ABMM  Perusahaan Holding Multi-sektor  \n",
              "ACES                     Ritel Khusus  "
            ],
            "text/html": [
              "\n",
              "  <div id=\"df-bdfeb441-6132-4268-87ed-936cb4b9697a\">\n",
              "    <div class=\"colab-df-container\">\n",
              "      <div>\n",
              "<style scoped>\n",
              "    .dataframe tbody tr th:only-of-type {\n",
              "        vertical-align: middle;\n",
              "    }\n",
              "\n",
              "    .dataframe tbody tr th {\n",
              "        vertical-align: top;\n",
              "    }\n",
              "\n",
              "    .dataframe thead th {\n",
              "        text-align: right;\n",
              "    }\n",
              "</style>\n",
              "<table border=\"1\" class=\"dataframe\">\n",
              "  <thead>\n",
              "    <tr style=\"text-align: right;\">\n",
              "      <th></th>\n",
              "      <th>sector</th>\n",
              "      <th>thematic</th>\n",
              "      <th>business_product</th>\n",
              "      <th>industry</th>\n",
              "    </tr>\n",
              "    <tr>\n",
              "      <th>_id</th>\n",
              "      <th></th>\n",
              "      <th></th>\n",
              "      <th></th>\n",
              "      <th></th>\n",
              "    </tr>\n",
              "  </thead>\n",
              "  <tbody>\n",
              "    <tr>\n",
              "      <th>AALI</th>\n",
              "      <td>[\"Non-Siklikal\"]</td>\n",
              "      <td>[]</td>\n",
              "      <td>&lt;p&gt;Based&amp;#32;on&amp;#32;the&amp;#32;Company&amp;#39;s&amp;#32;...</td>\n",
              "      <td>Produk Makanan Pertanian</td>\n",
              "    </tr>\n",
              "    <tr>\n",
              "      <th>ABBA</th>\n",
              "      <td>[\"Siklikal\"]</td>\n",
              "      <td>[]</td>\n",
              "      <td></td>\n",
              "      <td>Media</td>\n",
              "    </tr>\n",
              "    <tr>\n",
              "      <th>ABDA</th>\n",
              "      <td>[\"Keuangan\"]</td>\n",
              "      <td>[]</td>\n",
              "      <td>&lt;p&gt;The&amp;#32;Company&amp;#32;is&amp;#32;engaged&amp;#32;in&amp;#...</td>\n",
              "      <td>Asuransi</td>\n",
              "    </tr>\n",
              "    <tr>\n",
              "      <th>ABMM</th>\n",
              "      <td>[\"Perindustrian\"]</td>\n",
              "      <td>[\"Value Investing\" \"Komoditas Supercycle\"]</td>\n",
              "      <td>&lt;p&gt;The&amp;#32;Company&amp;#39;s&amp;#32;scope&amp;#32;of&amp;#32;...</td>\n",
              "      <td>Perusahaan Holding Multi-sektor</td>\n",
              "    </tr>\n",
              "    <tr>\n",
              "      <th>ACES</th>\n",
              "      <td>[\"Siklikal\"]</td>\n",
              "      <td>[\"Retailer Indonesia\" \"ESG Leaders\"]</td>\n",
              "      <td>&lt;p&gt;The&amp;#32;Company&amp;#39;s&amp;#32;scope&amp;#32;of&amp;#32;...</td>\n",
              "      <td>Ritel Khusus</td>\n",
              "    </tr>\n",
              "  </tbody>\n",
              "</table>\n",
              "</div>\n",
              "      <button class=\"colab-df-convert\" onclick=\"convertToInteractive('df-bdfeb441-6132-4268-87ed-936cb4b9697a')\"\n",
              "              title=\"Convert this dataframe to an interactive table.\"\n",
              "              style=\"display:none;\">\n",
              "        \n",
              "  <svg xmlns=\"http://www.w3.org/2000/svg\" height=\"24px\"viewBox=\"0 0 24 24\"\n",
              "       width=\"24px\">\n",
              "    <path d=\"M0 0h24v24H0V0z\" fill=\"none\"/>\n",
              "    <path d=\"M18.56 5.44l.94 2.06.94-2.06 2.06-.94-2.06-.94-.94-2.06-.94 2.06-2.06.94zm-11 1L8.5 8.5l.94-2.06 2.06-.94-2.06-.94L8.5 2.5l-.94 2.06-2.06.94zm10 10l.94 2.06.94-2.06 2.06-.94-2.06-.94-.94-2.06-.94 2.06-2.06.94z\"/><path d=\"M17.41 7.96l-1.37-1.37c-.4-.4-.92-.59-1.43-.59-.52 0-1.04.2-1.43.59L10.3 9.45l-7.72 7.72c-.78.78-.78 2.05 0 2.83L4 21.41c.39.39.9.59 1.41.59.51 0 1.02-.2 1.41-.59l7.78-7.78 2.81-2.81c.8-.78.8-2.07 0-2.86zM5.41 20L4 18.59l7.72-7.72 1.47 1.35L5.41 20z\"/>\n",
              "  </svg>\n",
              "      </button>\n",
              "      \n",
              "  <style>\n",
              "    .colab-df-container {\n",
              "      display:flex;\n",
              "      flex-wrap:wrap;\n",
              "      gap: 12px;\n",
              "    }\n",
              "\n",
              "    .colab-df-convert {\n",
              "      background-color: #E8F0FE;\n",
              "      border: none;\n",
              "      border-radius: 50%;\n",
              "      cursor: pointer;\n",
              "      display: none;\n",
              "      fill: #1967D2;\n",
              "      height: 32px;\n",
              "      padding: 0 0 0 0;\n",
              "      width: 32px;\n",
              "    }\n",
              "\n",
              "    .colab-df-convert:hover {\n",
              "      background-color: #E2EBFA;\n",
              "      box-shadow: 0px 1px 2px rgba(60, 64, 67, 0.3), 0px 1px 3px 1px rgba(60, 64, 67, 0.15);\n",
              "      fill: #174EA6;\n",
              "    }\n",
              "\n",
              "    [theme=dark] .colab-df-convert {\n",
              "      background-color: #3B4455;\n",
              "      fill: #D2E3FC;\n",
              "    }\n",
              "\n",
              "    [theme=dark] .colab-df-convert:hover {\n",
              "      background-color: #434B5C;\n",
              "      box-shadow: 0px 1px 3px 1px rgba(0, 0, 0, 0.15);\n",
              "      filter: drop-shadow(0px 1px 2px rgba(0, 0, 0, 0.3));\n",
              "      fill: #FFFFFF;\n",
              "    }\n",
              "  </style>\n",
              "\n",
              "      <script>\n",
              "        const buttonEl =\n",
              "          document.querySelector('#df-bdfeb441-6132-4268-87ed-936cb4b9697a button.colab-df-convert');\n",
              "        buttonEl.style.display =\n",
              "          google.colab.kernel.accessAllowed ? 'block' : 'none';\n",
              "\n",
              "        async function convertToInteractive(key) {\n",
              "          const element = document.querySelector('#df-bdfeb441-6132-4268-87ed-936cb4b9697a');\n",
              "          const dataTable =\n",
              "            await google.colab.kernel.invokeFunction('convertToInteractive',\n",
              "                                                     [key], {});\n",
              "          if (!dataTable) return;\n",
              "\n",
              "          const docLinkHtml = 'Like what you see? Visit the ' +\n",
              "            '<a target=\"_blank\" href=https://colab.research.google.com/notebooks/data_table.ipynb>data table notebook</a>'\n",
              "            + ' to learn more about interactive tables.';\n",
              "          element.innerHTML = '';\n",
              "          dataTable['output_type'] = 'display_data';\n",
              "          await google.colab.output.renderOutput(dataTable, element);\n",
              "          const docLink = document.createElement('div');\n",
              "          docLink.innerHTML = docLinkHtml;\n",
              "          element.appendChild(docLink);\n",
              "        }\n",
              "      </script>\n",
              "    </div>\n",
              "  </div>\n",
              "  "
            ]
          },
          "metadata": {},
          "execution_count": 34
        }
      ]
    },
    {
      "cell_type": "code",
      "source": [
        "#bacot ah HTML HTMLan, hapus, musnahkan\n",
        "def html_to_string(html_code):\n",
        "    soup = BeautifulSoup(html_code, 'html.parser')\n",
        "    return soup.get_text()\n"
      ],
      "metadata": {
        "id": "L6IwIDTgjPu7"
      },
      "execution_count": null,
      "outputs": []
    },
    {
      "cell_type": "code",
      "source": [
        "df['business_product'] = df['business_product'].apply(html_to_string)"
      ],
      "metadata": {
        "id": "QxpZZ3KfktOH"
      },
      "execution_count": null,
      "outputs": []
    },
    {
      "cell_type": "code",
      "source": [
        "df.head()"
      ],
      "metadata": {
        "colab": {
          "base_uri": "https://localhost:8080/",
          "height": 237
        },
        "id": "a1IxmFnQkp5E",
        "outputId": "414c8c1a-f7af-44f4-d61e-fb66629e8011"
      },
      "execution_count": null,
      "outputs": [
        {
          "output_type": "execute_result",
          "data": {
            "text/plain": [
              "                 sector                                    thematic  \\\n",
              "_id                                                                   \n",
              "AALI   [\"Non-Siklikal\"]                                          []   \n",
              "ABBA       [\"Siklikal\"]                                          []   \n",
              "ABDA       [\"Keuangan\"]                                          []   \n",
              "ABMM  [\"Perindustrian\"]  [\"Value Investing\" \"Komoditas Supercycle\"]   \n",
              "ACES       [\"Siklikal\"]        [\"Retailer Indonesia\" \"ESG Leaders\"]   \n",
              "\n",
              "                                       business_product  \\\n",
              "_id                                                       \n",
              "AALI  Based on the Company's articles of association...   \n",
              "ABBA                                                      \n",
              "ABDA  The Company is engaged in general insurance bu...   \n",
              "ABMM  The Company's scope of activities are conducti...   \n",
              "ACES  The Company's scope of activities consist of g...   \n",
              "\n",
              "                             industry  \n",
              "_id                                    \n",
              "AALI         Produk Makanan Pertanian  \n",
              "ABBA                            Media  \n",
              "ABDA                         Asuransi  \n",
              "ABMM  Perusahaan Holding Multi-sektor  \n",
              "ACES                     Ritel Khusus  "
            ],
            "text/html": [
              "\n",
              "  <div id=\"df-7bb93eb4-0633-45e3-945e-36c4b2c84264\">\n",
              "    <div class=\"colab-df-container\">\n",
              "      <div>\n",
              "<style scoped>\n",
              "    .dataframe tbody tr th:only-of-type {\n",
              "        vertical-align: middle;\n",
              "    }\n",
              "\n",
              "    .dataframe tbody tr th {\n",
              "        vertical-align: top;\n",
              "    }\n",
              "\n",
              "    .dataframe thead th {\n",
              "        text-align: right;\n",
              "    }\n",
              "</style>\n",
              "<table border=\"1\" class=\"dataframe\">\n",
              "  <thead>\n",
              "    <tr style=\"text-align: right;\">\n",
              "      <th></th>\n",
              "      <th>sector</th>\n",
              "      <th>thematic</th>\n",
              "      <th>business_product</th>\n",
              "      <th>industry</th>\n",
              "    </tr>\n",
              "    <tr>\n",
              "      <th>_id</th>\n",
              "      <th></th>\n",
              "      <th></th>\n",
              "      <th></th>\n",
              "      <th></th>\n",
              "    </tr>\n",
              "  </thead>\n",
              "  <tbody>\n",
              "    <tr>\n",
              "      <th>AALI</th>\n",
              "      <td>[\"Non-Siklikal\"]</td>\n",
              "      <td>[]</td>\n",
              "      <td>Based on the Company's articles of association...</td>\n",
              "      <td>Produk Makanan Pertanian</td>\n",
              "    </tr>\n",
              "    <tr>\n",
              "      <th>ABBA</th>\n",
              "      <td>[\"Siklikal\"]</td>\n",
              "      <td>[]</td>\n",
              "      <td></td>\n",
              "      <td>Media</td>\n",
              "    </tr>\n",
              "    <tr>\n",
              "      <th>ABDA</th>\n",
              "      <td>[\"Keuangan\"]</td>\n",
              "      <td>[]</td>\n",
              "      <td>The Company is engaged in general insurance bu...</td>\n",
              "      <td>Asuransi</td>\n",
              "    </tr>\n",
              "    <tr>\n",
              "      <th>ABMM</th>\n",
              "      <td>[\"Perindustrian\"]</td>\n",
              "      <td>[\"Value Investing\" \"Komoditas Supercycle\"]</td>\n",
              "      <td>The Company's scope of activities are conducti...</td>\n",
              "      <td>Perusahaan Holding Multi-sektor</td>\n",
              "    </tr>\n",
              "    <tr>\n",
              "      <th>ACES</th>\n",
              "      <td>[\"Siklikal\"]</td>\n",
              "      <td>[\"Retailer Indonesia\" \"ESG Leaders\"]</td>\n",
              "      <td>The Company's scope of activities consist of g...</td>\n",
              "      <td>Ritel Khusus</td>\n",
              "    </tr>\n",
              "  </tbody>\n",
              "</table>\n",
              "</div>\n",
              "      <button class=\"colab-df-convert\" onclick=\"convertToInteractive('df-7bb93eb4-0633-45e3-945e-36c4b2c84264')\"\n",
              "              title=\"Convert this dataframe to an interactive table.\"\n",
              "              style=\"display:none;\">\n",
              "        \n",
              "  <svg xmlns=\"http://www.w3.org/2000/svg\" height=\"24px\"viewBox=\"0 0 24 24\"\n",
              "       width=\"24px\">\n",
              "    <path d=\"M0 0h24v24H0V0z\" fill=\"none\"/>\n",
              "    <path d=\"M18.56 5.44l.94 2.06.94-2.06 2.06-.94-2.06-.94-.94-2.06-.94 2.06-2.06.94zm-11 1L8.5 8.5l.94-2.06 2.06-.94-2.06-.94L8.5 2.5l-.94 2.06-2.06.94zm10 10l.94 2.06.94-2.06 2.06-.94-2.06-.94-.94-2.06-.94 2.06-2.06.94z\"/><path d=\"M17.41 7.96l-1.37-1.37c-.4-.4-.92-.59-1.43-.59-.52 0-1.04.2-1.43.59L10.3 9.45l-7.72 7.72c-.78.78-.78 2.05 0 2.83L4 21.41c.39.39.9.59 1.41.59.51 0 1.02-.2 1.41-.59l7.78-7.78 2.81-2.81c.8-.78.8-2.07 0-2.86zM5.41 20L4 18.59l7.72-7.72 1.47 1.35L5.41 20z\"/>\n",
              "  </svg>\n",
              "      </button>\n",
              "      \n",
              "  <style>\n",
              "    .colab-df-container {\n",
              "      display:flex;\n",
              "      flex-wrap:wrap;\n",
              "      gap: 12px;\n",
              "    }\n",
              "\n",
              "    .colab-df-convert {\n",
              "      background-color: #E8F0FE;\n",
              "      border: none;\n",
              "      border-radius: 50%;\n",
              "      cursor: pointer;\n",
              "      display: none;\n",
              "      fill: #1967D2;\n",
              "      height: 32px;\n",
              "      padding: 0 0 0 0;\n",
              "      width: 32px;\n",
              "    }\n",
              "\n",
              "    .colab-df-convert:hover {\n",
              "      background-color: #E2EBFA;\n",
              "      box-shadow: 0px 1px 2px rgba(60, 64, 67, 0.3), 0px 1px 3px 1px rgba(60, 64, 67, 0.15);\n",
              "      fill: #174EA6;\n",
              "    }\n",
              "\n",
              "    [theme=dark] .colab-df-convert {\n",
              "      background-color: #3B4455;\n",
              "      fill: #D2E3FC;\n",
              "    }\n",
              "\n",
              "    [theme=dark] .colab-df-convert:hover {\n",
              "      background-color: #434B5C;\n",
              "      box-shadow: 0px 1px 3px 1px rgba(0, 0, 0, 0.15);\n",
              "      filter: drop-shadow(0px 1px 2px rgba(0, 0, 0, 0.3));\n",
              "      fill: #FFFFFF;\n",
              "    }\n",
              "  </style>\n",
              "\n",
              "      <script>\n",
              "        const buttonEl =\n",
              "          document.querySelector('#df-7bb93eb4-0633-45e3-945e-36c4b2c84264 button.colab-df-convert');\n",
              "        buttonEl.style.display =\n",
              "          google.colab.kernel.accessAllowed ? 'block' : 'none';\n",
              "\n",
              "        async function convertToInteractive(key) {\n",
              "          const element = document.querySelector('#df-7bb93eb4-0633-45e3-945e-36c4b2c84264');\n",
              "          const dataTable =\n",
              "            await google.colab.kernel.invokeFunction('convertToInteractive',\n",
              "                                                     [key], {});\n",
              "          if (!dataTable) return;\n",
              "\n",
              "          const docLinkHtml = 'Like what you see? Visit the ' +\n",
              "            '<a target=\"_blank\" href=https://colab.research.google.com/notebooks/data_table.ipynb>data table notebook</a>'\n",
              "            + ' to learn more about interactive tables.';\n",
              "          element.innerHTML = '';\n",
              "          dataTable['output_type'] = 'display_data';\n",
              "          await google.colab.output.renderOutput(dataTable, element);\n",
              "          const docLink = document.createElement('div');\n",
              "          docLink.innerHTML = docLinkHtml;\n",
              "          element.appendChild(docLink);\n",
              "        }\n",
              "      </script>\n",
              "    </div>\n",
              "  </div>\n",
              "  "
            ]
          },
          "metadata": {},
          "execution_count": 37
        }
      ]
    },
    {
      "cell_type": "code",
      "source": [
        "df['business_product'][0]"
      ],
      "metadata": {
        "colab": {
          "base_uri": "https://localhost:8080/",
          "height": 54
        },
        "id": "hvquvULul56e",
        "outputId": "c06dd725-8cff-4922-8b9c-4f1928635d1c"
      },
      "execution_count": null,
      "outputs": [
        {
          "output_type": "execute_result",
          "data": {
            "text/plain": [
              "\"Based on the Company's articles of association, the scope of its activities is to engage in plantation operation, general trading, manufacturing, transportation, consultation and services.\""
            ],
            "application/vnd.google.colaboratory.intrinsic+json": {
              "type": "string"
            }
          },
          "metadata": {},
          "execution_count": 38
        }
      ]
    },
    {
      "cell_type": "markdown",
      "source": [],
      "metadata": {
        "id": "pQLyA1JNX4dw"
      }
    },
    {
      "cell_type": "code",
      "source": [
        "df.head(1)"
      ],
      "metadata": {
        "colab": {
          "base_uri": "https://localhost:8080/",
          "height": 112
        },
        "id": "L8CxhsYDmEzw",
        "outputId": "77122494-d76a-48b0-c331-ff02700767e3"
      },
      "execution_count": null,
      "outputs": [
        {
          "output_type": "execute_result",
          "data": {
            "text/plain": [
              "                sector thematic  \\\n",
              "_id                               \n",
              "AALI  [\"Non-Siklikal\"]       []   \n",
              "\n",
              "                                       business_product  \\\n",
              "_id                                                       \n",
              "AALI  Based on the Company's articles of association...   \n",
              "\n",
              "                      industry  \n",
              "_id                             \n",
              "AALI  Produk Makanan Pertanian  "
            ],
            "text/html": [
              "\n",
              "  <div id=\"df-77d4f242-a8ac-4c01-87d6-679ff58a4f87\">\n",
              "    <div class=\"colab-df-container\">\n",
              "      <div>\n",
              "<style scoped>\n",
              "    .dataframe tbody tr th:only-of-type {\n",
              "        vertical-align: middle;\n",
              "    }\n",
              "\n",
              "    .dataframe tbody tr th {\n",
              "        vertical-align: top;\n",
              "    }\n",
              "\n",
              "    .dataframe thead th {\n",
              "        text-align: right;\n",
              "    }\n",
              "</style>\n",
              "<table border=\"1\" class=\"dataframe\">\n",
              "  <thead>\n",
              "    <tr style=\"text-align: right;\">\n",
              "      <th></th>\n",
              "      <th>sector</th>\n",
              "      <th>thematic</th>\n",
              "      <th>business_product</th>\n",
              "      <th>industry</th>\n",
              "    </tr>\n",
              "    <tr>\n",
              "      <th>_id</th>\n",
              "      <th></th>\n",
              "      <th></th>\n",
              "      <th></th>\n",
              "      <th></th>\n",
              "    </tr>\n",
              "  </thead>\n",
              "  <tbody>\n",
              "    <tr>\n",
              "      <th>AALI</th>\n",
              "      <td>[\"Non-Siklikal\"]</td>\n",
              "      <td>[]</td>\n",
              "      <td>Based on the Company's articles of association...</td>\n",
              "      <td>Produk Makanan Pertanian</td>\n",
              "    </tr>\n",
              "  </tbody>\n",
              "</table>\n",
              "</div>\n",
              "      <button class=\"colab-df-convert\" onclick=\"convertToInteractive('df-77d4f242-a8ac-4c01-87d6-679ff58a4f87')\"\n",
              "              title=\"Convert this dataframe to an interactive table.\"\n",
              "              style=\"display:none;\">\n",
              "        \n",
              "  <svg xmlns=\"http://www.w3.org/2000/svg\" height=\"24px\"viewBox=\"0 0 24 24\"\n",
              "       width=\"24px\">\n",
              "    <path d=\"M0 0h24v24H0V0z\" fill=\"none\"/>\n",
              "    <path d=\"M18.56 5.44l.94 2.06.94-2.06 2.06-.94-2.06-.94-.94-2.06-.94 2.06-2.06.94zm-11 1L8.5 8.5l.94-2.06 2.06-.94-2.06-.94L8.5 2.5l-.94 2.06-2.06.94zm10 10l.94 2.06.94-2.06 2.06-.94-2.06-.94-.94-2.06-.94 2.06-2.06.94z\"/><path d=\"M17.41 7.96l-1.37-1.37c-.4-.4-.92-.59-1.43-.59-.52 0-1.04.2-1.43.59L10.3 9.45l-7.72 7.72c-.78.78-.78 2.05 0 2.83L4 21.41c.39.39.9.59 1.41.59.51 0 1.02-.2 1.41-.59l7.78-7.78 2.81-2.81c.8-.78.8-2.07 0-2.86zM5.41 20L4 18.59l7.72-7.72 1.47 1.35L5.41 20z\"/>\n",
              "  </svg>\n",
              "      </button>\n",
              "      \n",
              "  <style>\n",
              "    .colab-df-container {\n",
              "      display:flex;\n",
              "      flex-wrap:wrap;\n",
              "      gap: 12px;\n",
              "    }\n",
              "\n",
              "    .colab-df-convert {\n",
              "      background-color: #E8F0FE;\n",
              "      border: none;\n",
              "      border-radius: 50%;\n",
              "      cursor: pointer;\n",
              "      display: none;\n",
              "      fill: #1967D2;\n",
              "      height: 32px;\n",
              "      padding: 0 0 0 0;\n",
              "      width: 32px;\n",
              "    }\n",
              "\n",
              "    .colab-df-convert:hover {\n",
              "      background-color: #E2EBFA;\n",
              "      box-shadow: 0px 1px 2px rgba(60, 64, 67, 0.3), 0px 1px 3px 1px rgba(60, 64, 67, 0.15);\n",
              "      fill: #174EA6;\n",
              "    }\n",
              "\n",
              "    [theme=dark] .colab-df-convert {\n",
              "      background-color: #3B4455;\n",
              "      fill: #D2E3FC;\n",
              "    }\n",
              "\n",
              "    [theme=dark] .colab-df-convert:hover {\n",
              "      background-color: #434B5C;\n",
              "      box-shadow: 0px 1px 3px 1px rgba(0, 0, 0, 0.15);\n",
              "      filter: drop-shadow(0px 1px 2px rgba(0, 0, 0, 0.3));\n",
              "      fill: #FFFFFF;\n",
              "    }\n",
              "  </style>\n",
              "\n",
              "      <script>\n",
              "        const buttonEl =\n",
              "          document.querySelector('#df-77d4f242-a8ac-4c01-87d6-679ff58a4f87 button.colab-df-convert');\n",
              "        buttonEl.style.display =\n",
              "          google.colab.kernel.accessAllowed ? 'block' : 'none';\n",
              "\n",
              "        async function convertToInteractive(key) {\n",
              "          const element = document.querySelector('#df-77d4f242-a8ac-4c01-87d6-679ff58a4f87');\n",
              "          const dataTable =\n",
              "            await google.colab.kernel.invokeFunction('convertToInteractive',\n",
              "                                                     [key], {});\n",
              "          if (!dataTable) return;\n",
              "\n",
              "          const docLinkHtml = 'Like what you see? Visit the ' +\n",
              "            '<a target=\"_blank\" href=https://colab.research.google.com/notebooks/data_table.ipynb>data table notebook</a>'\n",
              "            + ' to learn more about interactive tables.';\n",
              "          element.innerHTML = '';\n",
              "          dataTable['output_type'] = 'display_data';\n",
              "          await google.colab.output.renderOutput(dataTable, element);\n",
              "          const docLink = document.createElement('div');\n",
              "          docLink.innerHTML = docLinkHtml;\n",
              "          element.appendChild(docLink);\n",
              "        }\n",
              "      </script>\n",
              "    </div>\n",
              "  </div>\n",
              "  "
            ]
          },
          "metadata": {},
          "execution_count": 39
        }
      ]
    },
    {
      "cell_type": "markdown",
      "source": [
        "## Mendapatkan keyword dari business product"
      ],
      "metadata": {
        "id": "Fs6V4vmJkZ4Z"
      }
    },
    {
      "cell_type": "code",
      "source": [
        "df['key_words_business_product'] = ''  # Menetapkan nilai awal untuk kolom 'key_words'\n",
        "\n",
        "for index, row in df.iterrows():\n",
        "    plot = row['business_product']\n",
        "    r = Rake()\n",
        "    r.extract_keywords_from_text(plot)\n",
        "    key_words_dict_scores = r.get_word_degrees()\n",
        "    df.at[index, 'key_words_business_product'] = list(key_words_dict_scores.keys())\n",
        "\n"
      ],
      "metadata": {
        "id": "Nx7j9vRX7pIR"
      },
      "execution_count": null,
      "outputs": []
    },
    {
      "cell_type": "markdown",
      "source": [
        "# Sector dihilangkan simbol simbolnya"
      ],
      "metadata": {
        "id": "Tx6eDDdBklis"
      }
    },
    {
      "cell_type": "code",
      "source": [
        "df['sector'] = df['sector'].str.replace('[', '').str.replace('\"', '').str.replace(']', '')\n",
        "df.head()"
      ],
      "metadata": {
        "id": "7ffnDynm_z7p",
        "colab": {
          "base_uri": "https://localhost:8080/",
          "height": 337
        },
        "outputId": "60af7134-7c8a-4065-86fb-55b92a35085d"
      },
      "execution_count": null,
      "outputs": [
        {
          "output_type": "stream",
          "name": "stderr",
          "text": [
            "<ipython-input-210-c1d3450769de>:1: FutureWarning: The default value of regex will change from True to False in a future version. In addition, single character regular expressions will *not* be treated as literal strings when regex=True.\n",
            "  df['sector'] = df['sector'].str.replace('[', '').str.replace('\"', '').str.replace(']', '')\n"
          ]
        },
        {
          "output_type": "execute_result",
          "data": {
            "text/plain": [
              "             sector                              thematic  \\\n",
              "_id                                                         \n",
              "AALI   non-siklikal                                         \n",
              "ABBA       siklikal                                         \n",
              "ABDA       keuangan                                         \n",
              "ABMM  perindustrian  Value Investing Komoditas Supercycle   \n",
              "ACES       siklikal        Retailer Indonesia ESG Leaders   \n",
              "\n",
              "                                       business_product  \\\n",
              "_id                                                       \n",
              "AALI  Based on the Company's articles of association...   \n",
              "ABBA                                                      \n",
              "ABDA  The Company is engaged in general insurance bu...   \n",
              "ABMM  The Company's scope of activities are conducti...   \n",
              "ACES  The Company's scope of activities consist of g...   \n",
              "\n",
              "                             industry  \\\n",
              "_id                                     \n",
              "AALI         Produk Makanan Pertanian   \n",
              "ABBA                            Media   \n",
              "ABDA                         Asuransi   \n",
              "ABMM  Perusahaan Holding Multi-sektor   \n",
              "ACES                     Ritel Khusus   \n",
              "\n",
              "                             key_words_business_product  \n",
              "_id                                                      \n",
              "AALI  [based, company, articles, association, scope,...  \n",
              "ABBA                                                 []  \n",
              "ABDA  [company, engaged, general, insurance, busines...  \n",
              "ABMM  [company, scope, activities, conducting, busin...  \n",
              "ACES  [company, scope, activities, consist, general,...  "
            ],
            "text/html": [
              "\n",
              "  <div id=\"df-87e11ed1-6a43-446f-9a3c-65f209c47650\">\n",
              "    <div class=\"colab-df-container\">\n",
              "      <div>\n",
              "<style scoped>\n",
              "    .dataframe tbody tr th:only-of-type {\n",
              "        vertical-align: middle;\n",
              "    }\n",
              "\n",
              "    .dataframe tbody tr th {\n",
              "        vertical-align: top;\n",
              "    }\n",
              "\n",
              "    .dataframe thead th {\n",
              "        text-align: right;\n",
              "    }\n",
              "</style>\n",
              "<table border=\"1\" class=\"dataframe\">\n",
              "  <thead>\n",
              "    <tr style=\"text-align: right;\">\n",
              "      <th></th>\n",
              "      <th>sector</th>\n",
              "      <th>thematic</th>\n",
              "      <th>business_product</th>\n",
              "      <th>industry</th>\n",
              "      <th>key_words_business_product</th>\n",
              "    </tr>\n",
              "    <tr>\n",
              "      <th>_id</th>\n",
              "      <th></th>\n",
              "      <th></th>\n",
              "      <th></th>\n",
              "      <th></th>\n",
              "      <th></th>\n",
              "    </tr>\n",
              "  </thead>\n",
              "  <tbody>\n",
              "    <tr>\n",
              "      <th>AALI</th>\n",
              "      <td>non-siklikal</td>\n",
              "      <td></td>\n",
              "      <td>Based on the Company's articles of association...</td>\n",
              "      <td>Produk Makanan Pertanian</td>\n",
              "      <td>[based, company, articles, association, scope,...</td>\n",
              "    </tr>\n",
              "    <tr>\n",
              "      <th>ABBA</th>\n",
              "      <td>siklikal</td>\n",
              "      <td></td>\n",
              "      <td></td>\n",
              "      <td>Media</td>\n",
              "      <td>[]</td>\n",
              "    </tr>\n",
              "    <tr>\n",
              "      <th>ABDA</th>\n",
              "      <td>keuangan</td>\n",
              "      <td></td>\n",
              "      <td>The Company is engaged in general insurance bu...</td>\n",
              "      <td>Asuransi</td>\n",
              "      <td>[company, engaged, general, insurance, busines...</td>\n",
              "    </tr>\n",
              "    <tr>\n",
              "      <th>ABMM</th>\n",
              "      <td>perindustrian</td>\n",
              "      <td>Value Investing Komoditas Supercycle</td>\n",
              "      <td>The Company's scope of activities are conducti...</td>\n",
              "      <td>Perusahaan Holding Multi-sektor</td>\n",
              "      <td>[company, scope, activities, conducting, busin...</td>\n",
              "    </tr>\n",
              "    <tr>\n",
              "      <th>ACES</th>\n",
              "      <td>siklikal</td>\n",
              "      <td>Retailer Indonesia ESG Leaders</td>\n",
              "      <td>The Company's scope of activities consist of g...</td>\n",
              "      <td>Ritel Khusus</td>\n",
              "      <td>[company, scope, activities, consist, general,...</td>\n",
              "    </tr>\n",
              "  </tbody>\n",
              "</table>\n",
              "</div>\n",
              "      <button class=\"colab-df-convert\" onclick=\"convertToInteractive('df-87e11ed1-6a43-446f-9a3c-65f209c47650')\"\n",
              "              title=\"Convert this dataframe to an interactive table.\"\n",
              "              style=\"display:none;\">\n",
              "        \n",
              "  <svg xmlns=\"http://www.w3.org/2000/svg\" height=\"24px\"viewBox=\"0 0 24 24\"\n",
              "       width=\"24px\">\n",
              "    <path d=\"M0 0h24v24H0V0z\" fill=\"none\"/>\n",
              "    <path d=\"M18.56 5.44l.94 2.06.94-2.06 2.06-.94-2.06-.94-.94-2.06-.94 2.06-2.06.94zm-11 1L8.5 8.5l.94-2.06 2.06-.94-2.06-.94L8.5 2.5l-.94 2.06-2.06.94zm10 10l.94 2.06.94-2.06 2.06-.94-2.06-.94-.94-2.06-.94 2.06-2.06.94z\"/><path d=\"M17.41 7.96l-1.37-1.37c-.4-.4-.92-.59-1.43-.59-.52 0-1.04.2-1.43.59L10.3 9.45l-7.72 7.72c-.78.78-.78 2.05 0 2.83L4 21.41c.39.39.9.59 1.41.59.51 0 1.02-.2 1.41-.59l7.78-7.78 2.81-2.81c.8-.78.8-2.07 0-2.86zM5.41 20L4 18.59l7.72-7.72 1.47 1.35L5.41 20z\"/>\n",
              "  </svg>\n",
              "      </button>\n",
              "      \n",
              "  <style>\n",
              "    .colab-df-container {\n",
              "      display:flex;\n",
              "      flex-wrap:wrap;\n",
              "      gap: 12px;\n",
              "    }\n",
              "\n",
              "    .colab-df-convert {\n",
              "      background-color: #E8F0FE;\n",
              "      border: none;\n",
              "      border-radius: 50%;\n",
              "      cursor: pointer;\n",
              "      display: none;\n",
              "      fill: #1967D2;\n",
              "      height: 32px;\n",
              "      padding: 0 0 0 0;\n",
              "      width: 32px;\n",
              "    }\n",
              "\n",
              "    .colab-df-convert:hover {\n",
              "      background-color: #E2EBFA;\n",
              "      box-shadow: 0px 1px 2px rgba(60, 64, 67, 0.3), 0px 1px 3px 1px rgba(60, 64, 67, 0.15);\n",
              "      fill: #174EA6;\n",
              "    }\n",
              "\n",
              "    [theme=dark] .colab-df-convert {\n",
              "      background-color: #3B4455;\n",
              "      fill: #D2E3FC;\n",
              "    }\n",
              "\n",
              "    [theme=dark] .colab-df-convert:hover {\n",
              "      background-color: #434B5C;\n",
              "      box-shadow: 0px 1px 3px 1px rgba(0, 0, 0, 0.15);\n",
              "      filter: drop-shadow(0px 1px 2px rgba(0, 0, 0, 0.3));\n",
              "      fill: #FFFFFF;\n",
              "    }\n",
              "  </style>\n",
              "\n",
              "      <script>\n",
              "        const buttonEl =\n",
              "          document.querySelector('#df-87e11ed1-6a43-446f-9a3c-65f209c47650 button.colab-df-convert');\n",
              "        buttonEl.style.display =\n",
              "          google.colab.kernel.accessAllowed ? 'block' : 'none';\n",
              "\n",
              "        async function convertToInteractive(key) {\n",
              "          const element = document.querySelector('#df-87e11ed1-6a43-446f-9a3c-65f209c47650');\n",
              "          const dataTable =\n",
              "            await google.colab.kernel.invokeFunction('convertToInteractive',\n",
              "                                                     [key], {});\n",
              "          if (!dataTable) return;\n",
              "\n",
              "          const docLinkHtml = 'Like what you see? Visit the ' +\n",
              "            '<a target=\"_blank\" href=https://colab.research.google.com/notebooks/data_table.ipynb>data table notebook</a>'\n",
              "            + ' to learn more about interactive tables.';\n",
              "          element.innerHTML = '';\n",
              "          dataTable['output_type'] = 'display_data';\n",
              "          await google.colab.output.renderOutput(dataTable, element);\n",
              "          const docLink = document.createElement('div');\n",
              "          docLink.innerHTML = docLinkHtml;\n",
              "          element.appendChild(docLink);\n",
              "        }\n",
              "      </script>\n",
              "    </div>\n",
              "  </div>\n",
              "  "
            ]
          },
          "metadata": {},
          "execution_count": 210
        }
      ]
    },
    {
      "cell_type": "code",
      "source": [
        "df['sector'] = df['sector'].str.lower()"
      ],
      "metadata": {
        "id": "W9tX937IkwKW"
      },
      "execution_count": null,
      "outputs": []
    },
    {
      "cell_type": "code",
      "source": [
        "df['sector'].unique()"
      ],
      "metadata": {
        "colab": {
          "base_uri": "https://localhost:8080/"
        },
        "id": "0IhtQXa1sDn9",
        "outputId": "7f9791d0-b8fe-4458-b9bf-765b8207671b"
      },
      "execution_count": null,
      "outputs": [
        {
          "output_type": "execute_result",
          "data": {
            "text/plain": [
              "array(['non-siklikal', 'siklikal', 'keuangan', 'perindustrian',\n",
              "       'infrastruktur', 'properti', 'barang baku', 'energi',\n",
              "       'transportasi', 'teknologi', '', 'kesehatan',\n",
              "       'non-siklikal siklikal'], dtype=object)"
            ]
          },
          "metadata": {},
          "execution_count": 229
        }
      ]
    },
    {
      "cell_type": "code",
      "source": [
        "df['sector'] = df['sector'].map(lambda x : x.lower().split(' '))"
      ],
      "metadata": {
        "id": "xI07WkPcsXJG"
      },
      "execution_count": null,
      "outputs": []
    },
    {
      "cell_type": "code",
      "source": [
        "df.head()"
      ],
      "metadata": {
        "colab": {
          "base_uri": "https://localhost:8080/",
          "height": 237
        },
        "id": "_Bzy1YPNsfj9",
        "outputId": "f34c9b9c-6b0c-4cc2-f14a-b32fb53e3d9c"
      },
      "execution_count": null,
      "outputs": [
        {
          "output_type": "execute_result",
          "data": {
            "text/plain": [
              "               sector                                   business_product  \\\n",
              "_id                                                                        \n",
              "AALI   [non-siklikal]  Based on the Company's articles of association...   \n",
              "ABBA       [siklikal]                                                      \n",
              "ABDA       [keuangan]  The Company is engaged in general insurance bu...   \n",
              "ABMM  [perindustrian]  The Company's scope of activities are conducti...   \n",
              "ACES       [siklikal]  The Company's scope of activities consist of g...   \n",
              "\n",
              "                             industry  \\\n",
              "_id                                     \n",
              "AALI         Produk Makanan Pertanian   \n",
              "ABBA                            Media   \n",
              "ABDA                         Asuransi   \n",
              "ABMM  Perusahaan Holding Multi-sektor   \n",
              "ACES                     Ritel Khusus   \n",
              "\n",
              "                             key_words_business_product  \n",
              "_id                                                      \n",
              "AALI  [based, company, articles, association, scope,...  \n",
              "ABBA                                                 []  \n",
              "ABDA  [company, engaged, general, insurance, busines...  \n",
              "ABMM  [company, scope, activities, conducting, busin...  \n",
              "ACES  [company, scope, activities, consist, general,...  "
            ],
            "text/html": [
              "\n",
              "  <div id=\"df-9777082d-e96e-42d5-8b46-2c1b132b1cd4\">\n",
              "    <div class=\"colab-df-container\">\n",
              "      <div>\n",
              "<style scoped>\n",
              "    .dataframe tbody tr th:only-of-type {\n",
              "        vertical-align: middle;\n",
              "    }\n",
              "\n",
              "    .dataframe tbody tr th {\n",
              "        vertical-align: top;\n",
              "    }\n",
              "\n",
              "    .dataframe thead th {\n",
              "        text-align: right;\n",
              "    }\n",
              "</style>\n",
              "<table border=\"1\" class=\"dataframe\">\n",
              "  <thead>\n",
              "    <tr style=\"text-align: right;\">\n",
              "      <th></th>\n",
              "      <th>sector</th>\n",
              "      <th>business_product</th>\n",
              "      <th>industry</th>\n",
              "      <th>key_words_business_product</th>\n",
              "    </tr>\n",
              "    <tr>\n",
              "      <th>_id</th>\n",
              "      <th></th>\n",
              "      <th></th>\n",
              "      <th></th>\n",
              "      <th></th>\n",
              "    </tr>\n",
              "  </thead>\n",
              "  <tbody>\n",
              "    <tr>\n",
              "      <th>AALI</th>\n",
              "      <td>[non-siklikal]</td>\n",
              "      <td>Based on the Company's articles of association...</td>\n",
              "      <td>Produk Makanan Pertanian</td>\n",
              "      <td>[based, company, articles, association, scope,...</td>\n",
              "    </tr>\n",
              "    <tr>\n",
              "      <th>ABBA</th>\n",
              "      <td>[siklikal]</td>\n",
              "      <td></td>\n",
              "      <td>Media</td>\n",
              "      <td>[]</td>\n",
              "    </tr>\n",
              "    <tr>\n",
              "      <th>ABDA</th>\n",
              "      <td>[keuangan]</td>\n",
              "      <td>The Company is engaged in general insurance bu...</td>\n",
              "      <td>Asuransi</td>\n",
              "      <td>[company, engaged, general, insurance, busines...</td>\n",
              "    </tr>\n",
              "    <tr>\n",
              "      <th>ABMM</th>\n",
              "      <td>[perindustrian]</td>\n",
              "      <td>The Company's scope of activities are conducti...</td>\n",
              "      <td>Perusahaan Holding Multi-sektor</td>\n",
              "      <td>[company, scope, activities, conducting, busin...</td>\n",
              "    </tr>\n",
              "    <tr>\n",
              "      <th>ACES</th>\n",
              "      <td>[siklikal]</td>\n",
              "      <td>The Company's scope of activities consist of g...</td>\n",
              "      <td>Ritel Khusus</td>\n",
              "      <td>[company, scope, activities, consist, general,...</td>\n",
              "    </tr>\n",
              "  </tbody>\n",
              "</table>\n",
              "</div>\n",
              "      <button class=\"colab-df-convert\" onclick=\"convertToInteractive('df-9777082d-e96e-42d5-8b46-2c1b132b1cd4')\"\n",
              "              title=\"Convert this dataframe to an interactive table.\"\n",
              "              style=\"display:none;\">\n",
              "        \n",
              "  <svg xmlns=\"http://www.w3.org/2000/svg\" height=\"24px\"viewBox=\"0 0 24 24\"\n",
              "       width=\"24px\">\n",
              "    <path d=\"M0 0h24v24H0V0z\" fill=\"none\"/>\n",
              "    <path d=\"M18.56 5.44l.94 2.06.94-2.06 2.06-.94-2.06-.94-.94-2.06-.94 2.06-2.06.94zm-11 1L8.5 8.5l.94-2.06 2.06-.94-2.06-.94L8.5 2.5l-.94 2.06-2.06.94zm10 10l.94 2.06.94-2.06 2.06-.94-2.06-.94-.94-2.06-.94 2.06-2.06.94z\"/><path d=\"M17.41 7.96l-1.37-1.37c-.4-.4-.92-.59-1.43-.59-.52 0-1.04.2-1.43.59L10.3 9.45l-7.72 7.72c-.78.78-.78 2.05 0 2.83L4 21.41c.39.39.9.59 1.41.59.51 0 1.02-.2 1.41-.59l7.78-7.78 2.81-2.81c.8-.78.8-2.07 0-2.86zM5.41 20L4 18.59l7.72-7.72 1.47 1.35L5.41 20z\"/>\n",
              "  </svg>\n",
              "      </button>\n",
              "      \n",
              "  <style>\n",
              "    .colab-df-container {\n",
              "      display:flex;\n",
              "      flex-wrap:wrap;\n",
              "      gap: 12px;\n",
              "    }\n",
              "\n",
              "    .colab-df-convert {\n",
              "      background-color: #E8F0FE;\n",
              "      border: none;\n",
              "      border-radius: 50%;\n",
              "      cursor: pointer;\n",
              "      display: none;\n",
              "      fill: #1967D2;\n",
              "      height: 32px;\n",
              "      padding: 0 0 0 0;\n",
              "      width: 32px;\n",
              "    }\n",
              "\n",
              "    .colab-df-convert:hover {\n",
              "      background-color: #E2EBFA;\n",
              "      box-shadow: 0px 1px 2px rgba(60, 64, 67, 0.3), 0px 1px 3px 1px rgba(60, 64, 67, 0.15);\n",
              "      fill: #174EA6;\n",
              "    }\n",
              "\n",
              "    [theme=dark] .colab-df-convert {\n",
              "      background-color: #3B4455;\n",
              "      fill: #D2E3FC;\n",
              "    }\n",
              "\n",
              "    [theme=dark] .colab-df-convert:hover {\n",
              "      background-color: #434B5C;\n",
              "      box-shadow: 0px 1px 3px 1px rgba(0, 0, 0, 0.15);\n",
              "      filter: drop-shadow(0px 1px 2px rgba(0, 0, 0, 0.3));\n",
              "      fill: #FFFFFF;\n",
              "    }\n",
              "  </style>\n",
              "\n",
              "      <script>\n",
              "        const buttonEl =\n",
              "          document.querySelector('#df-9777082d-e96e-42d5-8b46-2c1b132b1cd4 button.colab-df-convert');\n",
              "        buttonEl.style.display =\n",
              "          google.colab.kernel.accessAllowed ? 'block' : 'none';\n",
              "\n",
              "        async function convertToInteractive(key) {\n",
              "          const element = document.querySelector('#df-9777082d-e96e-42d5-8b46-2c1b132b1cd4');\n",
              "          const dataTable =\n",
              "            await google.colab.kernel.invokeFunction('convertToInteractive',\n",
              "                                                     [key], {});\n",
              "          if (!dataTable) return;\n",
              "\n",
              "          const docLinkHtml = 'Like what you see? Visit the ' +\n",
              "            '<a target=\"_blank\" href=https://colab.research.google.com/notebooks/data_table.ipynb>data table notebook</a>'\n",
              "            + ' to learn more about interactive tables.';\n",
              "          element.innerHTML = '';\n",
              "          dataTable['output_type'] = 'display_data';\n",
              "          await google.colab.output.renderOutput(dataTable, element);\n",
              "          const docLink = document.createElement('div');\n",
              "          docLink.innerHTML = docLinkHtml;\n",
              "          element.appendChild(docLink);\n",
              "        }\n",
              "      </script>\n",
              "    </div>\n",
              "  </div>\n",
              "  "
            ]
          },
          "metadata": {},
          "execution_count": 231
        }
      ]
    },
    {
      "cell_type": "code",
      "source": [
        "df['sector'][400]"
      ],
      "metadata": {
        "colab": {
          "base_uri": "https://localhost:8080/"
        },
        "id": "DgAXiDQns1f2",
        "outputId": "b16f6bb1-e27f-4da9-8c93-fe142a532314"
      },
      "execution_count": null,
      "outputs": [
        {
          "output_type": "execute_result",
          "data": {
            "text/plain": [
              "['barang', 'baku']"
            ]
          },
          "metadata": {},
          "execution_count": 243
        }
      ]
    },
    {
      "cell_type": "markdown",
      "source": [
        "# Thematic menghilangkan simbol simbol"
      ],
      "metadata": {
        "id": "yilBWtOJlD2y"
      }
    },
    {
      "cell_type": "code",
      "source": [
        "df['thematic'] = df['thematic'].str.replace('[', '').str.replace('\"', '').str.replace(']', '')"
      ],
      "metadata": {
        "colab": {
          "base_uri": "https://localhost:8080/"
        },
        "id": "ys4zUnZpAYxi",
        "outputId": "0662193b-ff8c-445d-b29d-57caefe64ccb"
      },
      "execution_count": null,
      "outputs": [
        {
          "output_type": "stream",
          "name": "stderr",
          "text": [
            "<ipython-input-208-8b033f66425a>:1: FutureWarning: The default value of regex will change from True to False in a future version. In addition, single character regular expressions will *not* be treated as literal strings when regex=True.\n",
            "  df['thematic'] = df['thematic'].str.replace('[', '').str.replace('\"', '').str.replace(']', '')\n"
          ]
        }
      ]
    },
    {
      "cell_type": "code",
      "source": [
        "df['thematic'][80]"
      ],
      "metadata": {
        "colab": {
          "base_uri": "https://localhost:8080/",
          "height": 36
        },
        "id": "XBF-xIm-p49F",
        "outputId": "8b4ed48b-77fc-4ace-8135-27d482ecf518"
      },
      "execution_count": null,
      "outputs": [
        {
          "output_type": "execute_result",
          "data": {
            "text/plain": [
              "''"
            ],
            "application/vnd.google.colaboratory.intrinsic+json": {
              "type": "string"
            }
          },
          "metadata": {},
          "execution_count": 222
        }
      ]
    },
    {
      "cell_type": "code",
      "source": [
        "empty_count = df['thematic'].value_counts()['']\n",
        "print(empty_count)"
      ],
      "metadata": {
        "colab": {
          "base_uri": "https://localhost:8080/"
        },
        "id": "0hXsRKa-qNLF",
        "outputId": "45393ec5-71ab-4a0f-f1af-e5e008f26ff0"
      },
      "execution_count": null,
      "outputs": [
        {
          "output_type": "stream",
          "name": "stdout",
          "text": [
            "746\n"
          ]
        }
      ]
    },
    {
      "cell_type": "code",
      "source": [
        "non_empty_count = df['thematic'].notna().sum()\n",
        "\n",
        "print(non_empty_count)"
      ],
      "metadata": {
        "colab": {
          "base_uri": "https://localhost:8080/"
        },
        "id": "sXI8NReZqbOx",
        "outputId": "0b7649ed-5f5d-4759-91ab-02330b67c921"
      },
      "execution_count": null,
      "outputs": [
        {
          "output_type": "stream",
          "name": "stdout",
          "text": [
            "883\n"
          ]
        }
      ]
    },
    {
      "cell_type": "code",
      "source": [
        "883 - 746"
      ],
      "metadata": {
        "colab": {
          "base_uri": "https://localhost:8080/"
        },
        "id": "QjSN8b-yqw95",
        "outputId": "b9dd7b2e-462f-4fe9-ba68-a589ca5d27fc"
      },
      "execution_count": null,
      "outputs": [
        {
          "output_type": "execute_result",
          "data": {
            "text/plain": [
              "137"
            ]
          },
          "metadata": {},
          "execution_count": 225
        }
      ]
    },
    {
      "cell_type": "code",
      "source": [
        "df['thematic'].nunique()\n",
        "\n",
        "df['thematic'].unique()"
      ],
      "metadata": {
        "colab": {
          "base_uri": "https://localhost:8080/"
        },
        "id": "a3QyKCAmnauc",
        "outputId": "b7750983-c451-4a90-c7eb-596a74e6353d"
      },
      "execution_count": null,
      "outputs": [
        {
          "output_type": "execute_result",
          "data": {
            "text/plain": [
              "array(['', 'Value Investing Komoditas Supercycle',\n",
              "       'Retailer Indonesia ESG Leaders', 'Infrastruktur +62',\n",
              "       'High Dividend', 'Komoditas Supercycle',\n",
              "       'Komoditas Supercycle High Dividend Saham Syariah ', 'ESG Leaders',\n",
              "       'Kecil Tapi Kuat!',\n",
              "       'Saham Syariah  Komoditas Supercycle High Dividend',\n",
              "       'Sektor Properti', 'Sektor Terbesar IHSG: BANKS! Terbesar di IDX',\n",
              "       'High Dividend Terbesar di IDX', 'ESG Leaders Sektor Properti',\n",
              "       'Technology for The Future', 'Saham Syariah ',\n",
              "       'High Dividend ESG Leaders Sektor Terbesar IHSG: BANKS! Terbesar di IDX',\n",
              "       'Sektor Terbesar IHSG: BANKS!',\n",
              "       'Sektor Terbesar IHSG: BANKS! Value Investing', 'Indonesia Sehat',\n",
              "       'Sektor Terbesar IHSG: BANKS! Saham Syariah ',\n",
              "       'ESG Leaders Saham Syariah ',\n",
              "       'Saham Syariah  Terbesar di IDX Komoditas Supercycle',\n",
              "       'Indonesia FMCG', 'High Dividend Saham Syariah  Terbesar di IDX',\n",
              "       'Terbesar di IDX Technology for The Future',\n",
              "       'Terbesar di IDX Saham Syariah ', 'Retailer Indonesia',\n",
              "       'Indonesia FMCG Terbesar di IDX Value Investing',\n",
              "       'Value Investing',\n",
              "       'High Dividend Indonesia FMCG ESG Leaders Terbesar di IDX',\n",
              "       'Saham Syariah  Indonesia FMCG Terbesar di IDX',\n",
              "       'Saham Syariah  Komoditas Supercycle',\n",
              "       'High Dividend Indonesia FMCG Saham Syariah  Value Investing',\n",
              "       'Komoditas Supercycle High Dividend',\n",
              "       'ESG Leaders Infrastruktur +62',\n",
              "       'Saham Syariah  Indonesia Sehat High Dividend',\n",
              "       'ESG Leaders Retailer Indonesia', 'ESG Leaders Indonesia Sehat',\n",
              "       'Kecil Tapi Kuat! Saham Syariah ',\n",
              "       'Technology for The Future Value Investing',\n",
              "       'Indonesia FMCG Retailer Indonesia',\n",
              "       'Indonesia Sehat Value Investing',\n",
              "       'ESG Leaders Retailer Indonesia Indonesia FMCG',\n",
              "       'High Dividend ESG Leaders Terbesar di IDX Saham Syariah ',\n",
              "       'High Dividend ESG Leaders', 'Saham Syariah  Terbesar di IDX',\n",
              "       'Saham Syariah  Terbesar di IDX Komoditas Supercycle High Dividend',\n",
              "       'Indonesia FMCG Saham Syariah  Terbesar di IDX ESG Leaders High Dividend'],\n",
              "      dtype=object)"
            ]
          },
          "metadata": {},
          "execution_count": 217
        }
      ]
    },
    {
      "cell_type": "code",
      "source": [
        "columns_to_drop = ['thematic']\n",
        "df = df.drop(columns=columns_to_drop)"
      ],
      "metadata": {
        "id": "48KpDCFFr0IY"
      },
      "execution_count": null,
      "outputs": []
    },
    {
      "cell_type": "code",
      "source": [
        "#thmeatic dihapus saja"
      ],
      "metadata": {
        "id": "HdpvyuZirssl"
      },
      "execution_count": null,
      "outputs": []
    },
    {
      "cell_type": "code",
      "source": [
        "df.head()"
      ],
      "metadata": {
        "colab": {
          "base_uri": "https://localhost:8080/",
          "height": 237
        },
        "id": "O5C99Igir-wF",
        "outputId": "207fa077-c15f-4e7a-cf3c-41209582f175"
      },
      "execution_count": null,
      "outputs": [
        {
          "output_type": "execute_result",
          "data": {
            "text/plain": [
              "               sector                                   business_product  \\\n",
              "_id                                                                        \n",
              "AALI   [non-siklikal]  Based on the Company's articles of association...   \n",
              "ABBA       [siklikal]                                                      \n",
              "ABDA       [keuangan]  The Company is engaged in general insurance bu...   \n",
              "ABMM  [perindustrian]  The Company's scope of activities are conducti...   \n",
              "ACES       [siklikal]  The Company's scope of activities consist of g...   \n",
              "\n",
              "                             industry  \\\n",
              "_id                                     \n",
              "AALI         Produk Makanan Pertanian   \n",
              "ABBA                            Media   \n",
              "ABDA                         Asuransi   \n",
              "ABMM  Perusahaan Holding Multi-sektor   \n",
              "ACES                     Ritel Khusus   \n",
              "\n",
              "                             key_words_business_product  \n",
              "_id                                                      \n",
              "AALI  [based, company, articles, association, scope,...  \n",
              "ABBA                                                 []  \n",
              "ABDA  [company, engaged, general, insurance, busines...  \n",
              "ABMM  [company, scope, activities, conducting, busin...  \n",
              "ACES  [company, scope, activities, consist, general,...  "
            ],
            "text/html": [
              "\n",
              "  <div id=\"df-e8bafe7c-cb32-4ff0-99a6-2e1958fcf9ff\">\n",
              "    <div class=\"colab-df-container\">\n",
              "      <div>\n",
              "<style scoped>\n",
              "    .dataframe tbody tr th:only-of-type {\n",
              "        vertical-align: middle;\n",
              "    }\n",
              "\n",
              "    .dataframe tbody tr th {\n",
              "        vertical-align: top;\n",
              "    }\n",
              "\n",
              "    .dataframe thead th {\n",
              "        text-align: right;\n",
              "    }\n",
              "</style>\n",
              "<table border=\"1\" class=\"dataframe\">\n",
              "  <thead>\n",
              "    <tr style=\"text-align: right;\">\n",
              "      <th></th>\n",
              "      <th>sector</th>\n",
              "      <th>business_product</th>\n",
              "      <th>industry</th>\n",
              "      <th>key_words_business_product</th>\n",
              "    </tr>\n",
              "    <tr>\n",
              "      <th>_id</th>\n",
              "      <th></th>\n",
              "      <th></th>\n",
              "      <th></th>\n",
              "      <th></th>\n",
              "    </tr>\n",
              "  </thead>\n",
              "  <tbody>\n",
              "    <tr>\n",
              "      <th>AALI</th>\n",
              "      <td>[non-siklikal]</td>\n",
              "      <td>Based on the Company's articles of association...</td>\n",
              "      <td>Produk Makanan Pertanian</td>\n",
              "      <td>[based, company, articles, association, scope,...</td>\n",
              "    </tr>\n",
              "    <tr>\n",
              "      <th>ABBA</th>\n",
              "      <td>[siklikal]</td>\n",
              "      <td></td>\n",
              "      <td>Media</td>\n",
              "      <td>[]</td>\n",
              "    </tr>\n",
              "    <tr>\n",
              "      <th>ABDA</th>\n",
              "      <td>[keuangan]</td>\n",
              "      <td>The Company is engaged in general insurance bu...</td>\n",
              "      <td>Asuransi</td>\n",
              "      <td>[company, engaged, general, insurance, busines...</td>\n",
              "    </tr>\n",
              "    <tr>\n",
              "      <th>ABMM</th>\n",
              "      <td>[perindustrian]</td>\n",
              "      <td>The Company's scope of activities are conducti...</td>\n",
              "      <td>Perusahaan Holding Multi-sektor</td>\n",
              "      <td>[company, scope, activities, conducting, busin...</td>\n",
              "    </tr>\n",
              "    <tr>\n",
              "      <th>ACES</th>\n",
              "      <td>[siklikal]</td>\n",
              "      <td>The Company's scope of activities consist of g...</td>\n",
              "      <td>Ritel Khusus</td>\n",
              "      <td>[company, scope, activities, consist, general,...</td>\n",
              "    </tr>\n",
              "  </tbody>\n",
              "</table>\n",
              "</div>\n",
              "      <button class=\"colab-df-convert\" onclick=\"convertToInteractive('df-e8bafe7c-cb32-4ff0-99a6-2e1958fcf9ff')\"\n",
              "              title=\"Convert this dataframe to an interactive table.\"\n",
              "              style=\"display:none;\">\n",
              "        \n",
              "  <svg xmlns=\"http://www.w3.org/2000/svg\" height=\"24px\"viewBox=\"0 0 24 24\"\n",
              "       width=\"24px\">\n",
              "    <path d=\"M0 0h24v24H0V0z\" fill=\"none\"/>\n",
              "    <path d=\"M18.56 5.44l.94 2.06.94-2.06 2.06-.94-2.06-.94-.94-2.06-.94 2.06-2.06.94zm-11 1L8.5 8.5l.94-2.06 2.06-.94-2.06-.94L8.5 2.5l-.94 2.06-2.06.94zm10 10l.94 2.06.94-2.06 2.06-.94-2.06-.94-.94-2.06-.94 2.06-2.06.94z\"/><path d=\"M17.41 7.96l-1.37-1.37c-.4-.4-.92-.59-1.43-.59-.52 0-1.04.2-1.43.59L10.3 9.45l-7.72 7.72c-.78.78-.78 2.05 0 2.83L4 21.41c.39.39.9.59 1.41.59.51 0 1.02-.2 1.41-.59l7.78-7.78 2.81-2.81c.8-.78.8-2.07 0-2.86zM5.41 20L4 18.59l7.72-7.72 1.47 1.35L5.41 20z\"/>\n",
              "  </svg>\n",
              "      </button>\n",
              "      \n",
              "  <style>\n",
              "    .colab-df-container {\n",
              "      display:flex;\n",
              "      flex-wrap:wrap;\n",
              "      gap: 12px;\n",
              "    }\n",
              "\n",
              "    .colab-df-convert {\n",
              "      background-color: #E8F0FE;\n",
              "      border: none;\n",
              "      border-radius: 50%;\n",
              "      cursor: pointer;\n",
              "      display: none;\n",
              "      fill: #1967D2;\n",
              "      height: 32px;\n",
              "      padding: 0 0 0 0;\n",
              "      width: 32px;\n",
              "    }\n",
              "\n",
              "    .colab-df-convert:hover {\n",
              "      background-color: #E2EBFA;\n",
              "      box-shadow: 0px 1px 2px rgba(60, 64, 67, 0.3), 0px 1px 3px 1px rgba(60, 64, 67, 0.15);\n",
              "      fill: #174EA6;\n",
              "    }\n",
              "\n",
              "    [theme=dark] .colab-df-convert {\n",
              "      background-color: #3B4455;\n",
              "      fill: #D2E3FC;\n",
              "    }\n",
              "\n",
              "    [theme=dark] .colab-df-convert:hover {\n",
              "      background-color: #434B5C;\n",
              "      box-shadow: 0px 1px 3px 1px rgba(0, 0, 0, 0.15);\n",
              "      filter: drop-shadow(0px 1px 2px rgba(0, 0, 0, 0.3));\n",
              "      fill: #FFFFFF;\n",
              "    }\n",
              "  </style>\n",
              "\n",
              "      <script>\n",
              "        const buttonEl =\n",
              "          document.querySelector('#df-e8bafe7c-cb32-4ff0-99a6-2e1958fcf9ff button.colab-df-convert');\n",
              "        buttonEl.style.display =\n",
              "          google.colab.kernel.accessAllowed ? 'block' : 'none';\n",
              "\n",
              "        async function convertToInteractive(key) {\n",
              "          const element = document.querySelector('#df-e8bafe7c-cb32-4ff0-99a6-2e1958fcf9ff');\n",
              "          const dataTable =\n",
              "            await google.colab.kernel.invokeFunction('convertToInteractive',\n",
              "                                                     [key], {});\n",
              "          if (!dataTable) return;\n",
              "\n",
              "          const docLinkHtml = 'Like what you see? Visit the ' +\n",
              "            '<a target=\"_blank\" href=https://colab.research.google.com/notebooks/data_table.ipynb>data table notebook</a>'\n",
              "            + ' to learn more about interactive tables.';\n",
              "          element.innerHTML = '';\n",
              "          dataTable['output_type'] = 'display_data';\n",
              "          await google.colab.output.renderOutput(dataTable, element);\n",
              "          const docLink = document.createElement('div');\n",
              "          docLink.innerHTML = docLinkHtml;\n",
              "          element.appendChild(docLink);\n",
              "        }\n",
              "      </script>\n",
              "    </div>\n",
              "  </div>\n",
              "  "
            ]
          },
          "metadata": {},
          "execution_count": 244
        }
      ]
    },
    {
      "cell_type": "markdown",
      "source": [
        "# Industri mau diapain nih"
      ],
      "metadata": {
        "id": "DEJ2sXcTuLNc"
      }
    },
    {
      "cell_type": "code",
      "source": [
        "df['industry'].nunique()"
      ],
      "metadata": {
        "colab": {
          "base_uri": "https://localhost:8080/"
        },
        "id": "UMvyfPbbuPB9",
        "outputId": "861e4508-c924-4c83-880b-d2cd5fa80c0a"
      },
      "execution_count": null,
      "outputs": [
        {
          "output_type": "execute_result",
          "data": {
            "text/plain": [
              "59"
            ]
          },
          "metadata": {},
          "execution_count": 245
        }
      ]
    },
    {
      "cell_type": "code",
      "source": [
        "df['industry'].unique()"
      ],
      "metadata": {
        "colab": {
          "base_uri": "https://localhost:8080/"
        },
        "id": "Z4_hKguruVGw",
        "outputId": "be5d80e5-9747-4ac4-9c89-c590978f988e"
      },
      "execution_count": null,
      "outputs": [
        {
          "output_type": "execute_result",
          "data": {
            "text/plain": [
              "array(['Produk Makanan Pertanian', 'Media', 'Asuransi',\n",
              "       'Perusahaan Holding Multi-sektor', 'Ritel Khusus',\n",
              "       'Konstruksi Bangunan', 'Pengelola & Pengembang Real Estat',\n",
              "       'Minuman', 'Pembiayaan Konsumen', 'Barang Kimia', 'Batu Bara',\n",
              "       'Bank', 'Makanan Olahan', 'Pariwisata & Rekreasi', 'Minyak & Gas',\n",
              "       'Logistik & Pengantaran', 'Wadah & Kemasan', 'Logam & Mineral',\n",
              "       'Produk & Perlengkapan Bangunan', 'Machinery', 'Jasa Investasi',\n",
              "       'Perdagangan Ritel Barang Primer',\n",
              "       'Pendukung Minyak, Gas & Batu Bara',\n",
              "       'Perusahaan Holding & Investasi', 'Pakaian & Barang Mewah',\n",
              "       'Utilitas Listrik', 'Jasa Komersial',\n",
              "       'Pengangkutan Darat Penumpang', 'Jasa & Konsultan TI',\n",
              "       'Komponen Otomotif', 'Aplikasi & Jasa Internet',\n",
              "       'Perangkat Komputer', 'Material Konstruksi',\n",
              "       'Jasa Telekomunikasi Nirkabel',\n",
              "       'Peralatan Olah Raga & Barang Hobi', 'Pendidikan & Jasa Penunjang',\n",
              "       'Penyedia Jasa Kesehatan', 'Operator Infrastruktur Transportasi',\n",
              "       'Barang Rumah Tangga', 'Kelistrikan', 'Maskapai Penerbangan',\n",
              "       'Perhutanan & Kertas', 'Farmasi', 'Bahan Bakar Alternatif',\n",
              "       'Produk Perawatan Tubuh', 'Hiburan & Film', 'Rokok',\n",
              "       'Perangkat, Instrumen & Komponen Elektronik', 'Utilitas Gas',\n",
              "       'Peralatan & Perlengkapan Kesehatan', 'Jasa Profesional',\n",
              "       'Peralatan Jaringan', 'Perangkat Lunak', 'Jasa Telekomunikasi',\n",
              "       'Peralatan Energi Alternatif', 'Department Store',\n",
              "       'Distributor Barang Konsumen', 'Produk Keperluan Rumah Tangga',\n",
              "       'Perdagangan Aneka Barang Perindustrian'], dtype=object)"
            ]
          },
          "metadata": {},
          "execution_count": 246
        }
      ]
    },
    {
      "cell_type": "code",
      "source": [
        "empty_count = df['industry'].value_counts()['Pendukung Minyak, Gas & Batu Bara']\n",
        "print(empty_count)"
      ],
      "metadata": {
        "colab": {
          "base_uri": "https://localhost:8080/"
        },
        "id": "2vrZhGPVuihL",
        "outputId": "f9025f5c-2b8a-4e02-802a-68e6c3bf13b8"
      },
      "execution_count": null,
      "outputs": [
        {
          "output_type": "stream",
          "name": "stdout",
          "text": [
            "17\n"
          ]
        }
      ]
    },
    {
      "cell_type": "code",
      "source": [
        "df['industry'] = df['industry'].map(lambda x:x.split(' '))\n",
        "for index, row in df.iterrows():\n",
        "  row['industry'] = ''.join(row['industry']).lower() #disatukan supaya diperlakukan sebagai satu objek"
      ],
      "metadata": {
        "id": "dB3t9Lt0vkR1"
      },
      "execution_count": null,
      "outputs": []
    },
    {
      "cell_type": "code",
      "source": [
        "df['industry'] = df['industry'].map(lambda x : x.split(' '))"
      ],
      "metadata": {
        "id": "hge-5WSGxn02"
      },
      "execution_count": null,
      "outputs": []
    },
    {
      "cell_type": "code",
      "source": [
        "df['industry'].unique()"
      ],
      "metadata": {
        "id": "wCPOOT5qBKw2",
        "colab": {
          "base_uri": "https://localhost:8080/"
        },
        "outputId": "bbde48d4-0bfd-40d4-ca40-b5bdb58753b8"
      },
      "execution_count": null,
      "outputs": [
        {
          "output_type": "execute_result",
          "data": {
            "text/plain": [
              "array(['produkmakananpertanian', 'media', 'asuransi',\n",
              "       'perusahaanholdingmulti-sektor', 'ritelkhusus',\n",
              "       'konstruksibangunan', 'pengelola&pengembangrealestat', 'minuman',\n",
              "       'pembiayaankonsumen', 'barangkimia', 'batubara', 'bank',\n",
              "       'makananolahan', 'pariwisata&rekreasi', 'minyak&gas',\n",
              "       'logistik&pengantaran', 'wadah&kemasan', 'logam&mineral',\n",
              "       'produk&perlengkapanbangunan', 'machinery', 'jasainvestasi',\n",
              "       'perdaganganritelbarangprimer', 'pendukungminyak,gas&batubara',\n",
              "       'perusahaanholding&investasi', 'pakaian&barangmewah',\n",
              "       'utilitaslistrik', 'jasakomersial', 'pengangkutandaratpenumpang',\n",
              "       'jasa&konsultanti', 'komponenotomotif', 'aplikasi&jasainternet',\n",
              "       'perangkatkomputer', 'materialkonstruksi',\n",
              "       'jasatelekomunikasinirkabel', 'peralatanolahraga&baranghobi',\n",
              "       'pendidikan&jasapenunjang', 'penyediajasakesehatan',\n",
              "       'operatorinfrastrukturtransportasi', 'barangrumahtangga',\n",
              "       'kelistrikan', 'maskapaipenerbangan', 'perhutanan&kertas',\n",
              "       'farmasi', 'bahanbakaralternatif', 'produkperawatantubuh',\n",
              "       'hiburan&film', 'rokok', 'perangkat,instrumen&komponenelektronik',\n",
              "       'utilitasgas', 'peralatan&perlengkapankesehatan',\n",
              "       'jasaprofesional', 'peralatanjaringan', 'perangkatlunak',\n",
              "       'jasatelekomunikasi', 'peralatanenergialternatif',\n",
              "       'departmentstore', 'distributorbarangkonsumen',\n",
              "       'produkkeperluanrumahtangga',\n",
              "       'perdagangananekabarangperindustrian'], dtype=object)"
            ]
          },
          "metadata": {},
          "execution_count": 259
        }
      ]
    },
    {
      "cell_type": "code",
      "source": [
        "df.head(1)"
      ],
      "metadata": {
        "colab": {
          "base_uri": "https://localhost:8080/",
          "height": 112
        },
        "id": "EWhyzqWsvZNi",
        "outputId": "f496b6f8-3df8-476c-d729-474d1f002776"
      },
      "execution_count": null,
      "outputs": [
        {
          "output_type": "execute_result",
          "data": {
            "text/plain": [
              "              sector                  industry  \\\n",
              "_id                                              \n",
              "AALI  [non-siklikal]  [produkmakananpertanian]   \n",
              "\n",
              "                             key_words_business_product  \\\n",
              "_id                                                       \n",
              "AALI  [based, company, articles, association, scope,...   \n",
              "\n",
              "                                           bag_of_words  \n",
              "_id                                                      \n",
              "AALI  non-siklikal p r o d u k m a k a n a n p e r t...  "
            ],
            "text/html": [
              "\n",
              "  <div id=\"df-69f89abc-89b5-4bbb-8038-8e005709afb3\">\n",
              "    <div class=\"colab-df-container\">\n",
              "      <div>\n",
              "<style scoped>\n",
              "    .dataframe tbody tr th:only-of-type {\n",
              "        vertical-align: middle;\n",
              "    }\n",
              "\n",
              "    .dataframe tbody tr th {\n",
              "        vertical-align: top;\n",
              "    }\n",
              "\n",
              "    .dataframe thead th {\n",
              "        text-align: right;\n",
              "    }\n",
              "</style>\n",
              "<table border=\"1\" class=\"dataframe\">\n",
              "  <thead>\n",
              "    <tr style=\"text-align: right;\">\n",
              "      <th></th>\n",
              "      <th>sector</th>\n",
              "      <th>industry</th>\n",
              "      <th>key_words_business_product</th>\n",
              "      <th>bag_of_words</th>\n",
              "    </tr>\n",
              "    <tr>\n",
              "      <th>_id</th>\n",
              "      <th></th>\n",
              "      <th></th>\n",
              "      <th></th>\n",
              "      <th></th>\n",
              "    </tr>\n",
              "  </thead>\n",
              "  <tbody>\n",
              "    <tr>\n",
              "      <th>AALI</th>\n",
              "      <td>[non-siklikal]</td>\n",
              "      <td>[produkmakananpertanian]</td>\n",
              "      <td>[based, company, articles, association, scope,...</td>\n",
              "      <td>non-siklikal p r o d u k m a k a n a n p e r t...</td>\n",
              "    </tr>\n",
              "  </tbody>\n",
              "</table>\n",
              "</div>\n",
              "      <button class=\"colab-df-convert\" onclick=\"convertToInteractive('df-69f89abc-89b5-4bbb-8038-8e005709afb3')\"\n",
              "              title=\"Convert this dataframe to an interactive table.\"\n",
              "              style=\"display:none;\">\n",
              "        \n",
              "  <svg xmlns=\"http://www.w3.org/2000/svg\" height=\"24px\"viewBox=\"0 0 24 24\"\n",
              "       width=\"24px\">\n",
              "    <path d=\"M0 0h24v24H0V0z\" fill=\"none\"/>\n",
              "    <path d=\"M18.56 5.44l.94 2.06.94-2.06 2.06-.94-2.06-.94-.94-2.06-.94 2.06-2.06.94zm-11 1L8.5 8.5l.94-2.06 2.06-.94-2.06-.94L8.5 2.5l-.94 2.06-2.06.94zm10 10l.94 2.06.94-2.06 2.06-.94-2.06-.94-.94-2.06-.94 2.06-2.06.94z\"/><path d=\"M17.41 7.96l-1.37-1.37c-.4-.4-.92-.59-1.43-.59-.52 0-1.04.2-1.43.59L10.3 9.45l-7.72 7.72c-.78.78-.78 2.05 0 2.83L4 21.41c.39.39.9.59 1.41.59.51 0 1.02-.2 1.41-.59l7.78-7.78 2.81-2.81c.8-.78.8-2.07 0-2.86zM5.41 20L4 18.59l7.72-7.72 1.47 1.35L5.41 20z\"/>\n",
              "  </svg>\n",
              "      </button>\n",
              "      \n",
              "  <style>\n",
              "    .colab-df-container {\n",
              "      display:flex;\n",
              "      flex-wrap:wrap;\n",
              "      gap: 12px;\n",
              "    }\n",
              "\n",
              "    .colab-df-convert {\n",
              "      background-color: #E8F0FE;\n",
              "      border: none;\n",
              "      border-radius: 50%;\n",
              "      cursor: pointer;\n",
              "      display: none;\n",
              "      fill: #1967D2;\n",
              "      height: 32px;\n",
              "      padding: 0 0 0 0;\n",
              "      width: 32px;\n",
              "    }\n",
              "\n",
              "    .colab-df-convert:hover {\n",
              "      background-color: #E2EBFA;\n",
              "      box-shadow: 0px 1px 2px rgba(60, 64, 67, 0.3), 0px 1px 3px 1px rgba(60, 64, 67, 0.15);\n",
              "      fill: #174EA6;\n",
              "    }\n",
              "\n",
              "    [theme=dark] .colab-df-convert {\n",
              "      background-color: #3B4455;\n",
              "      fill: #D2E3FC;\n",
              "    }\n",
              "\n",
              "    [theme=dark] .colab-df-convert:hover {\n",
              "      background-color: #434B5C;\n",
              "      box-shadow: 0px 1px 3px 1px rgba(0, 0, 0, 0.15);\n",
              "      filter: drop-shadow(0px 1px 2px rgba(0, 0, 0, 0.3));\n",
              "      fill: #FFFFFF;\n",
              "    }\n",
              "  </style>\n",
              "\n",
              "      <script>\n",
              "        const buttonEl =\n",
              "          document.querySelector('#df-69f89abc-89b5-4bbb-8038-8e005709afb3 button.colab-df-convert');\n",
              "        buttonEl.style.display =\n",
              "          google.colab.kernel.accessAllowed ? 'block' : 'none';\n",
              "\n",
              "        async function convertToInteractive(key) {\n",
              "          const element = document.querySelector('#df-69f89abc-89b5-4bbb-8038-8e005709afb3');\n",
              "          const dataTable =\n",
              "            await google.colab.kernel.invokeFunction('convertToInteractive',\n",
              "                                                     [key], {});\n",
              "          if (!dataTable) return;\n",
              "\n",
              "          const docLinkHtml = 'Like what you see? Visit the ' +\n",
              "            '<a target=\"_blank\" href=https://colab.research.google.com/notebooks/data_table.ipynb>data table notebook</a>'\n",
              "            + ' to learn more about interactive tables.';\n",
              "          element.innerHTML = '';\n",
              "          dataTable['output_type'] = 'display_data';\n",
              "          await google.colab.output.renderOutput(dataTable, element);\n",
              "          const docLink = document.createElement('div');\n",
              "          docLink.innerHTML = docLinkHtml;\n",
              "          element.appendChild(docLink);\n",
              "        }\n",
              "      </script>\n",
              "    </div>\n",
              "  </div>\n",
              "  "
            ]
          },
          "metadata": {},
          "execution_count": 266
        }
      ]
    },
    {
      "cell_type": "markdown",
      "source": [
        "## Menghapus business_product"
      ],
      "metadata": {
        "id": "tao9x0J9vd9I"
      }
    },
    {
      "cell_type": "code",
      "source": [
        "columns_to_drop = ['business_product']\n",
        "df = df.drop(columns=columns_to_drop)"
      ],
      "metadata": {
        "id": "2Fe-IJecvhhM"
      },
      "execution_count": null,
      "outputs": []
    },
    {
      "cell_type": "code",
      "source": [
        "df.head()"
      ],
      "metadata": {
        "colab": {
          "base_uri": "https://localhost:8080/",
          "height": 237
        },
        "id": "KDlz9kvcvnwP",
        "outputId": "580d183e-85ff-4f87-8a7d-86ce1cff1305"
      },
      "execution_count": null,
      "outputs": [
        {
          "output_type": "execute_result",
          "data": {
            "text/plain": [
              "               sector                       industry  \\\n",
              "_id                                                    \n",
              "AALI   [non-siklikal]         produkmakananpertanian   \n",
              "ABBA       [siklikal]                          media   \n",
              "ABDA       [keuangan]                       asuransi   \n",
              "ABMM  [perindustrian]  perusahaanholdingmulti-sektor   \n",
              "ACES       [siklikal]                    ritelkhusus   \n",
              "\n",
              "                             key_words_business_product  \n",
              "_id                                                      \n",
              "AALI  [based, company, articles, association, scope,...  \n",
              "ABBA                                                 []  \n",
              "ABDA  [company, engaged, general, insurance, busines...  \n",
              "ABMM  [company, scope, activities, conducting, busin...  \n",
              "ACES  [company, scope, activities, consist, general,...  "
            ],
            "text/html": [
              "\n",
              "  <div id=\"df-e9375860-a11d-4d40-8da7-2c7c2abcb83d\">\n",
              "    <div class=\"colab-df-container\">\n",
              "      <div>\n",
              "<style scoped>\n",
              "    .dataframe tbody tr th:only-of-type {\n",
              "        vertical-align: middle;\n",
              "    }\n",
              "\n",
              "    .dataframe tbody tr th {\n",
              "        vertical-align: top;\n",
              "    }\n",
              "\n",
              "    .dataframe thead th {\n",
              "        text-align: right;\n",
              "    }\n",
              "</style>\n",
              "<table border=\"1\" class=\"dataframe\">\n",
              "  <thead>\n",
              "    <tr style=\"text-align: right;\">\n",
              "      <th></th>\n",
              "      <th>sector</th>\n",
              "      <th>industry</th>\n",
              "      <th>key_words_business_product</th>\n",
              "    </tr>\n",
              "    <tr>\n",
              "      <th>_id</th>\n",
              "      <th></th>\n",
              "      <th></th>\n",
              "      <th></th>\n",
              "    </tr>\n",
              "  </thead>\n",
              "  <tbody>\n",
              "    <tr>\n",
              "      <th>AALI</th>\n",
              "      <td>[non-siklikal]</td>\n",
              "      <td>produkmakananpertanian</td>\n",
              "      <td>[based, company, articles, association, scope,...</td>\n",
              "    </tr>\n",
              "    <tr>\n",
              "      <th>ABBA</th>\n",
              "      <td>[siklikal]</td>\n",
              "      <td>media</td>\n",
              "      <td>[]</td>\n",
              "    </tr>\n",
              "    <tr>\n",
              "      <th>ABDA</th>\n",
              "      <td>[keuangan]</td>\n",
              "      <td>asuransi</td>\n",
              "      <td>[company, engaged, general, insurance, busines...</td>\n",
              "    </tr>\n",
              "    <tr>\n",
              "      <th>ABMM</th>\n",
              "      <td>[perindustrian]</td>\n",
              "      <td>perusahaanholdingmulti-sektor</td>\n",
              "      <td>[company, scope, activities, conducting, busin...</td>\n",
              "    </tr>\n",
              "    <tr>\n",
              "      <th>ACES</th>\n",
              "      <td>[siklikal]</td>\n",
              "      <td>ritelkhusus</td>\n",
              "      <td>[company, scope, activities, consist, general,...</td>\n",
              "    </tr>\n",
              "  </tbody>\n",
              "</table>\n",
              "</div>\n",
              "      <button class=\"colab-df-convert\" onclick=\"convertToInteractive('df-e9375860-a11d-4d40-8da7-2c7c2abcb83d')\"\n",
              "              title=\"Convert this dataframe to an interactive table.\"\n",
              "              style=\"display:none;\">\n",
              "        \n",
              "  <svg xmlns=\"http://www.w3.org/2000/svg\" height=\"24px\"viewBox=\"0 0 24 24\"\n",
              "       width=\"24px\">\n",
              "    <path d=\"M0 0h24v24H0V0z\" fill=\"none\"/>\n",
              "    <path d=\"M18.56 5.44l.94 2.06.94-2.06 2.06-.94-2.06-.94-.94-2.06-.94 2.06-2.06.94zm-11 1L8.5 8.5l.94-2.06 2.06-.94-2.06-.94L8.5 2.5l-.94 2.06-2.06.94zm10 10l.94 2.06.94-2.06 2.06-.94-2.06-.94-.94-2.06-.94 2.06-2.06.94z\"/><path d=\"M17.41 7.96l-1.37-1.37c-.4-.4-.92-.59-1.43-.59-.52 0-1.04.2-1.43.59L10.3 9.45l-7.72 7.72c-.78.78-.78 2.05 0 2.83L4 21.41c.39.39.9.59 1.41.59.51 0 1.02-.2 1.41-.59l7.78-7.78 2.81-2.81c.8-.78.8-2.07 0-2.86zM5.41 20L4 18.59l7.72-7.72 1.47 1.35L5.41 20z\"/>\n",
              "  </svg>\n",
              "      </button>\n",
              "      \n",
              "  <style>\n",
              "    .colab-df-container {\n",
              "      display:flex;\n",
              "      flex-wrap:wrap;\n",
              "      gap: 12px;\n",
              "    }\n",
              "\n",
              "    .colab-df-convert {\n",
              "      background-color: #E8F0FE;\n",
              "      border: none;\n",
              "      border-radius: 50%;\n",
              "      cursor: pointer;\n",
              "      display: none;\n",
              "      fill: #1967D2;\n",
              "      height: 32px;\n",
              "      padding: 0 0 0 0;\n",
              "      width: 32px;\n",
              "    }\n",
              "\n",
              "    .colab-df-convert:hover {\n",
              "      background-color: #E2EBFA;\n",
              "      box-shadow: 0px 1px 2px rgba(60, 64, 67, 0.3), 0px 1px 3px 1px rgba(60, 64, 67, 0.15);\n",
              "      fill: #174EA6;\n",
              "    }\n",
              "\n",
              "    [theme=dark] .colab-df-convert {\n",
              "      background-color: #3B4455;\n",
              "      fill: #D2E3FC;\n",
              "    }\n",
              "\n",
              "    [theme=dark] .colab-df-convert:hover {\n",
              "      background-color: #434B5C;\n",
              "      box-shadow: 0px 1px 3px 1px rgba(0, 0, 0, 0.15);\n",
              "      filter: drop-shadow(0px 1px 2px rgba(0, 0, 0, 0.3));\n",
              "      fill: #FFFFFF;\n",
              "    }\n",
              "  </style>\n",
              "\n",
              "      <script>\n",
              "        const buttonEl =\n",
              "          document.querySelector('#df-e9375860-a11d-4d40-8da7-2c7c2abcb83d button.colab-df-convert');\n",
              "        buttonEl.style.display =\n",
              "          google.colab.kernel.accessAllowed ? 'block' : 'none';\n",
              "\n",
              "        async function convertToInteractive(key) {\n",
              "          const element = document.querySelector('#df-e9375860-a11d-4d40-8da7-2c7c2abcb83d');\n",
              "          const dataTable =\n",
              "            await google.colab.kernel.invokeFunction('convertToInteractive',\n",
              "                                                     [key], {});\n",
              "          if (!dataTable) return;\n",
              "\n",
              "          const docLinkHtml = 'Like what you see? Visit the ' +\n",
              "            '<a target=\"_blank\" href=https://colab.research.google.com/notebooks/data_table.ipynb>data table notebook</a>'\n",
              "            + ' to learn more about interactive tables.';\n",
              "          element.innerHTML = '';\n",
              "          dataTable['output_type'] = 'display_data';\n",
              "          await google.colab.output.renderOutput(dataTable, element);\n",
              "          const docLink = document.createElement('div');\n",
              "          docLink.innerHTML = docLinkHtml;\n",
              "          element.appendChild(docLink);\n",
              "        }\n",
              "      </script>\n",
              "    </div>\n",
              "  </div>\n",
              "  "
            ]
          },
          "metadata": {},
          "execution_count": 262
        }
      ]
    },
    {
      "cell_type": "markdown",
      "source": [
        "# Bag_of_words (kumpulkan semua kata)"
      ],
      "metadata": {
        "id": "HLQa00aExP6D"
      }
    },
    {
      "cell_type": "code",
      "source": [
        "df['bag_of_words'] = ''\n",
        "columns = df.columns\n",
        "for index, row in df.iterrows():\n",
        "  words= ''\n",
        "  for col in columns:\n",
        "      words = words + ' '.join(row[col]) + ' '\n",
        "\n",
        "  row['bag_of_words'] = words\n"
      ],
      "metadata": {
        "id": "YHIIO_DIIzhI"
      },
      "execution_count": null,
      "outputs": []
    },
    {
      "cell_type": "code",
      "source": [
        "df.head(3)"
      ],
      "metadata": {
        "colab": {
          "base_uri": "https://localhost:8080/",
          "height": 174
        },
        "id": "A4MwximVxdoc",
        "outputId": "66f04b7b-7185-4eb5-9ae0-ea196fc04f44"
      },
      "execution_count": null,
      "outputs": [
        {
          "output_type": "execute_result",
          "data": {
            "text/plain": [
              "              sector                  industry  \\\n",
              "_id                                              \n",
              "AALI  [non-siklikal]  [produkmakananpertanian]   \n",
              "ABBA      [siklikal]                   [media]   \n",
              "ABDA      [keuangan]                [asuransi]   \n",
              "\n",
              "                             key_words_business_product  \\\n",
              "_id                                                       \n",
              "AALI  [based, company, articles, association, scope,...   \n",
              "ABBA                                                 []   \n",
              "ABDA  [company, engaged, general, insurance, busines...   \n",
              "\n",
              "                                           bag_of_words  \n",
              "_id                                                      \n",
              "AALI  non-siklikal produkmakananpertanian based comp...  \n",
              "ABBA                                  siklikal media     \n",
              "ABDA  keuangan asuransi company engaged general insu...  "
            ],
            "text/html": [
              "\n",
              "  <div id=\"df-362e929d-4df7-4ea7-923c-adba4def9b79\">\n",
              "    <div class=\"colab-df-container\">\n",
              "      <div>\n",
              "<style scoped>\n",
              "    .dataframe tbody tr th:only-of-type {\n",
              "        vertical-align: middle;\n",
              "    }\n",
              "\n",
              "    .dataframe tbody tr th {\n",
              "        vertical-align: top;\n",
              "    }\n",
              "\n",
              "    .dataframe thead th {\n",
              "        text-align: right;\n",
              "    }\n",
              "</style>\n",
              "<table border=\"1\" class=\"dataframe\">\n",
              "  <thead>\n",
              "    <tr style=\"text-align: right;\">\n",
              "      <th></th>\n",
              "      <th>sector</th>\n",
              "      <th>industry</th>\n",
              "      <th>key_words_business_product</th>\n",
              "      <th>bag_of_words</th>\n",
              "    </tr>\n",
              "    <tr>\n",
              "      <th>_id</th>\n",
              "      <th></th>\n",
              "      <th></th>\n",
              "      <th></th>\n",
              "      <th></th>\n",
              "    </tr>\n",
              "  </thead>\n",
              "  <tbody>\n",
              "    <tr>\n",
              "      <th>AALI</th>\n",
              "      <td>[non-siklikal]</td>\n",
              "      <td>[produkmakananpertanian]</td>\n",
              "      <td>[based, company, articles, association, scope,...</td>\n",
              "      <td>non-siklikal produkmakananpertanian based comp...</td>\n",
              "    </tr>\n",
              "    <tr>\n",
              "      <th>ABBA</th>\n",
              "      <td>[siklikal]</td>\n",
              "      <td>[media]</td>\n",
              "      <td>[]</td>\n",
              "      <td>siklikal media</td>\n",
              "    </tr>\n",
              "    <tr>\n",
              "      <th>ABDA</th>\n",
              "      <td>[keuangan]</td>\n",
              "      <td>[asuransi]</td>\n",
              "      <td>[company, engaged, general, insurance, busines...</td>\n",
              "      <td>keuangan asuransi company engaged general insu...</td>\n",
              "    </tr>\n",
              "  </tbody>\n",
              "</table>\n",
              "</div>\n",
              "      <button class=\"colab-df-convert\" onclick=\"convertToInteractive('df-362e929d-4df7-4ea7-923c-adba4def9b79')\"\n",
              "              title=\"Convert this dataframe to an interactive table.\"\n",
              "              style=\"display:none;\">\n",
              "        \n",
              "  <svg xmlns=\"http://www.w3.org/2000/svg\" height=\"24px\"viewBox=\"0 0 24 24\"\n",
              "       width=\"24px\">\n",
              "    <path d=\"M0 0h24v24H0V0z\" fill=\"none\"/>\n",
              "    <path d=\"M18.56 5.44l.94 2.06.94-2.06 2.06-.94-2.06-.94-.94-2.06-.94 2.06-2.06.94zm-11 1L8.5 8.5l.94-2.06 2.06-.94-2.06-.94L8.5 2.5l-.94 2.06-2.06.94zm10 10l.94 2.06.94-2.06 2.06-.94-2.06-.94-.94-2.06-.94 2.06-2.06.94z\"/><path d=\"M17.41 7.96l-1.37-1.37c-.4-.4-.92-.59-1.43-.59-.52 0-1.04.2-1.43.59L10.3 9.45l-7.72 7.72c-.78.78-.78 2.05 0 2.83L4 21.41c.39.39.9.59 1.41.59.51 0 1.02-.2 1.41-.59l7.78-7.78 2.81-2.81c.8-.78.8-2.07 0-2.86zM5.41 20L4 18.59l7.72-7.72 1.47 1.35L5.41 20z\"/>\n",
              "  </svg>\n",
              "      </button>\n",
              "      \n",
              "  <style>\n",
              "    .colab-df-container {\n",
              "      display:flex;\n",
              "      flex-wrap:wrap;\n",
              "      gap: 12px;\n",
              "    }\n",
              "\n",
              "    .colab-df-convert {\n",
              "      background-color: #E8F0FE;\n",
              "      border: none;\n",
              "      border-radius: 50%;\n",
              "      cursor: pointer;\n",
              "      display: none;\n",
              "      fill: #1967D2;\n",
              "      height: 32px;\n",
              "      padding: 0 0 0 0;\n",
              "      width: 32px;\n",
              "    }\n",
              "\n",
              "    .colab-df-convert:hover {\n",
              "      background-color: #E2EBFA;\n",
              "      box-shadow: 0px 1px 2px rgba(60, 64, 67, 0.3), 0px 1px 3px 1px rgba(60, 64, 67, 0.15);\n",
              "      fill: #174EA6;\n",
              "    }\n",
              "\n",
              "    [theme=dark] .colab-df-convert {\n",
              "      background-color: #3B4455;\n",
              "      fill: #D2E3FC;\n",
              "    }\n",
              "\n",
              "    [theme=dark] .colab-df-convert:hover {\n",
              "      background-color: #434B5C;\n",
              "      box-shadow: 0px 1px 3px 1px rgba(0, 0, 0, 0.15);\n",
              "      filter: drop-shadow(0px 1px 2px rgba(0, 0, 0, 0.3));\n",
              "      fill: #FFFFFF;\n",
              "    }\n",
              "  </style>\n",
              "\n",
              "      <script>\n",
              "        const buttonEl =\n",
              "          document.querySelector('#df-362e929d-4df7-4ea7-923c-adba4def9b79 button.colab-df-convert');\n",
              "        buttonEl.style.display =\n",
              "          google.colab.kernel.accessAllowed ? 'block' : 'none';\n",
              "\n",
              "        async function convertToInteractive(key) {\n",
              "          const element = document.querySelector('#df-362e929d-4df7-4ea7-923c-adba4def9b79');\n",
              "          const dataTable =\n",
              "            await google.colab.kernel.invokeFunction('convertToInteractive',\n",
              "                                                     [key], {});\n",
              "          if (!dataTable) return;\n",
              "\n",
              "          const docLinkHtml = 'Like what you see? Visit the ' +\n",
              "            '<a target=\"_blank\" href=https://colab.research.google.com/notebooks/data_table.ipynb>data table notebook</a>'\n",
              "            + ' to learn more about interactive tables.';\n",
              "          element.innerHTML = '';\n",
              "          dataTable['output_type'] = 'display_data';\n",
              "          await google.colab.output.renderOutput(dataTable, element);\n",
              "          const docLink = document.createElement('div');\n",
              "          docLink.innerHTML = docLinkHtml;\n",
              "          element.appendChild(docLink);\n",
              "        }\n",
              "      </script>\n",
              "    </div>\n",
              "  </div>\n",
              "  "
            ]
          },
          "metadata": {},
          "execution_count": 271
        }
      ]
    },
    {
      "cell_type": "code",
      "source": [
        "df['bag_of_words'][0]"
      ],
      "metadata": {
        "colab": {
          "base_uri": "https://localhost:8080/",
          "height": 54
        },
        "id": "r0vt4RcOxv36",
        "outputId": "6bb8bae7-7334-4aa1-fbe8-bb0c7e2d8f44"
      },
      "execution_count": null,
      "outputs": [
        {
          "output_type": "execute_result",
          "data": {
            "text/plain": [
              "'non-siklikal produkmakananpertanian based company articles association scope activities engage plantation operation general trading manufacturing transportation consultation services'"
            ],
            "application/vnd.google.colaboratory.intrinsic+json": {
              "type": "string"
            }
          },
          "metadata": {},
          "execution_count": 281
        }
      ]
    },
    {
      "cell_type": "markdown",
      "source": [
        "## Menghapus double spase"
      ],
      "metadata": {
        "id": "CT7hIYr9x99r"
      }
    },
    {
      "cell_type": "code",
      "source": [
        "df['bag_of_words'] = df['bag_of_words'].str.replace(r'\\s\\s', ' ')"
      ],
      "metadata": {
        "colab": {
          "base_uri": "https://localhost:8080/"
        },
        "id": "hHcY34R_x8GK",
        "outputId": "46c98acb-b930-4562-e737-b68a86861a10"
      },
      "execution_count": null,
      "outputs": [
        {
          "output_type": "stream",
          "name": "stderr",
          "text": [
            "<ipython-input-278-df9588f9567a>:1: FutureWarning: The default value of regex will change from True to False in a future version.\n",
            "  df['bag_of_words'] = df['bag_of_words'].str.replace(r'\\s\\s', ' ')\n"
          ]
        }
      ]
    },
    {
      "cell_type": "code",
      "source": [
        "#mengecek ada berapa baris yang mengandung double space\n",
        "df['bag_of_words'].str.contains(r'\\s\\s').sum()"
      ],
      "metadata": {
        "colab": {
          "base_uri": "https://localhost:8080/"
        },
        "id": "x9JRwWcyyMed",
        "outputId": "7bac3078-e1ba-4842-a8cd-cde63b69e0ef"
      },
      "execution_count": null,
      "outputs": [
        {
          "output_type": "execute_result",
          "data": {
            "text/plain": [
              "0"
            ]
          },
          "metadata": {},
          "execution_count": 279
        }
      ]
    },
    {
      "cell_type": "markdown",
      "source": [
        "## Menghapus spase yang ada di belakang kalimat"
      ],
      "metadata": {
        "id": "psPsbN1ZyP2L"
      }
    },
    {
      "cell_type": "code",
      "source": [
        "#menghapus karakter spasi diakhir kaliamt\n",
        "df['bag_of_words'] = df['bag_of_words'].str.rstrip()"
      ],
      "metadata": {
        "id": "21e-_YvZyTG6"
      },
      "execution_count": null,
      "outputs": []
    },
    {
      "cell_type": "markdown",
      "source": [
        "## Menghapus karakter khusus"
      ],
      "metadata": {
        "id": "neovysOKyY5o"
      }
    },
    {
      "cell_type": "code",
      "source": [
        "#menghilangkan karakter khusus\n",
        "df['bag_of_words'] = df['bag_of_words'].str.replace('[^\\w\\s]', '', regex=True)"
      ],
      "metadata": {
        "id": "Vg8kLETXydU8"
      },
      "execution_count": null,
      "outputs": []
    },
    {
      "cell_type": "code",
      "source": [
        "df.head(1)"
      ],
      "metadata": {
        "colab": {
          "base_uri": "https://localhost:8080/",
          "height": 112
        },
        "id": "6jgwJsO-BxYp",
        "outputId": "3c59e004-c38d-46d9-aa16-df4740632830"
      },
      "execution_count": null,
      "outputs": [
        {
          "output_type": "execute_result",
          "data": {
            "text/plain": [
              "              sector                                       bag_of_words\n",
              "_id                                                                    \n",
              "AALI  [non-siklikal]  nonsiklikal produkmakananpertanian based compa..."
            ],
            "text/html": [
              "\n",
              "  <div id=\"df-91264ac3-50b9-410d-adaa-237327c8815e\">\n",
              "    <div class=\"colab-df-container\">\n",
              "      <div>\n",
              "<style scoped>\n",
              "    .dataframe tbody tr th:only-of-type {\n",
              "        vertical-align: middle;\n",
              "    }\n",
              "\n",
              "    .dataframe tbody tr th {\n",
              "        vertical-align: top;\n",
              "    }\n",
              "\n",
              "    .dataframe thead th {\n",
              "        text-align: right;\n",
              "    }\n",
              "</style>\n",
              "<table border=\"1\" class=\"dataframe\">\n",
              "  <thead>\n",
              "    <tr style=\"text-align: right;\">\n",
              "      <th></th>\n",
              "      <th>sector</th>\n",
              "      <th>bag_of_words</th>\n",
              "    </tr>\n",
              "    <tr>\n",
              "      <th>_id</th>\n",
              "      <th></th>\n",
              "      <th></th>\n",
              "    </tr>\n",
              "  </thead>\n",
              "  <tbody>\n",
              "    <tr>\n",
              "      <th>AALI</th>\n",
              "      <td>[non-siklikal]</td>\n",
              "      <td>nonsiklikal produkmakananpertanian based compa...</td>\n",
              "    </tr>\n",
              "  </tbody>\n",
              "</table>\n",
              "</div>\n",
              "      <button class=\"colab-df-convert\" onclick=\"convertToInteractive('df-91264ac3-50b9-410d-adaa-237327c8815e')\"\n",
              "              title=\"Convert this dataframe to an interactive table.\"\n",
              "              style=\"display:none;\">\n",
              "        \n",
              "  <svg xmlns=\"http://www.w3.org/2000/svg\" height=\"24px\"viewBox=\"0 0 24 24\"\n",
              "       width=\"24px\">\n",
              "    <path d=\"M0 0h24v24H0V0z\" fill=\"none\"/>\n",
              "    <path d=\"M18.56 5.44l.94 2.06.94-2.06 2.06-.94-2.06-.94-.94-2.06-.94 2.06-2.06.94zm-11 1L8.5 8.5l.94-2.06 2.06-.94-2.06-.94L8.5 2.5l-.94 2.06-2.06.94zm10 10l.94 2.06.94-2.06 2.06-.94-2.06-.94-.94-2.06-.94 2.06-2.06.94z\"/><path d=\"M17.41 7.96l-1.37-1.37c-.4-.4-.92-.59-1.43-.59-.52 0-1.04.2-1.43.59L10.3 9.45l-7.72 7.72c-.78.78-.78 2.05 0 2.83L4 21.41c.39.39.9.59 1.41.59.51 0 1.02-.2 1.41-.59l7.78-7.78 2.81-2.81c.8-.78.8-2.07 0-2.86zM5.41 20L4 18.59l7.72-7.72 1.47 1.35L5.41 20z\"/>\n",
              "  </svg>\n",
              "      </button>\n",
              "      \n",
              "  <style>\n",
              "    .colab-df-container {\n",
              "      display:flex;\n",
              "      flex-wrap:wrap;\n",
              "      gap: 12px;\n",
              "    }\n",
              "\n",
              "    .colab-df-convert {\n",
              "      background-color: #E8F0FE;\n",
              "      border: none;\n",
              "      border-radius: 50%;\n",
              "      cursor: pointer;\n",
              "      display: none;\n",
              "      fill: #1967D2;\n",
              "      height: 32px;\n",
              "      padding: 0 0 0 0;\n",
              "      width: 32px;\n",
              "    }\n",
              "\n",
              "    .colab-df-convert:hover {\n",
              "      background-color: #E2EBFA;\n",
              "      box-shadow: 0px 1px 2px rgba(60, 64, 67, 0.3), 0px 1px 3px 1px rgba(60, 64, 67, 0.15);\n",
              "      fill: #174EA6;\n",
              "    }\n",
              "\n",
              "    [theme=dark] .colab-df-convert {\n",
              "      background-color: #3B4455;\n",
              "      fill: #D2E3FC;\n",
              "    }\n",
              "\n",
              "    [theme=dark] .colab-df-convert:hover {\n",
              "      background-color: #434B5C;\n",
              "      box-shadow: 0px 1px 3px 1px rgba(0, 0, 0, 0.15);\n",
              "      filter: drop-shadow(0px 1px 2px rgba(0, 0, 0, 0.3));\n",
              "      fill: #FFFFFF;\n",
              "    }\n",
              "  </style>\n",
              "\n",
              "      <script>\n",
              "        const buttonEl =\n",
              "          document.querySelector('#df-91264ac3-50b9-410d-adaa-237327c8815e button.colab-df-convert');\n",
              "        buttonEl.style.display =\n",
              "          google.colab.kernel.accessAllowed ? 'block' : 'none';\n",
              "\n",
              "        async function convertToInteractive(key) {\n",
              "          const element = document.querySelector('#df-91264ac3-50b9-410d-adaa-237327c8815e');\n",
              "          const dataTable =\n",
              "            await google.colab.kernel.invokeFunction('convertToInteractive',\n",
              "                                                     [key], {});\n",
              "          if (!dataTable) return;\n",
              "\n",
              "          const docLinkHtml = 'Like what you see? Visit the ' +\n",
              "            '<a target=\"_blank\" href=https://colab.research.google.com/notebooks/data_table.ipynb>data table notebook</a>'\n",
              "            + ' to learn more about interactive tables.';\n",
              "          element.innerHTML = '';\n",
              "          dataTable['output_type'] = 'display_data';\n",
              "          await google.colab.output.renderOutput(dataTable, element);\n",
              "          const docLink = document.createElement('div');\n",
              "          docLink.innerHTML = docLinkHtml;\n",
              "          element.appendChild(docLink);\n",
              "        }\n",
              "      </script>\n",
              "    </div>\n",
              "  </div>\n",
              "  "
            ]
          },
          "metadata": {},
          "execution_count": 297
        }
      ]
    },
    {
      "cell_type": "markdown",
      "source": [
        "## Hapus sektor dan **kew_word_business_product**"
      ],
      "metadata": {
        "id": "PKttoXhwykku"
      }
    },
    {
      "cell_type": "code",
      "source": [
        "df = df.drop(columns=['industry','key_words_business_product'])"
      ],
      "metadata": {
        "id": "C4FfCIb_DJ-B"
      },
      "execution_count": null,
      "outputs": []
    },
    {
      "cell_type": "code",
      "source": [
        "df = df.drop(columns=['sector'])"
      ],
      "metadata": {
        "id": "ziNpzzZuzJlj"
      },
      "execution_count": null,
      "outputs": []
    },
    {
      "cell_type": "code",
      "source": [],
      "metadata": {
        "colab": {
          "base_uri": "https://localhost:8080/"
        },
        "id": "pcIn_xzSHnUv",
        "outputId": "334c84ae-437b-4599-bd80-d2179e76aa66"
      },
      "execution_count": null,
      "outputs": [
        {
          "output_type": "execute_result",
          "data": {
            "text/plain": [
              "0"
            ]
          },
          "metadata": {},
          "execution_count": 151
        }
      ]
    },
    {
      "cell_type": "code",
      "source": [],
      "metadata": {
        "colab": {
          "base_uri": "https://localhost:8080/"
        },
        "id": "qR5sEZGKH-i4",
        "outputId": "715a57ad-326b-47c9-fae5-b7ba331509b0"
      },
      "execution_count": null,
      "outputs": [
        {
          "output_type": "stream",
          "name": "stderr",
          "text": [
            "<ipython-input-150-df9588f9567a>:1: FutureWarning: The default value of regex will change from True to False in a future version.\n",
            "  df['bag_of_words'] = df['bag_of_words'].str.replace(r'\\s\\s', ' ')\n"
          ]
        }
      ]
    },
    {
      "cell_type": "code",
      "source": [],
      "metadata": {
        "id": "ea4gXBEOmqNH"
      },
      "execution_count": null,
      "outputs": []
    },
    {
      "cell_type": "code",
      "source": [],
      "metadata": {
        "id": "r_8g32FTnidU"
      },
      "execution_count": null,
      "outputs": []
    },
    {
      "cell_type": "code",
      "source": [
        "df.head()"
      ],
      "metadata": {
        "colab": {
          "base_uri": "https://localhost:8080/",
          "height": 237
        },
        "id": "DQSCG7nxDa4b",
        "outputId": "309567e6-da33-4dc7-c3fd-343ccf7a9875"
      },
      "execution_count": null,
      "outputs": [
        {
          "output_type": "execute_result",
          "data": {
            "text/plain": [
              "                                           bag_of_words\n",
              "_id                                                    \n",
              "AALI  nonsiklikal produkmakananpertanian based compa...\n",
              "ABBA                                     siklikal media\n",
              "ABDA  keuangan asuransi company engaged general insu...\n",
              "ABMM  perindustrian perusahaanholdingmultisektor com...\n",
              "ACES  siklikal ritelkhusus company scope activities ..."
            ],
            "text/html": [
              "\n",
              "  <div id=\"df-fbbb0291-d7fe-465a-9c8e-0b96656e4c5b\">\n",
              "    <div class=\"colab-df-container\">\n",
              "      <div>\n",
              "<style scoped>\n",
              "    .dataframe tbody tr th:only-of-type {\n",
              "        vertical-align: middle;\n",
              "    }\n",
              "\n",
              "    .dataframe tbody tr th {\n",
              "        vertical-align: top;\n",
              "    }\n",
              "\n",
              "    .dataframe thead th {\n",
              "        text-align: right;\n",
              "    }\n",
              "</style>\n",
              "<table border=\"1\" class=\"dataframe\">\n",
              "  <thead>\n",
              "    <tr style=\"text-align: right;\">\n",
              "      <th></th>\n",
              "      <th>bag_of_words</th>\n",
              "    </tr>\n",
              "    <tr>\n",
              "      <th>_id</th>\n",
              "      <th></th>\n",
              "    </tr>\n",
              "  </thead>\n",
              "  <tbody>\n",
              "    <tr>\n",
              "      <th>AALI</th>\n",
              "      <td>nonsiklikal produkmakananpertanian based compa...</td>\n",
              "    </tr>\n",
              "    <tr>\n",
              "      <th>ABBA</th>\n",
              "      <td>siklikal media</td>\n",
              "    </tr>\n",
              "    <tr>\n",
              "      <th>ABDA</th>\n",
              "      <td>keuangan asuransi company engaged general insu...</td>\n",
              "    </tr>\n",
              "    <tr>\n",
              "      <th>ABMM</th>\n",
              "      <td>perindustrian perusahaanholdingmultisektor com...</td>\n",
              "    </tr>\n",
              "    <tr>\n",
              "      <th>ACES</th>\n",
              "      <td>siklikal ritelkhusus company scope activities ...</td>\n",
              "    </tr>\n",
              "  </tbody>\n",
              "</table>\n",
              "</div>\n",
              "      <button class=\"colab-df-convert\" onclick=\"convertToInteractive('df-fbbb0291-d7fe-465a-9c8e-0b96656e4c5b')\"\n",
              "              title=\"Convert this dataframe to an interactive table.\"\n",
              "              style=\"display:none;\">\n",
              "        \n",
              "  <svg xmlns=\"http://www.w3.org/2000/svg\" height=\"24px\"viewBox=\"0 0 24 24\"\n",
              "       width=\"24px\">\n",
              "    <path d=\"M0 0h24v24H0V0z\" fill=\"none\"/>\n",
              "    <path d=\"M18.56 5.44l.94 2.06.94-2.06 2.06-.94-2.06-.94-.94-2.06-.94 2.06-2.06.94zm-11 1L8.5 8.5l.94-2.06 2.06-.94-2.06-.94L8.5 2.5l-.94 2.06-2.06.94zm10 10l.94 2.06.94-2.06 2.06-.94-2.06-.94-.94-2.06-.94 2.06-2.06.94z\"/><path d=\"M17.41 7.96l-1.37-1.37c-.4-.4-.92-.59-1.43-.59-.52 0-1.04.2-1.43.59L10.3 9.45l-7.72 7.72c-.78.78-.78 2.05 0 2.83L4 21.41c.39.39.9.59 1.41.59.51 0 1.02-.2 1.41-.59l7.78-7.78 2.81-2.81c.8-.78.8-2.07 0-2.86zM5.41 20L4 18.59l7.72-7.72 1.47 1.35L5.41 20z\"/>\n",
              "  </svg>\n",
              "      </button>\n",
              "      \n",
              "  <style>\n",
              "    .colab-df-container {\n",
              "      display:flex;\n",
              "      flex-wrap:wrap;\n",
              "      gap: 12px;\n",
              "    }\n",
              "\n",
              "    .colab-df-convert {\n",
              "      background-color: #E8F0FE;\n",
              "      border: none;\n",
              "      border-radius: 50%;\n",
              "      cursor: pointer;\n",
              "      display: none;\n",
              "      fill: #1967D2;\n",
              "      height: 32px;\n",
              "      padding: 0 0 0 0;\n",
              "      width: 32px;\n",
              "    }\n",
              "\n",
              "    .colab-df-convert:hover {\n",
              "      background-color: #E2EBFA;\n",
              "      box-shadow: 0px 1px 2px rgba(60, 64, 67, 0.3), 0px 1px 3px 1px rgba(60, 64, 67, 0.15);\n",
              "      fill: #174EA6;\n",
              "    }\n",
              "\n",
              "    [theme=dark] .colab-df-convert {\n",
              "      background-color: #3B4455;\n",
              "      fill: #D2E3FC;\n",
              "    }\n",
              "\n",
              "    [theme=dark] .colab-df-convert:hover {\n",
              "      background-color: #434B5C;\n",
              "      box-shadow: 0px 1px 3px 1px rgba(0, 0, 0, 0.15);\n",
              "      filter: drop-shadow(0px 1px 2px rgba(0, 0, 0, 0.3));\n",
              "      fill: #FFFFFF;\n",
              "    }\n",
              "  </style>\n",
              "\n",
              "      <script>\n",
              "        const buttonEl =\n",
              "          document.querySelector('#df-fbbb0291-d7fe-465a-9c8e-0b96656e4c5b button.colab-df-convert');\n",
              "        buttonEl.style.display =\n",
              "          google.colab.kernel.accessAllowed ? 'block' : 'none';\n",
              "\n",
              "        async function convertToInteractive(key) {\n",
              "          const element = document.querySelector('#df-fbbb0291-d7fe-465a-9c8e-0b96656e4c5b');\n",
              "          const dataTable =\n",
              "            await google.colab.kernel.invokeFunction('convertToInteractive',\n",
              "                                                     [key], {});\n",
              "          if (!dataTable) return;\n",
              "\n",
              "          const docLinkHtml = 'Like what you see? Visit the ' +\n",
              "            '<a target=\"_blank\" href=https://colab.research.google.com/notebooks/data_table.ipynb>data table notebook</a>'\n",
              "            + ' to learn more about interactive tables.';\n",
              "          element.innerHTML = '';\n",
              "          dataTable['output_type'] = 'display_data';\n",
              "          await google.colab.output.renderOutput(dataTable, element);\n",
              "          const docLink = document.createElement('div');\n",
              "          docLink.innerHTML = docLinkHtml;\n",
              "          element.appendChild(docLink);\n",
              "        }\n",
              "      </script>\n",
              "    </div>\n",
              "  </div>\n",
              "  "
            ]
          },
          "metadata": {},
          "execution_count": 299
        }
      ]
    },
    {
      "cell_type": "code",
      "source": [],
      "metadata": {
        "id": "5Aw9GVKTImNJ"
      },
      "execution_count": null,
      "outputs": []
    },
    {
      "cell_type": "code",
      "source": [],
      "metadata": {
        "id": "3TFHZjXoImQT"
      },
      "execution_count": null,
      "outputs": []
    },
    {
      "cell_type": "markdown",
      "source": [
        "# CountVectorize"
      ],
      "metadata": {
        "id": "RaUAMktAzSeY"
      }
    },
    {
      "cell_type": "code",
      "source": [
        "count = CountVectorizer()\n",
        "count_matrix = count.fit_transform(df['bag_of_words'])"
      ],
      "metadata": {
        "id": "4vgOYQ6SImTt"
      },
      "execution_count": null,
      "outputs": []
    },
    {
      "cell_type": "code",
      "source": [
        "count_matrix"
      ],
      "metadata": {
        "colab": {
          "base_uri": "https://localhost:8080/"
        },
        "id": "hfPLDThOImYC",
        "outputId": "704f8c83-4f36-4268-b22a-bafc195cd90e"
      },
      "execution_count": null,
      "outputs": [
        {
          "output_type": "execute_result",
          "data": {
            "text/plain": [
              "<883x2742 sparse matrix of type '<class 'numpy.int64'>'\n",
              "\twith 13517 stored elements in Compressed Sparse Row format>"
            ]
          },
          "metadata": {},
          "execution_count": 302
        }
      ]
    },
    {
      "cell_type": "code",
      "source": [
        "c = count_matrix.todense()\n",
        "c"
      ],
      "metadata": {
        "colab": {
          "base_uri": "https://localhost:8080/"
        },
        "id": "ouRuUm1QJkr3",
        "outputId": "13b7b9c2-c5b8-4ec9-9550-d56119284fec"
      },
      "execution_count": null,
      "outputs": [
        {
          "output_type": "execute_result",
          "data": {
            "text/plain": [
              "matrix([[0, 0, 0, ..., 0, 0, 0],\n",
              "        [0, 0, 0, ..., 0, 0, 0],\n",
              "        [0, 0, 0, ..., 0, 0, 0],\n",
              "        ...,\n",
              "        [0, 0, 0, ..., 1, 1, 0],\n",
              "        [0, 0, 0, ..., 0, 0, 0],\n",
              "        [0, 0, 0, ..., 0, 0, 0]])"
            ]
          },
          "metadata": {},
          "execution_count": 303
        }
      ]
    },
    {
      "cell_type": "code",
      "source": [],
      "metadata": {
        "id": "Hsgma9y4Jnt2"
      },
      "execution_count": null,
      "outputs": []
    },
    {
      "cell_type": "code",
      "source": [
        "print(count_matrix[0,:])"
      ],
      "metadata": {
        "colab": {
          "base_uri": "https://localhost:8080/"
        },
        "id": "C8jSu5GlJnws",
        "outputId": "5489061e-8bcc-420e-eee4-33bd3e03fe6c"
      },
      "execution_count": null,
      "outputs": [
        {
          "output_type": "stream",
          "name": "stdout",
          "text": [
            "  (0, 1651)\t1\n",
            "  (0, 1975)\t1\n",
            "  (0, 275)\t1\n",
            "  (0, 569)\t1\n",
            "  (0, 217)\t1\n",
            "  (0, 236)\t1\n",
            "  (0, 2202)\t1\n",
            "  (0, 93)\t1\n",
            "  (0, 863)\t1\n",
            "  (0, 1868)\t1\n",
            "  (0, 1708)\t1\n",
            "  (0, 1094)\t1\n",
            "  (0, 2551)\t1\n",
            "  (0, 1500)\t1\n",
            "  (0, 2569)\t1\n",
            "  (0, 625)\t1\n",
            "  (0, 2238)\t1\n"
          ]
        }
      ]
    },
    {
      "cell_type": "code",
      "source": [],
      "metadata": {
        "id": "dbvrwjDlJvsH"
      },
      "execution_count": null,
      "outputs": []
    },
    {
      "cell_type": "markdown",
      "source": [
        "# Menghitung nilai cosine similarity"
      ],
      "metadata": {
        "id": "-VT4DcFazahw"
      }
    },
    {
      "cell_type": "code",
      "source": [
        "cosine_sim = cosine_similarity(count_matrix, count_matrix)\n",
        "cosine_sim"
      ],
      "metadata": {
        "colab": {
          "base_uri": "https://localhost:8080/"
        },
        "id": "wqBvsTvpJvvN",
        "outputId": "955c5ed4-0482-4d2a-c207-dda653419304"
      },
      "execution_count": null,
      "outputs": [
        {
          "output_type": "execute_result",
          "data": {
            "text/plain": [
              "array([[1.        , 0.        , 0.13453456, ..., 0.09335201, 0.06726728,\n",
              "        0.2300895 ],\n",
              "       [0.        , 1.        , 0.        , ..., 0.        , 0.09805807,\n",
              "        0.        ],\n",
              "       [0.13453456, 0.        , 1.        , ..., 0.1067521 , 0.11538462,\n",
              "        0.0877058 ],\n",
              "       ...,\n",
              "       [0.09335201, 0.        , 0.1067521 , ..., 1.        , 0.1067521 ,\n",
              "        0.12171612],\n",
              "       [0.06726728, 0.09805807, 0.11538462, ..., 0.1067521 , 1.        ,\n",
              "        0.0877058 ],\n",
              "       [0.2300895 , 0.        , 0.0877058 , ..., 0.12171612, 0.0877058 ,\n",
              "        1.        ]])"
            ]
          },
          "metadata": {},
          "execution_count": 305
        }
      ]
    },
    {
      "cell_type": "markdown",
      "source": [
        "# Membuat rekomendasi"
      ],
      "metadata": {
        "id": "VXnByRnLzhF9"
      }
    },
    {
      "cell_type": "code",
      "source": [
        "indices = pd.Series(df.index)\n",
        "indices"
      ],
      "metadata": {
        "colab": {
          "base_uri": "https://localhost:8080/"
        },
        "id": "3CzLGpAyJyX7",
        "outputId": "91f5bfdf-adc8-4dfa-b30c-f6ebc80039eb"
      },
      "execution_count": null,
      "outputs": [
        {
          "output_type": "execute_result",
          "data": {
            "text/plain": [
              "0      AALI\n",
              "1      ABBA\n",
              "2      ABDA\n",
              "3      ABMM\n",
              "4      ACES\n",
              "       ... \n",
              "878    ZATA\n",
              "879    ZBRA\n",
              "880    ZINC\n",
              "881    ZONE\n",
              "882    ZYRX\n",
              "Name: _id, Length: 883, dtype: object"
            ]
          },
          "metadata": {},
          "execution_count": 306
        }
      ]
    },
    {
      "cell_type": "code",
      "source": [
        "def recomendations(id, cosine_sim = cosine_sim):\n",
        "  recomended_stock= []\n",
        "  idx = indices[indices == id].index[0]\n",
        "\n",
        "  score_series = pd.Series(cosine_sim[idx]).sort_values(ascending = False)\n",
        "\n",
        "  top_10_indexes = list(score_series.iloc[1:11].index)\n",
        "\n",
        "  print(top_10_indexes)\n",
        "\n",
        "  for i in top_10_indexes:\n",
        "    recomended_stock.append(list(df.index)[i])\n",
        "\n",
        "  return recomended_stock"
      ],
      "metadata": {
        "id": "y03k-6u5J1fN"
      },
      "execution_count": null,
      "outputs": []
    },
    {
      "cell_type": "code",
      "source": [
        "recomendations('MAGP')"
      ],
      "metadata": {
        "colab": {
          "base_uri": "https://localhost:8080/"
        },
        "id": "feWk3n-RKFsw",
        "outputId": "fa48d781-115a-4fb7-fec2-19eef9cbbe76"
      },
      "execution_count": null,
      "outputs": [
        {
          "output_type": "stream",
          "name": "stdout",
          "text": [
            "[177, 656, 724, 849, 0, 604, 255, 496, 782, 261]\n"
          ]
        },
        {
          "output_type": "execute_result",
          "data": {
            "text/plain": [
              "['BWPT',\n",
              " 'PSGO',\n",
              " 'SIMP',\n",
              " 'VICO',\n",
              " 'AALI',\n",
              " 'PALM',\n",
              " 'DSFI',\n",
              " 'MAIN',\n",
              " 'TAXI',\n",
              " 'DWGL']"
            ]
          },
          "metadata": {},
          "execution_count": 310
        }
      ]
    },
    {
      "cell_type": "code",
      "source": [
        "df['bag_of_words'].loc['MAGP']"
      ],
      "metadata": {
        "id": "a5UDx-teKI86",
        "colab": {
          "base_uri": "https://localhost:8080/",
          "height": 36
        },
        "outputId": "def367c0-b744-431f-a7a2-13e8214d516f"
      },
      "execution_count": null,
      "outputs": [
        {
          "output_type": "execute_result",
          "data": {
            "text/plain": [
              "'nonsiklikal produkmakananpertanian scope activities company mainly engage oil palm plantation'"
            ],
            "application/vnd.google.colaboratory.intrinsic+json": {
              "type": "string"
            }
          },
          "metadata": {},
          "execution_count": 311
        }
      ]
    },
    {
      "cell_type": "code",
      "source": [
        "df['bag_of_words'].loc['BWPT']"
      ],
      "metadata": {
        "colab": {
          "base_uri": "https://localhost:8080/",
          "height": 54
        },
        "id": "U6KTMe9l1Nx2",
        "outputId": "b5ba908e-4da9-4506-bee1-1a298264fd84"
      },
      "execution_count": null,
      "outputs": [
        {
          "output_type": "execute_result",
          "data": {
            "text/plain": [
              "'nonsiklikal produkmakananpertanian scope company activities mainly engage manufacturing agricultural business subsidiaries incorporated conduct operations indonesia currently engages palm plantation products consist refined crude oil kernel'"
            ],
            "application/vnd.google.colaboratory.intrinsic+json": {
              "type": "string"
            }
          },
          "metadata": {},
          "execution_count": 312
        }
      ]
    },
    {
      "cell_type": "code",
      "source": [
        "df['bag_of_words'].loc['PSGO']"
      ],
      "metadata": {
        "colab": {
          "base_uri": "https://localhost:8080/",
          "height": 54
        },
        "id": "-q0SnZYj1T_x",
        "outputId": "bede77b1-ff96-4c05-f33a-7743098a849e"
      },
      "execution_count": null,
      "outputs": [
        {
          "output_type": "execute_result",
          "data": {
            "text/plain": [
              "'nonsiklikal produkmakananpertanian company  main scope activities engaged holding management consultancy trading currently plantation palm oil processing industriesthrough subsidiary'"
            ],
            "application/vnd.google.colaboratory.intrinsic+json": {
              "type": "string"
            }
          },
          "metadata": {},
          "execution_count": 313
        }
      ]
    },
    {
      "cell_type": "code",
      "source": [
        "df['bag_of_words'].loc['SIMP']"
      ],
      "metadata": {
        "colab": {
          "base_uri": "https://localhost:8080/",
          "height": 36
        },
        "id": "rfPk-L9B1bYK",
        "outputId": "0acc4416-bcb9-4e40-a937-7b13a73cbbd6"
      },
      "execution_count": null,
      "outputs": [
        {
          "output_type": "execute_result",
          "data": {
            "text/plain": [
              "'nonsiklikal produkmakananpertanian company scope activities agribusiness plantation manufactures edible oils fats'"
            ],
            "application/vnd.google.colaboratory.intrinsic+json": {
              "type": "string"
            }
          },
          "metadata": {},
          "execution_count": 315
        }
      ]
    },
    {
      "cell_type": "code",
      "source": [
        "df['bag_of_words'].loc['AALI']"
      ],
      "metadata": {
        "colab": {
          "base_uri": "https://localhost:8080/",
          "height": 54
        },
        "id": "-k9O5JYB1mH4",
        "outputId": "babd0702-c7e8-4bdc-b450-b454e971da8b"
      },
      "execution_count": null,
      "outputs": [
        {
          "output_type": "execute_result",
          "data": {
            "text/plain": [
              "'nonsiklikal produkmakananpertanian based company articles association scope activities engage plantation operation general trading manufacturing transportation consultation services'"
            ],
            "application/vnd.google.colaboratory.intrinsic+json": {
              "type": "string"
            }
          },
          "metadata": {},
          "execution_count": 317
        }
      ]
    },
    {
      "cell_type": "code",
      "source": [
        "df['bag_of_words'].loc['PALM']"
      ],
      "metadata": {
        "colab": {
          "base_uri": "https://localhost:8080/",
          "height": 36
        },
        "id": "Ig8NEOEo10pD",
        "outputId": "e88872b4-b524-4df9-d7c2-4e4c02724b06"
      },
      "execution_count": null,
      "outputs": [
        {
          "output_type": "execute_result",
          "data": {
            "text/plain": [
              "'nonsiklikal produkmakananpertanian scope company activities engage agriculture trading manufacturing transportation services relation agroindustry'"
            ],
            "application/vnd.google.colaboratory.intrinsic+json": {
              "type": "string"
            }
          },
          "metadata": {},
          "execution_count": 318
        }
      ]
    },
    {
      "cell_type": "code",
      "source": [
        "df['bag_of_words'].loc['DSFI']"
      ],
      "metadata": {
        "colab": {
          "base_uri": "https://localhost:8080/",
          "height": 36
        },
        "id": "Xp7Eyw5k1-lY",
        "outputId": "16c614bd-d3de-4883-e0bf-89e3de2a6c15"
      },
      "execution_count": null,
      "outputs": [
        {
          "output_type": "execute_result",
          "data": {
            "text/plain": [
              "'nonsiklikal produkmakananpertanian scope company activities engage fishery including catching processing selling trading products'"
            ],
            "application/vnd.google.colaboratory.intrinsic+json": {
              "type": "string"
            }
          },
          "metadata": {},
          "execution_count": 319
        }
      ]
    },
    {
      "cell_type": "code",
      "source": [
        "df['bag_of_words'].loc['MAIN']"
      ],
      "metadata": {
        "colab": {
          "base_uri": "https://localhost:8080/",
          "height": 36
        },
        "id": "RjNKBs1q2G1y",
        "outputId": "3406cc03-6313-4d60-9197-b7ee7db19e57"
      },
      "execution_count": null,
      "outputs": [
        {
          "output_type": "execute_result",
          "data": {
            "text/plain": [
              "'nonsiklikal produkmakananpertanian company scope activities engage poultry feeds industry day old chicken doc farm'"
            ],
            "application/vnd.google.colaboratory.intrinsic+json": {
              "type": "string"
            }
          },
          "metadata": {},
          "execution_count": 320
        }
      ]
    },
    {
      "cell_type": "code",
      "source": [
        "df['bag_of_words'].loc['TAXI']"
      ],
      "metadata": {
        "colab": {
          "base_uri": "https://localhost:8080/",
          "height": 36
        },
        "id": "oPGoIUyd2Zdy",
        "outputId": "6d3d7fc8-dc10-47c3-9a95-808eab809c91"
      },
      "execution_count": null,
      "outputs": [
        {
          "output_type": "execute_result",
          "data": {
            "text/plain": [
              "'transportasi pengangkutandaratpenumpang scope company activities mainly engage land transportation services'"
            ],
            "application/vnd.google.colaboratory.intrinsic+json": {
              "type": "string"
            }
          },
          "metadata": {},
          "execution_count": 321
        }
      ]
    },
    {
      "cell_type": "code",
      "source": [
        "df['bag_of_words'].loc['DWGL']"
      ],
      "metadata": {
        "colab": {
          "base_uri": "https://localhost:8080/",
          "height": 36
        },
        "id": "7EIim1Yt26nw",
        "outputId": "90dc0bc9-a9dc-43b7-be0c-a3489e34d88d"
      },
      "execution_count": null,
      "outputs": [
        {
          "output_type": "execute_result",
          "data": {
            "text/plain": [
              "'energi batubara scope company activities engage mainly mining trading coal'"
            ],
            "application/vnd.google.colaboratory.intrinsic+json": {
              "type": "string"
            }
          },
          "metadata": {},
          "execution_count": 322
        }
      ]
    },
    {
      "cell_type": "code",
      "source": [],
      "metadata": {
        "id": "BjegcDl83AYl"
      },
      "execution_count": null,
      "outputs": []
    }
  ]
}