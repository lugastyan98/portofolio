{
  "nbformat": 4,
  "nbformat_minor": 0,
  "metadata": {
    "colab": {
      "provenance": [],
      "authorship_tag": "ABX9TyP4zPuFhiDpT0ZJlJN0YxHU",
      "include_colab_link": true
    },
    "kernelspec": {
      "name": "python3",
      "display_name": "Python 3"
    },
    "language_info": {
      "name": "python"
    }
  },
  "cells": [
    {
      "cell_type": "markdown",
      "metadata": {
        "id": "view-in-github",
        "colab_type": "text"
      },
      "source": [
        "<a href=\"https://colab.research.google.com/github/lugastyan98/portofolio/blob/main/rekomendation_system_versi_menggunakan_descripsi_dan_string_lainnya.ipynb\" target=\"_parent\"><img src=\"https://colab.research.google.com/assets/colab-badge.svg\" alt=\"Open In Colab\"/></a>"
      ]
    },
    {
      "cell_type": "markdown",
      "source": [
        "# library"
      ],
      "metadata": {
        "id": "3WT0IUHg5OOO"
      }
    },
    {
      "cell_type": "code",
      "source": [
        "!pip install rake_nltk"
      ],
      "metadata": {
        "colab": {
          "base_uri": "https://localhost:8080/"
        },
        "id": "wa-56hb07vft",
        "outputId": "be816471-c24c-4d83-9271-11e092a6f54a"
      },
      "execution_count": null,
      "outputs": [
        {
          "output_type": "stream",
          "name": "stdout",
          "text": [
            "Looking in indexes: https://pypi.org/simple, https://us-python.pkg.dev/colab-wheels/public/simple/\n",
            "Requirement already satisfied: rake_nltk in /usr/local/lib/python3.10/dist-packages (1.0.6)\n",
            "Requirement already satisfied: nltk<4.0.0,>=3.6.2 in /usr/local/lib/python3.10/dist-packages (from rake_nltk) (3.8.1)\n",
            "Requirement already satisfied: click in /usr/local/lib/python3.10/dist-packages (from nltk<4.0.0,>=3.6.2->rake_nltk) (8.1.3)\n",
            "Requirement already satisfied: joblib in /usr/local/lib/python3.10/dist-packages (from nltk<4.0.0,>=3.6.2->rake_nltk) (1.2.0)\n",
            "Requirement already satisfied: regex>=2021.8.3 in /usr/local/lib/python3.10/dist-packages (from nltk<4.0.0,>=3.6.2->rake_nltk) (2022.10.31)\n",
            "Requirement already satisfied: tqdm in /usr/local/lib/python3.10/dist-packages (from nltk<4.0.0,>=3.6.2->rake_nltk) (4.65.0)\n"
          ]
        }
      ]
    },
    {
      "cell_type": "code",
      "execution_count": null,
      "metadata": {
        "id": "bEQJJpCQ5NAn",
        "colab": {
          "base_uri": "https://localhost:8080/"
        },
        "outputId": "3acf859f-095a-4b05-eb3a-cd5b59d112d9"
      },
      "outputs": [
        {
          "output_type": "stream",
          "name": "stderr",
          "text": [
            "[nltk_data] Downloading package stopwords to /root/nltk_data...\n",
            "[nltk_data]   Package stopwords is already up-to-date!\n",
            "[nltk_data] Downloading package punkt to /root/nltk_data...\n",
            "[nltk_data]   Package punkt is already up-to-date!\n"
          ]
        }
      ],
      "source": [
        "import pandas as pd\n",
        "import numpy as np\n",
        "from sklearn.feature_extraction.text import TfidfVectorizer\n",
        "from sklearn.metrics.pairwise import cosine_similarity\n",
        "\n",
        "from sklearn.metrics.pairwise import cosine_similarity\n",
        "from sklearn.feature_extraction.text import CountVectorizer\n",
        "\n",
        "import rake_nltk\n",
        "from rake_nltk import Rake\n",
        "import nltk\n",
        "nltk.download('stopwords')\n",
        "nltk.download('punkt')\n",
        "\n",
        "from bs4 import BeautifulSoup #untuk perHTMLan"
      ]
    },
    {
      "cell_type": "markdown",
      "source": [
        "# Load dataset"
      ],
      "metadata": {
        "id": "xuLi3Oug-QRD"
      }
    },
    {
      "cell_type": "code",
      "source": [
        "from google.colab import drive\n",
        "drive.mount('/content/drive')"
      ],
      "metadata": {
        "colab": {
          "base_uri": "https://localhost:8080/"
        },
        "id": "tLvCN4Nz-KDe",
        "outputId": "f240d182-f691-47e5-8959-dbd8d4bf9965"
      },
      "execution_count": null,
      "outputs": [
        {
          "output_type": "stream",
          "name": "stdout",
          "text": [
            "Drive already mounted at /content/drive; to attempt to forcibly remount, call drive.mount(\"/content/drive\", force_remount=True).\n"
          ]
        }
      ]
    },
    {
      "cell_type": "code",
      "source": [
        "df = pd.read_csv('/content/drive/MyDrive/PINA dataset/semua_versi_4___edwin_2023-05-10T04_25_24.475027Z.csv')"
      ],
      "metadata": {
        "id": "7ZXBkQoP-W2x"
      },
      "execution_count": null,
      "outputs": []
    },
    {
      "cell_type": "code",
      "source": [
        "df_user = pd.read_csv('/content/drive/MyDrive/PINA dataset/user_portfolio.csv')"
      ],
      "metadata": {
        "id": "VxAk4LzM4H_n"
      },
      "execution_count": null,
      "outputs": []
    },
    {
      "cell_type": "code",
      "source": [
        "df_user.head()"
      ],
      "metadata": {
        "colab": {
          "base_uri": "https://localhost:8080/"
        },
        "id": "QEd3yWwYAKcC",
        "outputId": "7a018d1a-6b75-468c-8fe8-57e782310b4a"
      },
      "execution_count": null,
      "outputs": [
        {
          "output_type": "execute_result",
          "data": {
            "text/plain": [
              "  clientportfolioclientid clientportfoliostockid  clientportfoliobalance  \\\n",
              "0                 0000003                   FIMP              19000000.0   \n",
              "1                   01OLK                   BOLT                   100.0   \n",
              "2                       3                   CASH              47051800.0   \n",
              "3             ADANGWAH107                   TLKM                   100.0   \n",
              "4                  ADIN99                   TRIM                   100.0   \n",
              "\n",
              "  clientportfoliodate  date_rank_per_user  \n",
              "0          2023-05-05                   1  \n",
              "1          2023-05-05                   1  \n",
              "2          2022-03-28                   1  \n",
              "3          2023-05-05                   1  \n",
              "4          2023-05-05                   1  "
            ],
            "text/html": [
              "\n",
              "  <div id=\"df-8c58ece6-191e-4d8c-8cd5-e2151206ec06\">\n",
              "    <div class=\"colab-df-container\">\n",
              "      <div>\n",
              "<style scoped>\n",
              "    .dataframe tbody tr th:only-of-type {\n",
              "        vertical-align: middle;\n",
              "    }\n",
              "\n",
              "    .dataframe tbody tr th {\n",
              "        vertical-align: top;\n",
              "    }\n",
              "\n",
              "    .dataframe thead th {\n",
              "        text-align: right;\n",
              "    }\n",
              "</style>\n",
              "<table border=\"1\" class=\"dataframe\">\n",
              "  <thead>\n",
              "    <tr style=\"text-align: right;\">\n",
              "      <th></th>\n",
              "      <th>clientportfolioclientid</th>\n",
              "      <th>clientportfoliostockid</th>\n",
              "      <th>clientportfoliobalance</th>\n",
              "      <th>clientportfoliodate</th>\n",
              "      <th>date_rank_per_user</th>\n",
              "    </tr>\n",
              "  </thead>\n",
              "  <tbody>\n",
              "    <tr>\n",
              "      <th>0</th>\n",
              "      <td>0000003</td>\n",
              "      <td>FIMP</td>\n",
              "      <td>19000000.0</td>\n",
              "      <td>2023-05-05</td>\n",
              "      <td>1</td>\n",
              "    </tr>\n",
              "    <tr>\n",
              "      <th>1</th>\n",
              "      <td>01OLK</td>\n",
              "      <td>BOLT</td>\n",
              "      <td>100.0</td>\n",
              "      <td>2023-05-05</td>\n",
              "      <td>1</td>\n",
              "    </tr>\n",
              "    <tr>\n",
              "      <th>2</th>\n",
              "      <td>3</td>\n",
              "      <td>CASH</td>\n",
              "      <td>47051800.0</td>\n",
              "      <td>2022-03-28</td>\n",
              "      <td>1</td>\n",
              "    </tr>\n",
              "    <tr>\n",
              "      <th>3</th>\n",
              "      <td>ADANGWAH107</td>\n",
              "      <td>TLKM</td>\n",
              "      <td>100.0</td>\n",
              "      <td>2023-05-05</td>\n",
              "      <td>1</td>\n",
              "    </tr>\n",
              "    <tr>\n",
              "      <th>4</th>\n",
              "      <td>ADIN99</td>\n",
              "      <td>TRIM</td>\n",
              "      <td>100.0</td>\n",
              "      <td>2023-05-05</td>\n",
              "      <td>1</td>\n",
              "    </tr>\n",
              "  </tbody>\n",
              "</table>\n",
              "</div>\n",
              "      <button class=\"colab-df-convert\" onclick=\"convertToInteractive('df-8c58ece6-191e-4d8c-8cd5-e2151206ec06')\"\n",
              "              title=\"Convert this dataframe to an interactive table.\"\n",
              "              style=\"display:none;\">\n",
              "        \n",
              "  <svg xmlns=\"http://www.w3.org/2000/svg\" height=\"24px\"viewBox=\"0 0 24 24\"\n",
              "       width=\"24px\">\n",
              "    <path d=\"M0 0h24v24H0V0z\" fill=\"none\"/>\n",
              "    <path d=\"M18.56 5.44l.94 2.06.94-2.06 2.06-.94-2.06-.94-.94-2.06-.94 2.06-2.06.94zm-11 1L8.5 8.5l.94-2.06 2.06-.94-2.06-.94L8.5 2.5l-.94 2.06-2.06.94zm10 10l.94 2.06.94-2.06 2.06-.94-2.06-.94-.94-2.06-.94 2.06-2.06.94z\"/><path d=\"M17.41 7.96l-1.37-1.37c-.4-.4-.92-.59-1.43-.59-.52 0-1.04.2-1.43.59L10.3 9.45l-7.72 7.72c-.78.78-.78 2.05 0 2.83L4 21.41c.39.39.9.59 1.41.59.51 0 1.02-.2 1.41-.59l7.78-7.78 2.81-2.81c.8-.78.8-2.07 0-2.86zM5.41 20L4 18.59l7.72-7.72 1.47 1.35L5.41 20z\"/>\n",
              "  </svg>\n",
              "      </button>\n",
              "      \n",
              "  <style>\n",
              "    .colab-df-container {\n",
              "      display:flex;\n",
              "      flex-wrap:wrap;\n",
              "      gap: 12px;\n",
              "    }\n",
              "\n",
              "    .colab-df-convert {\n",
              "      background-color: #E8F0FE;\n",
              "      border: none;\n",
              "      border-radius: 50%;\n",
              "      cursor: pointer;\n",
              "      display: none;\n",
              "      fill: #1967D2;\n",
              "      height: 32px;\n",
              "      padding: 0 0 0 0;\n",
              "      width: 32px;\n",
              "    }\n",
              "\n",
              "    .colab-df-convert:hover {\n",
              "      background-color: #E2EBFA;\n",
              "      box-shadow: 0px 1px 2px rgba(60, 64, 67, 0.3), 0px 1px 3px 1px rgba(60, 64, 67, 0.15);\n",
              "      fill: #174EA6;\n",
              "    }\n",
              "\n",
              "    [theme=dark] .colab-df-convert {\n",
              "      background-color: #3B4455;\n",
              "      fill: #D2E3FC;\n",
              "    }\n",
              "\n",
              "    [theme=dark] .colab-df-convert:hover {\n",
              "      background-color: #434B5C;\n",
              "      box-shadow: 0px 1px 3px 1px rgba(0, 0, 0, 0.15);\n",
              "      filter: drop-shadow(0px 1px 2px rgba(0, 0, 0, 0.3));\n",
              "      fill: #FFFFFF;\n",
              "    }\n",
              "  </style>\n",
              "\n",
              "      <script>\n",
              "        const buttonEl =\n",
              "          document.querySelector('#df-8c58ece6-191e-4d8c-8cd5-e2151206ec06 button.colab-df-convert');\n",
              "        buttonEl.style.display =\n",
              "          google.colab.kernel.accessAllowed ? 'block' : 'none';\n",
              "\n",
              "        async function convertToInteractive(key) {\n",
              "          const element = document.querySelector('#df-8c58ece6-191e-4d8c-8cd5-e2151206ec06');\n",
              "          const dataTable =\n",
              "            await google.colab.kernel.invokeFunction('convertToInteractive',\n",
              "                                                     [key], {});\n",
              "          if (!dataTable) return;\n",
              "\n",
              "          const docLinkHtml = 'Like what you see? Visit the ' +\n",
              "            '<a target=\"_blank\" href=https://colab.research.google.com/notebooks/data_table.ipynb>data table notebook</a>'\n",
              "            + ' to learn more about interactive tables.';\n",
              "          element.innerHTML = '';\n",
              "          dataTable['output_type'] = 'display_data';\n",
              "          await google.colab.output.renderOutput(dataTable, element);\n",
              "          const docLink = document.createElement('div');\n",
              "          docLink.innerHTML = docLinkHtml;\n",
              "          element.appendChild(docLink);\n",
              "        }\n",
              "      </script>\n",
              "    </div>\n",
              "  </div>\n",
              "  "
            ]
          },
          "metadata": {},
          "execution_count": 108
        }
      ]
    },
    {
      "cell_type": "code",
      "source": [
        "df_grouped = pd.DataFrame(df_user.groupby('clientportfolioclientid')['clientportfoliostockid'].agg(list))"
      ],
      "metadata": {
        "id": "K1rVu0Q1AcNz"
      },
      "execution_count": null,
      "outputs": []
    },
    {
      "cell_type": "code",
      "source": [
        "df_grouped = df_grouped.reset_index()"
      ],
      "metadata": {
        "id": "ax41A96hA9zA"
      },
      "execution_count": null,
      "outputs": []
    },
    {
      "cell_type": "code",
      "source": [
        "df_grouped.head() # rencanaya ini mau dipake buat user base"
      ],
      "metadata": {
        "colab": {
          "base_uri": "https://localhost:8080/"
        },
        "id": "Jkd42hVvTpch",
        "outputId": "29dfc90a-2735-43d3-8f6a-1c15c23d4b2b"
      },
      "execution_count": null,
      "outputs": [
        {
          "output_type": "execute_result",
          "data": {
            "text/plain": [
              "  clientportfolioclientid clientportfoliostockid\n",
              "0                 0000003                 [FIMP]\n",
              "1                   01OLK                 [BOLT]\n",
              "2                       3                 [CASH]\n",
              "3             ADANGWAH107                 [TLKM]\n",
              "4                  ADIN99                 [TRIM]"
            ],
            "text/html": [
              "\n",
              "  <div id=\"df-b5035d34-7c6f-4143-bbe7-37df932e2da3\">\n",
              "    <div class=\"colab-df-container\">\n",
              "      <div>\n",
              "<style scoped>\n",
              "    .dataframe tbody tr th:only-of-type {\n",
              "        vertical-align: middle;\n",
              "    }\n",
              "\n",
              "    .dataframe tbody tr th {\n",
              "        vertical-align: top;\n",
              "    }\n",
              "\n",
              "    .dataframe thead th {\n",
              "        text-align: right;\n",
              "    }\n",
              "</style>\n",
              "<table border=\"1\" class=\"dataframe\">\n",
              "  <thead>\n",
              "    <tr style=\"text-align: right;\">\n",
              "      <th></th>\n",
              "      <th>clientportfolioclientid</th>\n",
              "      <th>clientportfoliostockid</th>\n",
              "    </tr>\n",
              "  </thead>\n",
              "  <tbody>\n",
              "    <tr>\n",
              "      <th>0</th>\n",
              "      <td>0000003</td>\n",
              "      <td>[FIMP]</td>\n",
              "    </tr>\n",
              "    <tr>\n",
              "      <th>1</th>\n",
              "      <td>01OLK</td>\n",
              "      <td>[BOLT]</td>\n",
              "    </tr>\n",
              "    <tr>\n",
              "      <th>2</th>\n",
              "      <td>3</td>\n",
              "      <td>[CASH]</td>\n",
              "    </tr>\n",
              "    <tr>\n",
              "      <th>3</th>\n",
              "      <td>ADANGWAH107</td>\n",
              "      <td>[TLKM]</td>\n",
              "    </tr>\n",
              "    <tr>\n",
              "      <th>4</th>\n",
              "      <td>ADIN99</td>\n",
              "      <td>[TRIM]</td>\n",
              "    </tr>\n",
              "  </tbody>\n",
              "</table>\n",
              "</div>\n",
              "      <button class=\"colab-df-convert\" onclick=\"convertToInteractive('df-b5035d34-7c6f-4143-bbe7-37df932e2da3')\"\n",
              "              title=\"Convert this dataframe to an interactive table.\"\n",
              "              style=\"display:none;\">\n",
              "        \n",
              "  <svg xmlns=\"http://www.w3.org/2000/svg\" height=\"24px\"viewBox=\"0 0 24 24\"\n",
              "       width=\"24px\">\n",
              "    <path d=\"M0 0h24v24H0V0z\" fill=\"none\"/>\n",
              "    <path d=\"M18.56 5.44l.94 2.06.94-2.06 2.06-.94-2.06-.94-.94-2.06-.94 2.06-2.06.94zm-11 1L8.5 8.5l.94-2.06 2.06-.94-2.06-.94L8.5 2.5l-.94 2.06-2.06.94zm10 10l.94 2.06.94-2.06 2.06-.94-2.06-.94-.94-2.06-.94 2.06-2.06.94z\"/><path d=\"M17.41 7.96l-1.37-1.37c-.4-.4-.92-.59-1.43-.59-.52 0-1.04.2-1.43.59L10.3 9.45l-7.72 7.72c-.78.78-.78 2.05 0 2.83L4 21.41c.39.39.9.59 1.41.59.51 0 1.02-.2 1.41-.59l7.78-7.78 2.81-2.81c.8-.78.8-2.07 0-2.86zM5.41 20L4 18.59l7.72-7.72 1.47 1.35L5.41 20z\"/>\n",
              "  </svg>\n",
              "      </button>\n",
              "      \n",
              "  <style>\n",
              "    .colab-df-container {\n",
              "      display:flex;\n",
              "      flex-wrap:wrap;\n",
              "      gap: 12px;\n",
              "    }\n",
              "\n",
              "    .colab-df-convert {\n",
              "      background-color: #E8F0FE;\n",
              "      border: none;\n",
              "      border-radius: 50%;\n",
              "      cursor: pointer;\n",
              "      display: none;\n",
              "      fill: #1967D2;\n",
              "      height: 32px;\n",
              "      padding: 0 0 0 0;\n",
              "      width: 32px;\n",
              "    }\n",
              "\n",
              "    .colab-df-convert:hover {\n",
              "      background-color: #E2EBFA;\n",
              "      box-shadow: 0px 1px 2px rgba(60, 64, 67, 0.3), 0px 1px 3px 1px rgba(60, 64, 67, 0.15);\n",
              "      fill: #174EA6;\n",
              "    }\n",
              "\n",
              "    [theme=dark] .colab-df-convert {\n",
              "      background-color: #3B4455;\n",
              "      fill: #D2E3FC;\n",
              "    }\n",
              "\n",
              "    [theme=dark] .colab-df-convert:hover {\n",
              "      background-color: #434B5C;\n",
              "      box-shadow: 0px 1px 3px 1px rgba(0, 0, 0, 0.15);\n",
              "      filter: drop-shadow(0px 1px 2px rgba(0, 0, 0, 0.3));\n",
              "      fill: #FFFFFF;\n",
              "    }\n",
              "  </style>\n",
              "\n",
              "      <script>\n",
              "        const buttonEl =\n",
              "          document.querySelector('#df-b5035d34-7c6f-4143-bbe7-37df932e2da3 button.colab-df-convert');\n",
              "        buttonEl.style.display =\n",
              "          google.colab.kernel.accessAllowed ? 'block' : 'none';\n",
              "\n",
              "        async function convertToInteractive(key) {\n",
              "          const element = document.querySelector('#df-b5035d34-7c6f-4143-bbe7-37df932e2da3');\n",
              "          const dataTable =\n",
              "            await google.colab.kernel.invokeFunction('convertToInteractive',\n",
              "                                                     [key], {});\n",
              "          if (!dataTable) return;\n",
              "\n",
              "          const docLinkHtml = 'Like what you see? Visit the ' +\n",
              "            '<a target=\"_blank\" href=https://colab.research.google.com/notebooks/data_table.ipynb>data table notebook</a>'\n",
              "            + ' to learn more about interactive tables.';\n",
              "          element.innerHTML = '';\n",
              "          dataTable['output_type'] = 'display_data';\n",
              "          await google.colab.output.renderOutput(dataTable, element);\n",
              "          const docLink = document.createElement('div');\n",
              "          docLink.innerHTML = docLinkHtml;\n",
              "          element.appendChild(docLink);\n",
              "        }\n",
              "      </script>\n",
              "    </div>\n",
              "  </div>\n",
              "  "
            ]
          },
          "metadata": {},
          "execution_count": 111
        }
      ]
    },
    {
      "cell_type": "code",
      "source": [
        "df_grouped.columns  = ['id','portofolio']"
      ],
      "metadata": {
        "id": "daFM65ZsBhEC"
      },
      "execution_count": null,
      "outputs": []
    },
    {
      "cell_type": "code",
      "source": [
        "df_grouped.head()"
      ],
      "metadata": {
        "colab": {
          "base_uri": "https://localhost:8080/"
        },
        "id": "4U2Oe_pJRXjI",
        "outputId": "786924ec-4bef-4800-e97e-32867f98f8c5"
      },
      "execution_count": null,
      "outputs": [
        {
          "output_type": "execute_result",
          "data": {
            "text/plain": [
              "            id portofolio\n",
              "0      0000003     [FIMP]\n",
              "1        01OLK     [BOLT]\n",
              "2            3     [CASH]\n",
              "3  ADANGWAH107     [TLKM]\n",
              "4       ADIN99     [TRIM]"
            ],
            "text/html": [
              "\n",
              "  <div id=\"df-a8082569-5497-41c5-a453-98d757410d7a\">\n",
              "    <div class=\"colab-df-container\">\n",
              "      <div>\n",
              "<style scoped>\n",
              "    .dataframe tbody tr th:only-of-type {\n",
              "        vertical-align: middle;\n",
              "    }\n",
              "\n",
              "    .dataframe tbody tr th {\n",
              "        vertical-align: top;\n",
              "    }\n",
              "\n",
              "    .dataframe thead th {\n",
              "        text-align: right;\n",
              "    }\n",
              "</style>\n",
              "<table border=\"1\" class=\"dataframe\">\n",
              "  <thead>\n",
              "    <tr style=\"text-align: right;\">\n",
              "      <th></th>\n",
              "      <th>id</th>\n",
              "      <th>portofolio</th>\n",
              "    </tr>\n",
              "  </thead>\n",
              "  <tbody>\n",
              "    <tr>\n",
              "      <th>0</th>\n",
              "      <td>0000003</td>\n",
              "      <td>[FIMP]</td>\n",
              "    </tr>\n",
              "    <tr>\n",
              "      <th>1</th>\n",
              "      <td>01OLK</td>\n",
              "      <td>[BOLT]</td>\n",
              "    </tr>\n",
              "    <tr>\n",
              "      <th>2</th>\n",
              "      <td>3</td>\n",
              "      <td>[CASH]</td>\n",
              "    </tr>\n",
              "    <tr>\n",
              "      <th>3</th>\n",
              "      <td>ADANGWAH107</td>\n",
              "      <td>[TLKM]</td>\n",
              "    </tr>\n",
              "    <tr>\n",
              "      <th>4</th>\n",
              "      <td>ADIN99</td>\n",
              "      <td>[TRIM]</td>\n",
              "    </tr>\n",
              "  </tbody>\n",
              "</table>\n",
              "</div>\n",
              "      <button class=\"colab-df-convert\" onclick=\"convertToInteractive('df-a8082569-5497-41c5-a453-98d757410d7a')\"\n",
              "              title=\"Convert this dataframe to an interactive table.\"\n",
              "              style=\"display:none;\">\n",
              "        \n",
              "  <svg xmlns=\"http://www.w3.org/2000/svg\" height=\"24px\"viewBox=\"0 0 24 24\"\n",
              "       width=\"24px\">\n",
              "    <path d=\"M0 0h24v24H0V0z\" fill=\"none\"/>\n",
              "    <path d=\"M18.56 5.44l.94 2.06.94-2.06 2.06-.94-2.06-.94-.94-2.06-.94 2.06-2.06.94zm-11 1L8.5 8.5l.94-2.06 2.06-.94-2.06-.94L8.5 2.5l-.94 2.06-2.06.94zm10 10l.94 2.06.94-2.06 2.06-.94-2.06-.94-.94-2.06-.94 2.06-2.06.94z\"/><path d=\"M17.41 7.96l-1.37-1.37c-.4-.4-.92-.59-1.43-.59-.52 0-1.04.2-1.43.59L10.3 9.45l-7.72 7.72c-.78.78-.78 2.05 0 2.83L4 21.41c.39.39.9.59 1.41.59.51 0 1.02-.2 1.41-.59l7.78-7.78 2.81-2.81c.8-.78.8-2.07 0-2.86zM5.41 20L4 18.59l7.72-7.72 1.47 1.35L5.41 20z\"/>\n",
              "  </svg>\n",
              "      </button>\n",
              "      \n",
              "  <style>\n",
              "    .colab-df-container {\n",
              "      display:flex;\n",
              "      flex-wrap:wrap;\n",
              "      gap: 12px;\n",
              "    }\n",
              "\n",
              "    .colab-df-convert {\n",
              "      background-color: #E8F0FE;\n",
              "      border: none;\n",
              "      border-radius: 50%;\n",
              "      cursor: pointer;\n",
              "      display: none;\n",
              "      fill: #1967D2;\n",
              "      height: 32px;\n",
              "      padding: 0 0 0 0;\n",
              "      width: 32px;\n",
              "    }\n",
              "\n",
              "    .colab-df-convert:hover {\n",
              "      background-color: #E2EBFA;\n",
              "      box-shadow: 0px 1px 2px rgba(60, 64, 67, 0.3), 0px 1px 3px 1px rgba(60, 64, 67, 0.15);\n",
              "      fill: #174EA6;\n",
              "    }\n",
              "\n",
              "    [theme=dark] .colab-df-convert {\n",
              "      background-color: #3B4455;\n",
              "      fill: #D2E3FC;\n",
              "    }\n",
              "\n",
              "    [theme=dark] .colab-df-convert:hover {\n",
              "      background-color: #434B5C;\n",
              "      box-shadow: 0px 1px 3px 1px rgba(0, 0, 0, 0.15);\n",
              "      filter: drop-shadow(0px 1px 2px rgba(0, 0, 0, 0.3));\n",
              "      fill: #FFFFFF;\n",
              "    }\n",
              "  </style>\n",
              "\n",
              "      <script>\n",
              "        const buttonEl =\n",
              "          document.querySelector('#df-a8082569-5497-41c5-a453-98d757410d7a button.colab-df-convert');\n",
              "        buttonEl.style.display =\n",
              "          google.colab.kernel.accessAllowed ? 'block' : 'none';\n",
              "\n",
              "        async function convertToInteractive(key) {\n",
              "          const element = document.querySelector('#df-a8082569-5497-41c5-a453-98d757410d7a');\n",
              "          const dataTable =\n",
              "            await google.colab.kernel.invokeFunction('convertToInteractive',\n",
              "                                                     [key], {});\n",
              "          if (!dataTable) return;\n",
              "\n",
              "          const docLinkHtml = 'Like what you see? Visit the ' +\n",
              "            '<a target=\"_blank\" href=https://colab.research.google.com/notebooks/data_table.ipynb>data table notebook</a>'\n",
              "            + ' to learn more about interactive tables.';\n",
              "          element.innerHTML = '';\n",
              "          dataTable['output_type'] = 'display_data';\n",
              "          await google.colab.output.renderOutput(dataTable, element);\n",
              "          const docLink = document.createElement('div');\n",
              "          docLink.innerHTML = docLinkHtml;\n",
              "          element.appendChild(docLink);\n",
              "        }\n",
              "      </script>\n",
              "    </div>\n",
              "  </div>\n",
              "  "
            ]
          },
          "metadata": {},
          "execution_count": 113
        }
      ]
    },
    {
      "cell_type": "code",
      "source": [
        "df_grouped.info()"
      ],
      "metadata": {
        "colab": {
          "base_uri": "https://localhost:8080/"
        },
        "id": "F8qMjkoV_gXe",
        "outputId": "9b7565b3-35dc-47da-ced6-595b9043d90b"
      },
      "execution_count": null,
      "outputs": [
        {
          "output_type": "stream",
          "name": "stdout",
          "text": [
            "<class 'pandas.core.frame.DataFrame'>\n",
            "RangeIndex: 555 entries, 0 to 554\n",
            "Data columns (total 2 columns):\n",
            " #   Column      Non-Null Count  Dtype \n",
            "---  ------      --------------  ----- \n",
            " 0   id          555 non-null    object\n",
            " 1   portofolio  555 non-null    object\n",
            "dtypes: object(2)\n",
            "memory usage: 8.8+ KB\n"
          ]
        }
      ]
    },
    {
      "cell_type": "code",
      "source": [
        "print(df_grouped['id'].nunique())"
      ],
      "metadata": {
        "colab": {
          "base_uri": "https://localhost:8080/"
        },
        "id": "NXw_XqLS4gRn",
        "outputId": "3e85a25f-a397-410b-c0b4-3ef3bc3faaa5"
      },
      "execution_count": null,
      "outputs": [
        {
          "output_type": "stream",
          "name": "stdout",
          "text": [
            "555\n"
          ]
        }
      ]
    },
    {
      "cell_type": "code",
      "source": [
        "df.info()"
      ],
      "metadata": {
        "id": "oWTU69Rw_0A4",
        "colab": {
          "base_uri": "https://localhost:8080/"
        },
        "outputId": "9c72b7e0-a3f2-4cd4-f5b1-1a2b43573c0b"
      },
      "execution_count": null,
      "outputs": [
        {
          "output_type": "stream",
          "name": "stdout",
          "text": [
            "<class 'pandas.core.frame.DataFrame'>\n",
            "RangeIndex: 883 entries, 0 to 882\n",
            "Data columns (total 54 columns):\n",
            " #   Column                   Non-Null Count  Dtype  \n",
            "---  ------                   --------------  -----  \n",
            " 0   _id                      883 non-null    object \n",
            " 1   sector                   883 non-null    object \n",
            " 2   idx                      883 non-null    object \n",
            " 3   thematic                 883 non-null    object \n",
            " 4   general_info             865 non-null    object \n",
            " 5   business_product         669 non-null    object \n",
            " 6   total_asset_growth       853 non-null    float64\n",
            " 7   price_sales_ratio        845 non-null    float64\n",
            " 8   sales_growth             834 non-null    float64\n",
            " 9   quick_ratio              849 non-null    float64\n",
            " 10  cost_of_goods_sold       853 non-null    float64\n",
            " 11  cash_flow_per_share      850 non-null    float64\n",
            " 12  net_income_growth        839 non-null    float64\n",
            " 13  operating_profit         853 non-null    float64\n",
            " 14  income_before_tax        853 non-null    float64\n",
            " 15  total_assets             853 non-null    float64\n",
            " 16  total_equity             853 non-null    float64\n",
            " 17  total_liabilities        853 non-null    float64\n",
            " 18  debt_to_equity_ratio     853 non-null    float64\n",
            " 19  cash_equivalent          853 non-null    float64\n",
            " 20  total_sales              853 non-null    float64\n",
            " 21  operating_profit_margin  848 non-null    float64\n",
            " 22  gross_profit_margin      848 non-null    float64\n",
            " 23  net_profit_margin        848 non-null    float64\n",
            " 24  net_income               853 non-null    float64\n",
            " 25  market_cap               861 non-null    float64\n",
            " 26  dailyReturn              861 non-null    float64\n",
            " 27  monthlyReturn            861 non-null    float64\n",
            " 28  annualReturn             861 non-null    float64\n",
            " 29  threeYearReturn          861 non-null    float64\n",
            " 30  fiveYearReturn           861 non-null    float64\n",
            " 31  tenYearReturn            789 non-null    float64\n",
            " 32  listedShare              863 non-null    float64\n",
            " 33  tradableVolume           801 non-null    float64\n",
            " 34  offerVolume              801 non-null    float64\n",
            " 35  tradableValue            858 non-null    float64\n",
            " 36  openPrice                863 non-null    float64\n",
            " 37  closePrice               863 non-null    float64\n",
            " 38  averagePrice             863 non-null    float64\n",
            " 39  lastTradedPrice          863 non-null    float64\n",
            " 40  lowTradedPrice           863 non-null    float64\n",
            " 41  highTradedPrice          863 non-null    float64\n",
            " 42  bidPrice                 749 non-null    float64\n",
            " 43  offerPrice               801 non-null    float64\n",
            " 44  book_value_per_share     853 non-null    float64\n",
            " 45  eps                      778 non-null    float64\n",
            " 46  pbv                      863 non-null    float64\n",
            " 47  roa                      853 non-null    float64\n",
            " 48  roe                      853 non-null    float64\n",
            " 49  per                      787 non-null    float64\n",
            " 50  description              669 non-null    object \n",
            " 51  underwriter              669 non-null    object \n",
            " 52  shareholders             669 non-null    object \n",
            " 53  industry                 883 non-null    object \n",
            "dtypes: float64(44), object(10)\n",
            "memory usage: 372.6+ KB\n"
          ]
        }
      ]
    },
    {
      "cell_type": "markdown",
      "source": [
        "# Missing Value"
      ],
      "metadata": {
        "id": "Uky5dcKa_pQ1"
      }
    },
    {
      "cell_type": "markdown",
      "source": [
        "Missing value akan diisi dengan rata-rata.\n",
        "Tidak dihapus karena data _id itu merupakan data semua saham di PINA\n"
      ],
      "metadata": {
        "id": "7QDn56SDA0O6"
      }
    },
    {
      "cell_type": "code",
      "source": [
        "df.isnull().sum() #cek yang NaNT"
      ],
      "metadata": {
        "colab": {
          "base_uri": "https://localhost:8080/"
        },
        "id": "_hrO4y-R_rYw",
        "outputId": "be4caeb3-fcee-465a-ceb1-5ebc5a3f99ef"
      },
      "execution_count": null,
      "outputs": [
        {
          "output_type": "execute_result",
          "data": {
            "text/plain": [
              "_id                          0\n",
              "sector                       0\n",
              "idx                          0\n",
              "thematic                     0\n",
              "general_info                18\n",
              "business_product           214\n",
              "total_asset_growth          30\n",
              "price_sales_ratio           38\n",
              "sales_growth                49\n",
              "quick_ratio                 34\n",
              "cost_of_goods_sold          30\n",
              "cash_flow_per_share         33\n",
              "net_income_growth           44\n",
              "operating_profit            30\n",
              "income_before_tax           30\n",
              "total_assets                30\n",
              "total_equity                30\n",
              "total_liabilities           30\n",
              "debt_to_equity_ratio        30\n",
              "cash_equivalent             30\n",
              "total_sales                 30\n",
              "operating_profit_margin     35\n",
              "gross_profit_margin         35\n",
              "net_profit_margin           35\n",
              "net_income                  30\n",
              "market_cap                  22\n",
              "dailyReturn                 22\n",
              "monthlyReturn               22\n",
              "annualReturn                22\n",
              "threeYearReturn             22\n",
              "fiveYearReturn              22\n",
              "tenYearReturn               94\n",
              "listedShare                 20\n",
              "tradableVolume              82\n",
              "offerVolume                 82\n",
              "tradableValue               25\n",
              "openPrice                   20\n",
              "closePrice                  20\n",
              "averagePrice                20\n",
              "lastTradedPrice             20\n",
              "lowTradedPrice              20\n",
              "highTradedPrice             20\n",
              "bidPrice                   134\n",
              "offerPrice                  82\n",
              "book_value_per_share        30\n",
              "eps                        105\n",
              "pbv                         20\n",
              "roa                         30\n",
              "roe                         30\n",
              "per                         96\n",
              "description                214\n",
              "underwriter                214\n",
              "shareholders               214\n",
              "industry                     0\n",
              "dtype: int64"
            ]
          },
          "metadata": {},
          "execution_count": 117
        }
      ]
    },
    {
      "cell_type": "code",
      "source": [
        "#mengisi NaN kolum general_info dengan string kosong\n",
        "df['general_info'].fillna('', inplace=True)"
      ],
      "metadata": {
        "id": "lo5F784YG77H"
      },
      "execution_count": null,
      "outputs": []
    },
    {
      "cell_type": "code",
      "source": [
        "#string yang NaN ini diisi sama ''\n",
        "df[['business_product','description', 'underwriter', 'shareholders']] = df[['business_product','description', 'underwriter', 'shareholders']].fillna('')"
      ],
      "metadata": {
        "id": "Vs-gV4o0j0FD"
      },
      "execution_count": null,
      "outputs": []
    },
    {
      "cell_type": "code",
      "source": [
        "count = df['_id'].nunique()\n",
        "print(count)"
      ],
      "metadata": {
        "colab": {
          "base_uri": "https://localhost:8080/"
        },
        "id": "o8oXOMz0ANwJ",
        "outputId": "04e65263-0cff-46d4-c816-8fe1bdc4e3e8"
      },
      "execution_count": null,
      "outputs": [
        {
          "output_type": "stream",
          "name": "stdout",
          "text": [
            "883\n"
          ]
        }
      ]
    },
    {
      "cell_type": "code",
      "source": [
        "df.fillna(df.mean(), inplace=True) #mengisi dengan nilai rata-rata"
      ],
      "metadata": {
        "colab": {
          "base_uri": "https://localhost:8080/"
        },
        "id": "KK0ETcvZArJW",
        "outputId": "135bf079-89a6-4525-d220-7740e24c9346"
      },
      "execution_count": null,
      "outputs": [
        {
          "output_type": "stream",
          "name": "stderr",
          "text": [
            "<ipython-input-121-9598921fdd30>:1: FutureWarning: The default value of numeric_only in DataFrame.mean is deprecated. In a future version, it will default to False. In addition, specifying 'numeric_only=None' is deprecated. Select only valid columns or specify the value of numeric_only to silence this warning.\n",
            "  df.fillna(df.mean(), inplace=True) #mengisi dengan nilai rata-rata\n"
          ]
        }
      ]
    },
    {
      "cell_type": "code",
      "source": [
        "df.info()"
      ],
      "metadata": {
        "id": "at64pTPACKz3",
        "colab": {
          "base_uri": "https://localhost:8080/"
        },
        "outputId": "f95c68fe-45de-4e1f-9802-342e4539af19"
      },
      "execution_count": null,
      "outputs": [
        {
          "output_type": "stream",
          "name": "stdout",
          "text": [
            "<class 'pandas.core.frame.DataFrame'>\n",
            "RangeIndex: 883 entries, 0 to 882\n",
            "Data columns (total 54 columns):\n",
            " #   Column                   Non-Null Count  Dtype  \n",
            "---  ------                   --------------  -----  \n",
            " 0   _id                      883 non-null    object \n",
            " 1   sector                   883 non-null    object \n",
            " 2   idx                      883 non-null    object \n",
            " 3   thematic                 883 non-null    object \n",
            " 4   general_info             883 non-null    object \n",
            " 5   business_product         883 non-null    object \n",
            " 6   total_asset_growth       883 non-null    float64\n",
            " 7   price_sales_ratio        883 non-null    float64\n",
            " 8   sales_growth             883 non-null    float64\n",
            " 9   quick_ratio              883 non-null    float64\n",
            " 10  cost_of_goods_sold       883 non-null    float64\n",
            " 11  cash_flow_per_share      883 non-null    float64\n",
            " 12  net_income_growth        883 non-null    float64\n",
            " 13  operating_profit         883 non-null    float64\n",
            " 14  income_before_tax        883 non-null    float64\n",
            " 15  total_assets             883 non-null    float64\n",
            " 16  total_equity             883 non-null    float64\n",
            " 17  total_liabilities        883 non-null    float64\n",
            " 18  debt_to_equity_ratio     883 non-null    float64\n",
            " 19  cash_equivalent          883 non-null    float64\n",
            " 20  total_sales              883 non-null    float64\n",
            " 21  operating_profit_margin  883 non-null    float64\n",
            " 22  gross_profit_margin      883 non-null    float64\n",
            " 23  net_profit_margin        883 non-null    float64\n",
            " 24  net_income               883 non-null    float64\n",
            " 25  market_cap               883 non-null    float64\n",
            " 26  dailyReturn              883 non-null    float64\n",
            " 27  monthlyReturn            883 non-null    float64\n",
            " 28  annualReturn             883 non-null    float64\n",
            " 29  threeYearReturn          883 non-null    float64\n",
            " 30  fiveYearReturn           883 non-null    float64\n",
            " 31  tenYearReturn            883 non-null    float64\n",
            " 32  listedShare              883 non-null    float64\n",
            " 33  tradableVolume           883 non-null    float64\n",
            " 34  offerVolume              883 non-null    float64\n",
            " 35  tradableValue            883 non-null    float64\n",
            " 36  openPrice                883 non-null    float64\n",
            " 37  closePrice               883 non-null    float64\n",
            " 38  averagePrice             883 non-null    float64\n",
            " 39  lastTradedPrice          883 non-null    float64\n",
            " 40  lowTradedPrice           883 non-null    float64\n",
            " 41  highTradedPrice          883 non-null    float64\n",
            " 42  bidPrice                 883 non-null    float64\n",
            " 43  offerPrice               883 non-null    float64\n",
            " 44  book_value_per_share     883 non-null    float64\n",
            " 45  eps                      883 non-null    float64\n",
            " 46  pbv                      883 non-null    float64\n",
            " 47  roa                      883 non-null    float64\n",
            " 48  roe                      883 non-null    float64\n",
            " 49  per                      883 non-null    float64\n",
            " 50  description              883 non-null    object \n",
            " 51  underwriter              883 non-null    object \n",
            " 52  shareholders             883 non-null    object \n",
            " 53  industry                 883 non-null    object \n",
            "dtypes: float64(44), object(10)\n",
            "memory usage: 372.6+ KB\n"
          ]
        }
      ]
    },
    {
      "cell_type": "code",
      "source": [
        "df.columns"
      ],
      "metadata": {
        "colab": {
          "base_uri": "https://localhost:8080/"
        },
        "id": "v-kFF72vkE2g",
        "outputId": "c0c16bfa-5549-44dd-d1bd-31e7199017ac"
      },
      "execution_count": null,
      "outputs": [
        {
          "output_type": "execute_result",
          "data": {
            "text/plain": [
              "Index(['_id', 'sector', 'idx', 'thematic', 'general_info', 'business_product',\n",
              "       'total_asset_growth', 'price_sales_ratio', 'sales_growth',\n",
              "       'quick_ratio', 'cost_of_goods_sold', 'cash_flow_per_share',\n",
              "       'net_income_growth', 'operating_profit', 'income_before_tax',\n",
              "       'total_assets', 'total_equity', 'total_liabilities',\n",
              "       'debt_to_equity_ratio', 'cash_equivalent', 'total_sales',\n",
              "       'operating_profit_margin', 'gross_profit_margin', 'net_profit_margin',\n",
              "       'net_income', 'market_cap', 'dailyReturn', 'monthlyReturn',\n",
              "       'annualReturn', 'threeYearReturn', 'fiveYearReturn', 'tenYearReturn',\n",
              "       'listedShare', 'tradableVolume', 'offerVolume', 'tradableValue',\n",
              "       'openPrice', 'closePrice', 'averagePrice', 'lastTradedPrice',\n",
              "       'lowTradedPrice', 'highTradedPrice', 'bidPrice', 'offerPrice',\n",
              "       'book_value_per_share', 'eps', 'pbv', 'roa', 'roe', 'per',\n",
              "       'description', 'underwriter', 'shareholders', 'industry'],\n",
              "      dtype='object')"
            ]
          },
          "metadata": {},
          "execution_count": 123
        }
      ]
    },
    {
      "cell_type": "code",
      "source": [
        "df.info()"
      ],
      "metadata": {
        "colab": {
          "base_uri": "https://localhost:8080/"
        },
        "id": "0QxrBRdCh89g",
        "outputId": "f70d7d13-cde5-433e-d866-6436a9421a38"
      },
      "execution_count": null,
      "outputs": [
        {
          "output_type": "stream",
          "name": "stdout",
          "text": [
            "<class 'pandas.core.frame.DataFrame'>\n",
            "RangeIndex: 883 entries, 0 to 882\n",
            "Data columns (total 54 columns):\n",
            " #   Column                   Non-Null Count  Dtype  \n",
            "---  ------                   --------------  -----  \n",
            " 0   _id                      883 non-null    object \n",
            " 1   sector                   883 non-null    object \n",
            " 2   idx                      883 non-null    object \n",
            " 3   thematic                 883 non-null    object \n",
            " 4   general_info             883 non-null    object \n",
            " 5   business_product         883 non-null    object \n",
            " 6   total_asset_growth       883 non-null    float64\n",
            " 7   price_sales_ratio        883 non-null    float64\n",
            " 8   sales_growth             883 non-null    float64\n",
            " 9   quick_ratio              883 non-null    float64\n",
            " 10  cost_of_goods_sold       883 non-null    float64\n",
            " 11  cash_flow_per_share      883 non-null    float64\n",
            " 12  net_income_growth        883 non-null    float64\n",
            " 13  operating_profit         883 non-null    float64\n",
            " 14  income_before_tax        883 non-null    float64\n",
            " 15  total_assets             883 non-null    float64\n",
            " 16  total_equity             883 non-null    float64\n",
            " 17  total_liabilities        883 non-null    float64\n",
            " 18  debt_to_equity_ratio     883 non-null    float64\n",
            " 19  cash_equivalent          883 non-null    float64\n",
            " 20  total_sales              883 non-null    float64\n",
            " 21  operating_profit_margin  883 non-null    float64\n",
            " 22  gross_profit_margin      883 non-null    float64\n",
            " 23  net_profit_margin        883 non-null    float64\n",
            " 24  net_income               883 non-null    float64\n",
            " 25  market_cap               883 non-null    float64\n",
            " 26  dailyReturn              883 non-null    float64\n",
            " 27  monthlyReturn            883 non-null    float64\n",
            " 28  annualReturn             883 non-null    float64\n",
            " 29  threeYearReturn          883 non-null    float64\n",
            " 30  fiveYearReturn           883 non-null    float64\n",
            " 31  tenYearReturn            883 non-null    float64\n",
            " 32  listedShare              883 non-null    float64\n",
            " 33  tradableVolume           883 non-null    float64\n",
            " 34  offerVolume              883 non-null    float64\n",
            " 35  tradableValue            883 non-null    float64\n",
            " 36  openPrice                883 non-null    float64\n",
            " 37  closePrice               883 non-null    float64\n",
            " 38  averagePrice             883 non-null    float64\n",
            " 39  lastTradedPrice          883 non-null    float64\n",
            " 40  lowTradedPrice           883 non-null    float64\n",
            " 41  highTradedPrice          883 non-null    float64\n",
            " 42  bidPrice                 883 non-null    float64\n",
            " 43  offerPrice               883 non-null    float64\n",
            " 44  book_value_per_share     883 non-null    float64\n",
            " 45  eps                      883 non-null    float64\n",
            " 46  pbv                      883 non-null    float64\n",
            " 47  roa                      883 non-null    float64\n",
            " 48  roe                      883 non-null    float64\n",
            " 49  per                      883 non-null    float64\n",
            " 50  description              883 non-null    object \n",
            " 51  underwriter              883 non-null    object \n",
            " 52  shareholders             883 non-null    object \n",
            " 53  industry                 883 non-null    object \n",
            "dtypes: float64(44), object(10)\n",
            "memory usage: 372.6+ KB\n"
          ]
        }
      ]
    },
    {
      "cell_type": "code",
      "source": [
        "df.columns"
      ],
      "metadata": {
        "colab": {
          "base_uri": "https://localhost:8080/"
        },
        "id": "noi2Tzn7i25z",
        "outputId": "9ee9d42b-0d67-44fd-a827-cbc8d8a3ae66"
      },
      "execution_count": null,
      "outputs": [
        {
          "output_type": "execute_result",
          "data": {
            "text/plain": [
              "Index(['_id', 'sector', 'idx', 'thematic', 'general_info', 'business_product',\n",
              "       'total_asset_growth', 'price_sales_ratio', 'sales_growth',\n",
              "       'quick_ratio', 'cost_of_goods_sold', 'cash_flow_per_share',\n",
              "       'net_income_growth', 'operating_profit', 'income_before_tax',\n",
              "       'total_assets', 'total_equity', 'total_liabilities',\n",
              "       'debt_to_equity_ratio', 'cash_equivalent', 'total_sales',\n",
              "       'operating_profit_margin', 'gross_profit_margin', 'net_profit_margin',\n",
              "       'net_income', 'market_cap', 'dailyReturn', 'monthlyReturn',\n",
              "       'annualReturn', 'threeYearReturn', 'fiveYearReturn', 'tenYearReturn',\n",
              "       'listedShare', 'tradableVolume', 'offerVolume', 'tradableValue',\n",
              "       'openPrice', 'closePrice', 'averagePrice', 'lastTradedPrice',\n",
              "       'lowTradedPrice', 'highTradedPrice', 'bidPrice', 'offerPrice',\n",
              "       'book_value_per_share', 'eps', 'pbv', 'roa', 'roe', 'per',\n",
              "       'description', 'underwriter', 'shareholders', 'industry'],\n",
              "      dtype='object')"
            ]
          },
          "metadata": {},
          "execution_count": 125
        }
      ]
    },
    {
      "cell_type": "markdown",
      "source": [
        "# Menghapus kolum yang tidak digunakan (kali ini yaitu yang memiliki int)"
      ],
      "metadata": {
        "id": "2OfX82KG8H8Q"
      }
    },
    {
      "cell_type": "code",
      "source": [
        "#aku akan menghapus semua yang float karena ini versi menggunakan bacotan okay\n",
        "columns_to_drop = ['total_asset_growth', 'price_sales_ratio', 'sales_growth',\n",
        "       'quick_ratio', 'cost_of_goods_sold', 'cash_flow_per_share',\n",
        "       'net_income_growth', 'operating_profit', 'income_before_tax',\n",
        "       'total_assets', 'total_equity', 'total_liabilities',\n",
        "       'debt_to_equity_ratio', 'cash_equivalent', 'total_sales',\n",
        "       'operating_profit_margin', 'gross_profit_margin', 'net_profit_margin',\n",
        "       'net_income', 'market_cap', 'dailyReturn', 'monthlyReturn',\n",
        "       'annualReturn', 'threeYearReturn', 'fiveYearReturn', 'tenYearReturn',\n",
        "       'listedShare', 'tradableVolume', 'offerVolume', 'tradableValue',\n",
        "       'openPrice', 'closePrice', 'averagePrice', 'lastTradedPrice',\n",
        "       'lowTradedPrice', 'highTradedPrice', 'bidPrice', 'offerPrice',\n",
        "       'book_value_per_share', 'eps', 'pbv', 'roa', 'roe', 'per']\n",
        "df = df.drop(columns=columns_to_drop)\n"
      ],
      "metadata": {
        "id": "3ryRU_sEiUmm"
      },
      "execution_count": null,
      "outputs": []
    },
    {
      "cell_type": "code",
      "source": [
        "df.info()"
      ],
      "metadata": {
        "colab": {
          "base_uri": "https://localhost:8080/"
        },
        "id": "9JSzkRggiUqG",
        "outputId": "ee7c3f9f-132d-48fb-ee5b-475adce53d48"
      },
      "execution_count": null,
      "outputs": [
        {
          "output_type": "stream",
          "name": "stdout",
          "text": [
            "<class 'pandas.core.frame.DataFrame'>\n",
            "RangeIndex: 883 entries, 0 to 882\n",
            "Data columns (total 10 columns):\n",
            " #   Column            Non-Null Count  Dtype \n",
            "---  ------            --------------  ----- \n",
            " 0   _id               883 non-null    object\n",
            " 1   sector            883 non-null    object\n",
            " 2   idx               883 non-null    object\n",
            " 3   thematic          883 non-null    object\n",
            " 4   general_info      883 non-null    object\n",
            " 5   business_product  883 non-null    object\n",
            " 6   description       883 non-null    object\n",
            " 7   underwriter       883 non-null    object\n",
            " 8   shareholders      883 non-null    object\n",
            " 9   industry          883 non-null    object\n",
            "dtypes: object(10)\n",
            "memory usage: 69.1+ KB\n"
          ]
        }
      ]
    },
    {
      "cell_type": "markdown",
      "source": [
        "# Ayo rubah yang kode HTML"
      ],
      "metadata": {
        "id": "sH_k6-aITQTQ"
      }
    },
    {
      "cell_type": "code",
      "source": [
        "#bacot ah HTML HTMLan, hapus, musnahkan\n",
        "def html_to_string(html_code):\n",
        "    soup = BeautifulSoup(html_code, 'html.parser')\n",
        "    return soup.get_text()\n"
      ],
      "metadata": {
        "id": "rso2CryCTUVr"
      },
      "execution_count": null,
      "outputs": []
    },
    {
      "cell_type": "code",
      "source": [
        "df['business_product'] = df['business_product'].apply(html_to_string)\n",
        "df['description'] = df['description'].apply(html_to_string)\n",
        "df['underwriter'] = df['underwriter'].apply(html_to_string)\n",
        "df['shareholders'] = df['shareholders'].apply(html_to_string)"
      ],
      "metadata": {
        "id": "fXubUK9UTXkA"
      },
      "execution_count": null,
      "outputs": []
    },
    {
      "cell_type": "code",
      "source": [
        "df.head(2)"
      ],
      "metadata": {
        "colab": {
          "base_uri": "https://localhost:8080/",
          "height": 225
        },
        "id": "GHO01s3qToj9",
        "outputId": "bb06ac98-f6fe-44aa-86d7-750f63905ff1"
      },
      "execution_count": null,
      "outputs": [
        {
          "output_type": "execute_result",
          "data": {
            "text/plain": [
              "    _id            sector                                                idx  \\\n",
              "0  AALI  [\"Non-Siklikal\"]  [\"IDXSMC-LIQ\" \"JII70\" \"ESGQKEHATI\" \"IDX80\" \"IS...   \n",
              "1  ABBA      [\"Siklikal\"]                                                 []   \n",
              "\n",
              "  thematic                                       general_info  \\\n",
              "0       []  PT Astra Agro Lestari Tbk (IDX: AALI) adalah a...   \n",
              "1       []  PT Mahaka Media Tbk (IDX: ABBA) merupakan peru...   \n",
              "\n",
              "                                    business_product  \\\n",
              "0  Based on the Company's articles of association...   \n",
              "1                                                      \n",
              "\n",
              "                                         description  \\\n",
              "0  Astra Agro Lestari, PT (the company) was estab...   \n",
              "1                                                      \n",
              "\n",
              "                            underwriter  \\\n",
              "0   PT. ABN AMRO Hoare Govett Indonesia   \n",
              "1                                         \n",
              "\n",
              "                                        shareholders                  industry  \n",
              "0  ShareholdersShares% PT. Astra International Tb...  Produk Makanan Pertanian  \n",
              "1                                                                        Media  "
            ],
            "text/html": [
              "\n",
              "  <div id=\"df-422a454c-c110-49f6-a1d6-4f7c7e67e6aa\">\n",
              "    <div class=\"colab-df-container\">\n",
              "      <div>\n",
              "<style scoped>\n",
              "    .dataframe tbody tr th:only-of-type {\n",
              "        vertical-align: middle;\n",
              "    }\n",
              "\n",
              "    .dataframe tbody tr th {\n",
              "        vertical-align: top;\n",
              "    }\n",
              "\n",
              "    .dataframe thead th {\n",
              "        text-align: right;\n",
              "    }\n",
              "</style>\n",
              "<table border=\"1\" class=\"dataframe\">\n",
              "  <thead>\n",
              "    <tr style=\"text-align: right;\">\n",
              "      <th></th>\n",
              "      <th>_id</th>\n",
              "      <th>sector</th>\n",
              "      <th>idx</th>\n",
              "      <th>thematic</th>\n",
              "      <th>general_info</th>\n",
              "      <th>business_product</th>\n",
              "      <th>description</th>\n",
              "      <th>underwriter</th>\n",
              "      <th>shareholders</th>\n",
              "      <th>industry</th>\n",
              "    </tr>\n",
              "  </thead>\n",
              "  <tbody>\n",
              "    <tr>\n",
              "      <th>0</th>\n",
              "      <td>AALI</td>\n",
              "      <td>[\"Non-Siklikal\"]</td>\n",
              "      <td>[\"IDXSMC-LIQ\" \"JII70\" \"ESGQKEHATI\" \"IDX80\" \"IS...</td>\n",
              "      <td>[]</td>\n",
              "      <td>PT Astra Agro Lestari Tbk (IDX: AALI) adalah a...</td>\n",
              "      <td>Based on the Company's articles of association...</td>\n",
              "      <td>Astra Agro Lestari, PT (the company) was estab...</td>\n",
              "      <td>PT. ABN AMRO Hoare Govett Indonesia</td>\n",
              "      <td>ShareholdersShares% PT. Astra International Tb...</td>\n",
              "      <td>Produk Makanan Pertanian</td>\n",
              "    </tr>\n",
              "    <tr>\n",
              "      <th>1</th>\n",
              "      <td>ABBA</td>\n",
              "      <td>[\"Siklikal\"]</td>\n",
              "      <td>[]</td>\n",
              "      <td>[]</td>\n",
              "      <td>PT Mahaka Media Tbk (IDX: ABBA) merupakan peru...</td>\n",
              "      <td></td>\n",
              "      <td></td>\n",
              "      <td></td>\n",
              "      <td></td>\n",
              "      <td>Media</td>\n",
              "    </tr>\n",
              "  </tbody>\n",
              "</table>\n",
              "</div>\n",
              "      <button class=\"colab-df-convert\" onclick=\"convertToInteractive('df-422a454c-c110-49f6-a1d6-4f7c7e67e6aa')\"\n",
              "              title=\"Convert this dataframe to an interactive table.\"\n",
              "              style=\"display:none;\">\n",
              "        \n",
              "  <svg xmlns=\"http://www.w3.org/2000/svg\" height=\"24px\"viewBox=\"0 0 24 24\"\n",
              "       width=\"24px\">\n",
              "    <path d=\"M0 0h24v24H0V0z\" fill=\"none\"/>\n",
              "    <path d=\"M18.56 5.44l.94 2.06.94-2.06 2.06-.94-2.06-.94-.94-2.06-.94 2.06-2.06.94zm-11 1L8.5 8.5l.94-2.06 2.06-.94-2.06-.94L8.5 2.5l-.94 2.06-2.06.94zm10 10l.94 2.06.94-2.06 2.06-.94-2.06-.94-.94-2.06-.94 2.06-2.06.94z\"/><path d=\"M17.41 7.96l-1.37-1.37c-.4-.4-.92-.59-1.43-.59-.52 0-1.04.2-1.43.59L10.3 9.45l-7.72 7.72c-.78.78-.78 2.05 0 2.83L4 21.41c.39.39.9.59 1.41.59.51 0 1.02-.2 1.41-.59l7.78-7.78 2.81-2.81c.8-.78.8-2.07 0-2.86zM5.41 20L4 18.59l7.72-7.72 1.47 1.35L5.41 20z\"/>\n",
              "  </svg>\n",
              "      </button>\n",
              "      \n",
              "  <style>\n",
              "    .colab-df-container {\n",
              "      display:flex;\n",
              "      flex-wrap:wrap;\n",
              "      gap: 12px;\n",
              "    }\n",
              "\n",
              "    .colab-df-convert {\n",
              "      background-color: #E8F0FE;\n",
              "      border: none;\n",
              "      border-radius: 50%;\n",
              "      cursor: pointer;\n",
              "      display: none;\n",
              "      fill: #1967D2;\n",
              "      height: 32px;\n",
              "      padding: 0 0 0 0;\n",
              "      width: 32px;\n",
              "    }\n",
              "\n",
              "    .colab-df-convert:hover {\n",
              "      background-color: #E2EBFA;\n",
              "      box-shadow: 0px 1px 2px rgba(60, 64, 67, 0.3), 0px 1px 3px 1px rgba(60, 64, 67, 0.15);\n",
              "      fill: #174EA6;\n",
              "    }\n",
              "\n",
              "    [theme=dark] .colab-df-convert {\n",
              "      background-color: #3B4455;\n",
              "      fill: #D2E3FC;\n",
              "    }\n",
              "\n",
              "    [theme=dark] .colab-df-convert:hover {\n",
              "      background-color: #434B5C;\n",
              "      box-shadow: 0px 1px 3px 1px rgba(0, 0, 0, 0.15);\n",
              "      filter: drop-shadow(0px 1px 2px rgba(0, 0, 0, 0.3));\n",
              "      fill: #FFFFFF;\n",
              "    }\n",
              "  </style>\n",
              "\n",
              "      <script>\n",
              "        const buttonEl =\n",
              "          document.querySelector('#df-422a454c-c110-49f6-a1d6-4f7c7e67e6aa button.colab-df-convert');\n",
              "        buttonEl.style.display =\n",
              "          google.colab.kernel.accessAllowed ? 'block' : 'none';\n",
              "\n",
              "        async function convertToInteractive(key) {\n",
              "          const element = document.querySelector('#df-422a454c-c110-49f6-a1d6-4f7c7e67e6aa');\n",
              "          const dataTable =\n",
              "            await google.colab.kernel.invokeFunction('convertToInteractive',\n",
              "                                                     [key], {});\n",
              "          if (!dataTable) return;\n",
              "\n",
              "          const docLinkHtml = 'Like what you see? Visit the ' +\n",
              "            '<a target=\"_blank\" href=https://colab.research.google.com/notebooks/data_table.ipynb>data table notebook</a>'\n",
              "            + ' to learn more about interactive tables.';\n",
              "          element.innerHTML = '';\n",
              "          dataTable['output_type'] = 'display_data';\n",
              "          await google.colab.output.renderOutput(dataTable, element);\n",
              "          const docLink = document.createElement('div');\n",
              "          docLink.innerHTML = docLinkHtml;\n",
              "          element.appendChild(docLink);\n",
              "        }\n",
              "      </script>\n",
              "    </div>\n",
              "  </div>\n",
              "  "
            ]
          },
          "metadata": {},
          "execution_count": 130
        }
      ]
    },
    {
      "cell_type": "code",
      "source": [
        "print(df['underwriter'][0])\n",
        "print(df['underwriter'][3])\n",
        "print(df['underwriter'][100])\n",
        "#underwiter menurut chatgpt adalah lembaga yang bertanggung jawab untuk memfasilitasi dan menyelenggarakan proses penawaran umum saham (IPO)\n",
        "#atau penawaran sekuritas lainnya kepada publik\n",
        "#jadi ini tidak perlu deh ya, hapus, musnahkan, hancurkan"
      ],
      "metadata": {
        "colab": {
          "base_uri": "https://localhost:8080/"
        },
        "id": "rXQepo6JTuSO",
        "outputId": "e17842a2-0c67-48c6-b259-71228701ef56"
      },
      "execution_count": null,
      "outputs": [
        {
          "output_type": "stream",
          "name": "stdout",
          "text": [
            " PT. ABN AMRO Hoare Govett Indonesia\n",
            "PT Mandiri SekuritasPT Macquire Capital Securities Indonesia\n",
            " PT. Pacific CapitalPT. Panca Global SecuritiesPT. Universal Broker Indonesia\n"
          ]
        }
      ]
    },
    {
      "cell_type": "code",
      "source": [
        "print(df['shareholders'][0])\n",
        "print(df['shareholders'][3])\n",
        "print(df['shareholders'][100])\n",
        "#Shareholder adalah pemilik saham dan memiliki kepemilikan atau bagian dari perusahaan yang dinyatakan dalam bentuk saham.\n",
        "#terlihat seperti macam macam perusahaan pemilik saham perusahaan tersebut\n",
        "#tidak ada hubungannya dengan apakah ada kaitan sama tujuan kita"
      ],
      "metadata": {
        "colab": {
          "base_uri": "https://localhost:8080/"
        },
        "id": "RHfXU0AKVFpo",
        "outputId": "ff37fc62-f88e-42e9-a2ad-37a5e4381539"
      },
      "execution_count": null,
      "outputs": [
        {
          "output_type": "stream",
          "name": "stdout",
          "text": [
            "ShareholdersShares% PT. Astra International Tbk153368244079.68 Public39100589320.32  As of Mar 31, 2021 \n",
            "ShareholdersShares%Valle Verde Pte. Ltd. Singapura154055700055.55PT Tiara Marga Trakindo63636600023.07Momentum Fund SP.B28544730010.38Rachmat Mulyana Hamami61205000.55Achmad Ananda Djajanegara12835000.05Mivida Hamami1335000.01Public28325720010.41As of Mar 31, 2021\n",
            "ShareholdersShares% PT Bumi Citra Investindo32728410022.89 Public : - PT Lodi Mitra Perkasa30979030021.66 - Domestic75463562552.77 - Foreign382055002.67  As of Jun 30, 2021 \n"
          ]
        }
      ]
    },
    {
      "cell_type": "code",
      "source": [
        "#hapus\n",
        "columns_to_drop = ['underwriter','shareholders']\n",
        "df = df.drop(columns=columns_to_drop)"
      ],
      "metadata": {
        "id": "DdMOppzi8a-h"
      },
      "execution_count": null,
      "outputs": []
    },
    {
      "cell_type": "code",
      "source": [
        "df.head()"
      ],
      "metadata": {
        "colab": {
          "base_uri": "https://localhost:8080/",
          "height": 354
        },
        "id": "PwbWRhsn8pwZ",
        "outputId": "0087cd9c-dc52-4344-e2c8-a9d86f17d9fa"
      },
      "execution_count": null,
      "outputs": [
        {
          "output_type": "execute_result",
          "data": {
            "text/plain": [
              "    _id             sector                                                idx  \\\n",
              "0  AALI   [\"Non-Siklikal\"]  [\"IDXSMC-LIQ\" \"JII70\" \"ESGQKEHATI\" \"IDX80\" \"IS...   \n",
              "1  ABBA       [\"Siklikal\"]                                                 []   \n",
              "2  ABDA       [\"Keuangan\"]                                     [\"IDXSMC-COM\"]   \n",
              "3  ABMM  [\"Perindustrian\"]                  [\"IDXSMC-COM\" \"KOMPAS100\" \"ISSI\"]   \n",
              "4  ACES       [\"Siklikal\"]  [\"IDXSMC-LIQ\" \"JII\" \"IDX80\" \"IDXQ30\" \"ISSI\" \"I...   \n",
              "\n",
              "                                     thematic  \\\n",
              "0                                          []   \n",
              "1                                          []   \n",
              "2                                          []   \n",
              "3  [\"Value Investing\" \"Komoditas Supercycle\"]   \n",
              "4        [\"Retailer Indonesia\" \"ESG Leaders\"]   \n",
              "\n",
              "                                        general_info  \\\n",
              "0  PT Astra Agro Lestari Tbk (IDX: AALI) adalah a...   \n",
              "1  PT Mahaka Media Tbk (IDX: ABBA) merupakan peru...   \n",
              "2  PT Asuransi Bina Dana Arta Tbk (IDX: ABDA) mer...   \n",
              "3  PT ABM Investama Tbk (IDX: ABMM) merupakan emi...   \n",
              "4  PT Ace Hardware Indonesia Tbk (IDX: ACES) adal...   \n",
              "\n",
              "                                    business_product  \\\n",
              "0  Based on the Company's articles of association...   \n",
              "1                                                      \n",
              "2  The Company is engaged in general insurance bu...   \n",
              "3  The Company's scope of activities are conducti...   \n",
              "4  The Company's scope of activities consist of g...   \n",
              "\n",
              "                                         description  \\\n",
              "0  Astra Agro Lestari, PT (the company) was estab...   \n",
              "1                                                      \n",
              "2  PT Asuransi Bina Dana Arta Tbk was established...   \n",
              "3  ABM Investama, PT (the company) was establishe...   \n",
              "4  PT Ace Hardware Indonesia (the Company) was es...   \n",
              "\n",
              "                          industry  \n",
              "0         Produk Makanan Pertanian  \n",
              "1                            Media  \n",
              "2                         Asuransi  \n",
              "3  Perusahaan Holding Multi-sektor  \n",
              "4                     Ritel Khusus  "
            ],
            "text/html": [
              "\n",
              "  <div id=\"df-3c29755b-78a1-4c74-bb7f-06b9a52c8368\">\n",
              "    <div class=\"colab-df-container\">\n",
              "      <div>\n",
              "<style scoped>\n",
              "    .dataframe tbody tr th:only-of-type {\n",
              "        vertical-align: middle;\n",
              "    }\n",
              "\n",
              "    .dataframe tbody tr th {\n",
              "        vertical-align: top;\n",
              "    }\n",
              "\n",
              "    .dataframe thead th {\n",
              "        text-align: right;\n",
              "    }\n",
              "</style>\n",
              "<table border=\"1\" class=\"dataframe\">\n",
              "  <thead>\n",
              "    <tr style=\"text-align: right;\">\n",
              "      <th></th>\n",
              "      <th>_id</th>\n",
              "      <th>sector</th>\n",
              "      <th>idx</th>\n",
              "      <th>thematic</th>\n",
              "      <th>general_info</th>\n",
              "      <th>business_product</th>\n",
              "      <th>description</th>\n",
              "      <th>industry</th>\n",
              "    </tr>\n",
              "  </thead>\n",
              "  <tbody>\n",
              "    <tr>\n",
              "      <th>0</th>\n",
              "      <td>AALI</td>\n",
              "      <td>[\"Non-Siklikal\"]</td>\n",
              "      <td>[\"IDXSMC-LIQ\" \"JII70\" \"ESGQKEHATI\" \"IDX80\" \"IS...</td>\n",
              "      <td>[]</td>\n",
              "      <td>PT Astra Agro Lestari Tbk (IDX: AALI) adalah a...</td>\n",
              "      <td>Based on the Company's articles of association...</td>\n",
              "      <td>Astra Agro Lestari, PT (the company) was estab...</td>\n",
              "      <td>Produk Makanan Pertanian</td>\n",
              "    </tr>\n",
              "    <tr>\n",
              "      <th>1</th>\n",
              "      <td>ABBA</td>\n",
              "      <td>[\"Siklikal\"]</td>\n",
              "      <td>[]</td>\n",
              "      <td>[]</td>\n",
              "      <td>PT Mahaka Media Tbk (IDX: ABBA) merupakan peru...</td>\n",
              "      <td></td>\n",
              "      <td></td>\n",
              "      <td>Media</td>\n",
              "    </tr>\n",
              "    <tr>\n",
              "      <th>2</th>\n",
              "      <td>ABDA</td>\n",
              "      <td>[\"Keuangan\"]</td>\n",
              "      <td>[\"IDXSMC-COM\"]</td>\n",
              "      <td>[]</td>\n",
              "      <td>PT Asuransi Bina Dana Arta Tbk (IDX: ABDA) mer...</td>\n",
              "      <td>The Company is engaged in general insurance bu...</td>\n",
              "      <td>PT Asuransi Bina Dana Arta Tbk was established...</td>\n",
              "      <td>Asuransi</td>\n",
              "    </tr>\n",
              "    <tr>\n",
              "      <th>3</th>\n",
              "      <td>ABMM</td>\n",
              "      <td>[\"Perindustrian\"]</td>\n",
              "      <td>[\"IDXSMC-COM\" \"KOMPAS100\" \"ISSI\"]</td>\n",
              "      <td>[\"Value Investing\" \"Komoditas Supercycle\"]</td>\n",
              "      <td>PT ABM Investama Tbk (IDX: ABMM) merupakan emi...</td>\n",
              "      <td>The Company's scope of activities are conducti...</td>\n",
              "      <td>ABM Investama, PT (the company) was establishe...</td>\n",
              "      <td>Perusahaan Holding Multi-sektor</td>\n",
              "    </tr>\n",
              "    <tr>\n",
              "      <th>4</th>\n",
              "      <td>ACES</td>\n",
              "      <td>[\"Siklikal\"]</td>\n",
              "      <td>[\"IDXSMC-LIQ\" \"JII\" \"IDX80\" \"IDXQ30\" \"ISSI\" \"I...</td>\n",
              "      <td>[\"Retailer Indonesia\" \"ESG Leaders\"]</td>\n",
              "      <td>PT Ace Hardware Indonesia Tbk (IDX: ACES) adal...</td>\n",
              "      <td>The Company's scope of activities consist of g...</td>\n",
              "      <td>PT Ace Hardware Indonesia (the Company) was es...</td>\n",
              "      <td>Ritel Khusus</td>\n",
              "    </tr>\n",
              "  </tbody>\n",
              "</table>\n",
              "</div>\n",
              "      <button class=\"colab-df-convert\" onclick=\"convertToInteractive('df-3c29755b-78a1-4c74-bb7f-06b9a52c8368')\"\n",
              "              title=\"Convert this dataframe to an interactive table.\"\n",
              "              style=\"display:none;\">\n",
              "        \n",
              "  <svg xmlns=\"http://www.w3.org/2000/svg\" height=\"24px\"viewBox=\"0 0 24 24\"\n",
              "       width=\"24px\">\n",
              "    <path d=\"M0 0h24v24H0V0z\" fill=\"none\"/>\n",
              "    <path d=\"M18.56 5.44l.94 2.06.94-2.06 2.06-.94-2.06-.94-.94-2.06-.94 2.06-2.06.94zm-11 1L8.5 8.5l.94-2.06 2.06-.94-2.06-.94L8.5 2.5l-.94 2.06-2.06.94zm10 10l.94 2.06.94-2.06 2.06-.94-2.06-.94-.94-2.06-.94 2.06-2.06.94z\"/><path d=\"M17.41 7.96l-1.37-1.37c-.4-.4-.92-.59-1.43-.59-.52 0-1.04.2-1.43.59L10.3 9.45l-7.72 7.72c-.78.78-.78 2.05 0 2.83L4 21.41c.39.39.9.59 1.41.59.51 0 1.02-.2 1.41-.59l7.78-7.78 2.81-2.81c.8-.78.8-2.07 0-2.86zM5.41 20L4 18.59l7.72-7.72 1.47 1.35L5.41 20z\"/>\n",
              "  </svg>\n",
              "      </button>\n",
              "      \n",
              "  <style>\n",
              "    .colab-df-container {\n",
              "      display:flex;\n",
              "      flex-wrap:wrap;\n",
              "      gap: 12px;\n",
              "    }\n",
              "\n",
              "    .colab-df-convert {\n",
              "      background-color: #E8F0FE;\n",
              "      border: none;\n",
              "      border-radius: 50%;\n",
              "      cursor: pointer;\n",
              "      display: none;\n",
              "      fill: #1967D2;\n",
              "      height: 32px;\n",
              "      padding: 0 0 0 0;\n",
              "      width: 32px;\n",
              "    }\n",
              "\n",
              "    .colab-df-convert:hover {\n",
              "      background-color: #E2EBFA;\n",
              "      box-shadow: 0px 1px 2px rgba(60, 64, 67, 0.3), 0px 1px 3px 1px rgba(60, 64, 67, 0.15);\n",
              "      fill: #174EA6;\n",
              "    }\n",
              "\n",
              "    [theme=dark] .colab-df-convert {\n",
              "      background-color: #3B4455;\n",
              "      fill: #D2E3FC;\n",
              "    }\n",
              "\n",
              "    [theme=dark] .colab-df-convert:hover {\n",
              "      background-color: #434B5C;\n",
              "      box-shadow: 0px 1px 3px 1px rgba(0, 0, 0, 0.15);\n",
              "      filter: drop-shadow(0px 1px 2px rgba(0, 0, 0, 0.3));\n",
              "      fill: #FFFFFF;\n",
              "    }\n",
              "  </style>\n",
              "\n",
              "      <script>\n",
              "        const buttonEl =\n",
              "          document.querySelector('#df-3c29755b-78a1-4c74-bb7f-06b9a52c8368 button.colab-df-convert');\n",
              "        buttonEl.style.display =\n",
              "          google.colab.kernel.accessAllowed ? 'block' : 'none';\n",
              "\n",
              "        async function convertToInteractive(key) {\n",
              "          const element = document.querySelector('#df-3c29755b-78a1-4c74-bb7f-06b9a52c8368');\n",
              "          const dataTable =\n",
              "            await google.colab.kernel.invokeFunction('convertToInteractive',\n",
              "                                                     [key], {});\n",
              "          if (!dataTable) return;\n",
              "\n",
              "          const docLinkHtml = 'Like what you see? Visit the ' +\n",
              "            '<a target=\"_blank\" href=https://colab.research.google.com/notebooks/data_table.ipynb>data table notebook</a>'\n",
              "            + ' to learn more about interactive tables.';\n",
              "          element.innerHTML = '';\n",
              "          dataTable['output_type'] = 'display_data';\n",
              "          await google.colab.output.renderOutput(dataTable, element);\n",
              "          const docLink = document.createElement('div');\n",
              "          docLink.innerHTML = docLinkHtml;\n",
              "          element.appendChild(docLink);\n",
              "        }\n",
              "      </script>\n",
              "    </div>\n",
              "  </div>\n",
              "  "
            ]
          },
          "metadata": {},
          "execution_count": 134
        }
      ]
    },
    {
      "cell_type": "markdown",
      "source": [
        "# Pengolahan Datafreme Lebih lanjut saudara saudara, mencari key words"
      ],
      "metadata": {
        "id": "JmHv61wp8pB-"
      }
    },
    {
      "cell_type": "code",
      "source": [
        "df.set_index('_id', inplace = True)\n",
        "df.head()"
      ],
      "metadata": {
        "colab": {
          "base_uri": "https://localhost:8080/",
          "height": 338
        },
        "id": "NnlGFvLg9S8f",
        "outputId": "761b7584-4cc0-477b-f225-ec8c0d95ab30"
      },
      "execution_count": null,
      "outputs": [
        {
          "output_type": "error",
          "ename": "KeyError",
          "evalue": "ignored",
          "traceback": [
            "\u001b[0;31m---------------------------------------------------------------------------\u001b[0m",
            "\u001b[0;31mKeyError\u001b[0m                                  Traceback (most recent call last)",
            "\u001b[0;32m<ipython-input-153-a57bfd2d16af>\u001b[0m in \u001b[0;36m<cell line: 1>\u001b[0;34m()\u001b[0m\n\u001b[0;32m----> 1\u001b[0;31m \u001b[0mdf\u001b[0m\u001b[0;34m.\u001b[0m\u001b[0mset_index\u001b[0m\u001b[0;34m(\u001b[0m\u001b[0;34m'_id'\u001b[0m\u001b[0;34m,\u001b[0m \u001b[0minplace\u001b[0m \u001b[0;34m=\u001b[0m \u001b[0;32mTrue\u001b[0m\u001b[0;34m)\u001b[0m\u001b[0;34m\u001b[0m\u001b[0;34m\u001b[0m\u001b[0m\n\u001b[0m\u001b[1;32m      2\u001b[0m \u001b[0mdf\u001b[0m\u001b[0;34m.\u001b[0m\u001b[0mhead\u001b[0m\u001b[0;34m(\u001b[0m\u001b[0;34m)\u001b[0m\u001b[0;34m\u001b[0m\u001b[0;34m\u001b[0m\u001b[0m\n",
            "\u001b[0;32m/usr/local/lib/python3.10/dist-packages/pandas/util/_decorators.py\u001b[0m in \u001b[0;36mwrapper\u001b[0;34m(*args, **kwargs)\u001b[0m\n\u001b[1;32m    329\u001b[0m                     \u001b[0mstacklevel\u001b[0m\u001b[0;34m=\u001b[0m\u001b[0mfind_stack_level\u001b[0m\u001b[0;34m(\u001b[0m\u001b[0;34m)\u001b[0m\u001b[0;34m,\u001b[0m\u001b[0;34m\u001b[0m\u001b[0;34m\u001b[0m\u001b[0m\n\u001b[1;32m    330\u001b[0m                 )\n\u001b[0;32m--> 331\u001b[0;31m             \u001b[0;32mreturn\u001b[0m \u001b[0mfunc\u001b[0m\u001b[0;34m(\u001b[0m\u001b[0;34m*\u001b[0m\u001b[0margs\u001b[0m\u001b[0;34m,\u001b[0m \u001b[0;34m**\u001b[0m\u001b[0mkwargs\u001b[0m\u001b[0;34m)\u001b[0m\u001b[0;34m\u001b[0m\u001b[0;34m\u001b[0m\u001b[0m\n\u001b[0m\u001b[1;32m    332\u001b[0m \u001b[0;34m\u001b[0m\u001b[0m\n\u001b[1;32m    333\u001b[0m         \u001b[0;31m# error: \"Callable[[VarArg(Any), KwArg(Any)], Any]\" has no\u001b[0m\u001b[0;34m\u001b[0m\u001b[0;34m\u001b[0m\u001b[0m\n",
            "\u001b[0;32m/usr/local/lib/python3.10/dist-packages/pandas/core/frame.py\u001b[0m in \u001b[0;36mset_index\u001b[0;34m(self, keys, drop, append, inplace, verify_integrity)\u001b[0m\n\u001b[1;32m   6010\u001b[0m \u001b[0;34m\u001b[0m\u001b[0m\n\u001b[1;32m   6011\u001b[0m         \u001b[0;32mif\u001b[0m \u001b[0mmissing\u001b[0m\u001b[0;34m:\u001b[0m\u001b[0;34m\u001b[0m\u001b[0;34m\u001b[0m\u001b[0m\n\u001b[0;32m-> 6012\u001b[0;31m             \u001b[0;32mraise\u001b[0m \u001b[0mKeyError\u001b[0m\u001b[0;34m(\u001b[0m\u001b[0;34mf\"None of {missing} are in the columns\"\u001b[0m\u001b[0;34m)\u001b[0m\u001b[0;34m\u001b[0m\u001b[0;34m\u001b[0m\u001b[0m\n\u001b[0m\u001b[1;32m   6013\u001b[0m \u001b[0;34m\u001b[0m\u001b[0m\n\u001b[1;32m   6014\u001b[0m         \u001b[0;32mif\u001b[0m \u001b[0minplace\u001b[0m\u001b[0;34m:\u001b[0m\u001b[0;34m\u001b[0m\u001b[0;34m\u001b[0m\u001b[0m\n",
            "\u001b[0;31mKeyError\u001b[0m: \"None of ['_id'] are in the columns\""
          ]
        }
      ]
    },
    {
      "cell_type": "code",
      "source": [
        "df['general_info'][10]"
      ],
      "metadata": {
        "colab": {
          "base_uri": "https://localhost:8080/",
          "height": 90
        },
        "id": "hvquvULul56e",
        "outputId": "0348f529-5084-463b-aa69-2eb32137b11a"
      },
      "execution_count": null,
      "outputs": [
        {
          "output_type": "execute_result",
          "data": {
            "text/plain": [
              "'Polychem Indonesia Tbk (IDX: ADMG) adalah perusahaan yang memiliki bidang usaha utama di industri Kimia dan Tekstil, dengan memproduksi dan mengekspor barang Kimia Dasar. Pendapatan utama perusahaan berasal dari penjualan polyester, juga berasal dari Ethylene Glycol dan petrokimia. Adapun PT Gajah Tunggal Tbk (IDX: GJTL) tercatat memiliki porsi kepemilikan saham sebesar 26 persen di perusahaan yang beralamat kantor di Gedung Wisma 46 Kota BNI LT. 20 Jl Jend. Sudirman Kav 1 RT. 010 RW. 009 Karet Tengsin Tanah Abang Kota Adm. Jakarta Pusat DKI Jakarta 10220. Perusahaan resmi listing di BEI pada tanggal 20 Oktober 1993.'"
            ],
            "application/vnd.google.colaboratory.intrinsic+json": {
              "type": "string"
            }
          },
          "metadata": {},
          "execution_count": 136
        }
      ]
    },
    {
      "cell_type": "code",
      "source": [
        "df['business_product'][19]"
      ],
      "metadata": {
        "colab": {
          "base_uri": "https://localhost:8080/",
          "height": 54
        },
        "id": "vQ4KLxlUlD-h",
        "outputId": "1796aada-c923-4f16-acda-a638c42beba2"
      },
      "execution_count": null,
      "outputs": [
        {
          "output_type": "execute_result",
          "data": {
            "text/plain": [
              "'The current business activities of the Company and its subsidiaries include business and trade industry noodle, especially noodles dried, instant noodles, and rice noodles, snack, biscuit industry, sweets, oil palm plantations, power generation, processing and distribution of rice.'"
            ],
            "application/vnd.google.colaboratory.intrinsic+json": {
              "type": "string"
            }
          },
          "metadata": {},
          "execution_count": 137
        }
      ]
    },
    {
      "cell_type": "code",
      "source": [
        "df['description'][19]"
      ],
      "metadata": {
        "colab": {
          "base_uri": "https://localhost:8080/",
          "height": 72
        },
        "id": "PX1ghi7_lMFd",
        "outputId": "110b2c6f-ef08-4bb4-efa6-10e094e81d45"
      },
      "execution_count": null,
      "outputs": [
        {
          "output_type": "execute_result",
          "data": {
            "text/plain": [
              "'PT Tiga Pilar Sejahtera Tbk formerly PT Asia Intiselera Tbk was established on January 26, 1990. PT. Asia Intiselera is a producer of Instant Noodles, this company was founded by Kang family under the name Pabrik Mie Asia which located in Jakarta. the company started its operations since 1953, and in 1974 the factory moved to Bogor. The articles of association have been amended several times, most recently on January 25, 1997, concerning the change of status and increase in authorized capital.'"
            ],
            "application/vnd.google.colaboratory.intrinsic+json": {
              "type": "string"
            }
          },
          "metadata": {},
          "execution_count": 138
        }
      ]
    },
    {
      "cell_type": "code",
      "source": [
        "df.head(1)"
      ],
      "metadata": {
        "colab": {
          "base_uri": "https://localhost:8080/",
          "height": 173
        },
        "id": "L8CxhsYDmEzw",
        "outputId": "172b67a7-faee-4738-e8be-8b7da0cacf42"
      },
      "execution_count": null,
      "outputs": [
        {
          "output_type": "execute_result",
          "data": {
            "text/plain": [
              "                sector                                                idx  \\\n",
              "_id                                                                         \n",
              "AALI  [\"Non-Siklikal\"]  [\"IDXSMC-LIQ\" \"JII70\" \"ESGQKEHATI\" \"IDX80\" \"IS...   \n",
              "\n",
              "     thematic                                       general_info  \\\n",
              "_id                                                                \n",
              "AALI       []  PT Astra Agro Lestari Tbk (IDX: AALI) adalah a...   \n",
              "\n",
              "                                       business_product  \\\n",
              "_id                                                       \n",
              "AALI  Based on the Company's articles of association...   \n",
              "\n",
              "                                            description  \\\n",
              "_id                                                       \n",
              "AALI  Astra Agro Lestari, PT (the company) was estab...   \n",
              "\n",
              "                      industry  \n",
              "_id                             \n",
              "AALI  Produk Makanan Pertanian  "
            ],
            "text/html": [
              "\n",
              "  <div id=\"df-636445eb-d844-47ef-bbea-582808fd5d41\">\n",
              "    <div class=\"colab-df-container\">\n",
              "      <div>\n",
              "<style scoped>\n",
              "    .dataframe tbody tr th:only-of-type {\n",
              "        vertical-align: middle;\n",
              "    }\n",
              "\n",
              "    .dataframe tbody tr th {\n",
              "        vertical-align: top;\n",
              "    }\n",
              "\n",
              "    .dataframe thead th {\n",
              "        text-align: right;\n",
              "    }\n",
              "</style>\n",
              "<table border=\"1\" class=\"dataframe\">\n",
              "  <thead>\n",
              "    <tr style=\"text-align: right;\">\n",
              "      <th></th>\n",
              "      <th>sector</th>\n",
              "      <th>idx</th>\n",
              "      <th>thematic</th>\n",
              "      <th>general_info</th>\n",
              "      <th>business_product</th>\n",
              "      <th>description</th>\n",
              "      <th>industry</th>\n",
              "    </tr>\n",
              "    <tr>\n",
              "      <th>_id</th>\n",
              "      <th></th>\n",
              "      <th></th>\n",
              "      <th></th>\n",
              "      <th></th>\n",
              "      <th></th>\n",
              "      <th></th>\n",
              "      <th></th>\n",
              "    </tr>\n",
              "  </thead>\n",
              "  <tbody>\n",
              "    <tr>\n",
              "      <th>AALI</th>\n",
              "      <td>[\"Non-Siklikal\"]</td>\n",
              "      <td>[\"IDXSMC-LIQ\" \"JII70\" \"ESGQKEHATI\" \"IDX80\" \"IS...</td>\n",
              "      <td>[]</td>\n",
              "      <td>PT Astra Agro Lestari Tbk (IDX: AALI) adalah a...</td>\n",
              "      <td>Based on the Company's articles of association...</td>\n",
              "      <td>Astra Agro Lestari, PT (the company) was estab...</td>\n",
              "      <td>Produk Makanan Pertanian</td>\n",
              "    </tr>\n",
              "  </tbody>\n",
              "</table>\n",
              "</div>\n",
              "      <button class=\"colab-df-convert\" onclick=\"convertToInteractive('df-636445eb-d844-47ef-bbea-582808fd5d41')\"\n",
              "              title=\"Convert this dataframe to an interactive table.\"\n",
              "              style=\"display:none;\">\n",
              "        \n",
              "  <svg xmlns=\"http://www.w3.org/2000/svg\" height=\"24px\"viewBox=\"0 0 24 24\"\n",
              "       width=\"24px\">\n",
              "    <path d=\"M0 0h24v24H0V0z\" fill=\"none\"/>\n",
              "    <path d=\"M18.56 5.44l.94 2.06.94-2.06 2.06-.94-2.06-.94-.94-2.06-.94 2.06-2.06.94zm-11 1L8.5 8.5l.94-2.06 2.06-.94-2.06-.94L8.5 2.5l-.94 2.06-2.06.94zm10 10l.94 2.06.94-2.06 2.06-.94-2.06-.94-.94-2.06-.94 2.06-2.06.94z\"/><path d=\"M17.41 7.96l-1.37-1.37c-.4-.4-.92-.59-1.43-.59-.52 0-1.04.2-1.43.59L10.3 9.45l-7.72 7.72c-.78.78-.78 2.05 0 2.83L4 21.41c.39.39.9.59 1.41.59.51 0 1.02-.2 1.41-.59l7.78-7.78 2.81-2.81c.8-.78.8-2.07 0-2.86zM5.41 20L4 18.59l7.72-7.72 1.47 1.35L5.41 20z\"/>\n",
              "  </svg>\n",
              "      </button>\n",
              "      \n",
              "  <style>\n",
              "    .colab-df-container {\n",
              "      display:flex;\n",
              "      flex-wrap:wrap;\n",
              "      gap: 12px;\n",
              "    }\n",
              "\n",
              "    .colab-df-convert {\n",
              "      background-color: #E8F0FE;\n",
              "      border: none;\n",
              "      border-radius: 50%;\n",
              "      cursor: pointer;\n",
              "      display: none;\n",
              "      fill: #1967D2;\n",
              "      height: 32px;\n",
              "      padding: 0 0 0 0;\n",
              "      width: 32px;\n",
              "    }\n",
              "\n",
              "    .colab-df-convert:hover {\n",
              "      background-color: #E2EBFA;\n",
              "      box-shadow: 0px 1px 2px rgba(60, 64, 67, 0.3), 0px 1px 3px 1px rgba(60, 64, 67, 0.15);\n",
              "      fill: #174EA6;\n",
              "    }\n",
              "\n",
              "    [theme=dark] .colab-df-convert {\n",
              "      background-color: #3B4455;\n",
              "      fill: #D2E3FC;\n",
              "    }\n",
              "\n",
              "    [theme=dark] .colab-df-convert:hover {\n",
              "      background-color: #434B5C;\n",
              "      box-shadow: 0px 1px 3px 1px rgba(0, 0, 0, 0.15);\n",
              "      filter: drop-shadow(0px 1px 2px rgba(0, 0, 0, 0.3));\n",
              "      fill: #FFFFFF;\n",
              "    }\n",
              "  </style>\n",
              "\n",
              "      <script>\n",
              "        const buttonEl =\n",
              "          document.querySelector('#df-636445eb-d844-47ef-bbea-582808fd5d41 button.colab-df-convert');\n",
              "        buttonEl.style.display =\n",
              "          google.colab.kernel.accessAllowed ? 'block' : 'none';\n",
              "\n",
              "        async function convertToInteractive(key) {\n",
              "          const element = document.querySelector('#df-636445eb-d844-47ef-bbea-582808fd5d41');\n",
              "          const dataTable =\n",
              "            await google.colab.kernel.invokeFunction('convertToInteractive',\n",
              "                                                     [key], {});\n",
              "          if (!dataTable) return;\n",
              "\n",
              "          const docLinkHtml = 'Like what you see? Visit the ' +\n",
              "            '<a target=\"_blank\" href=https://colab.research.google.com/notebooks/data_table.ipynb>data table notebook</a>'\n",
              "            + ' to learn more about interactive tables.';\n",
              "          element.innerHTML = '';\n",
              "          dataTable['output_type'] = 'display_data';\n",
              "          await google.colab.output.renderOutput(dataTable, element);\n",
              "          const docLink = document.createElement('div');\n",
              "          docLink.innerHTML = docLinkHtml;\n",
              "          element.appendChild(docLink);\n",
              "        }\n",
              "      </script>\n",
              "    </div>\n",
              "  </div>\n",
              "  "
            ]
          },
          "metadata": {},
          "execution_count": 139
        }
      ]
    },
    {
      "cell_type": "code",
      "source": [
        "df['key_words_business_product'] = ''  # Menetapkan nilai awal untuk kolom 'key_words'\n",
        "\n",
        "for index, row in df.iterrows():\n",
        "    plot = row['business_product']\n",
        "    r = Rake()\n",
        "    r.extract_keywords_from_text(plot)\n",
        "    key_words_dict_scores = r.get_word_degrees()\n",
        "    df.at[index, 'key_words_business_product'] = list(key_words_dict_scores.keys())\n",
        "\n"
      ],
      "metadata": {
        "id": "Nx7j9vRX7pIR"
      },
      "execution_count": null,
      "outputs": []
    },
    {
      "cell_type": "code",
      "source": [
        "df['key_words_general_info'] = ''  # Menetapkan nilai awal untuk kolom 'key_words'\n",
        "\n",
        "for index, row in df.iterrows():\n",
        "    plot = row['general_info']\n",
        "    r = Rake(language='indonesian')\n",
        "    r.extract_keywords_from_text(plot)\n",
        "    key_words_dict_scores = r.get_word_degrees()\n",
        "    df.at[index, 'key_words_general_info'] = list(key_words_dict_scores.keys())\n"
      ],
      "metadata": {
        "id": "A5B6CCVymT5u"
      },
      "execution_count": null,
      "outputs": []
    },
    {
      "cell_type": "code",
      "source": [
        "df['key_words_description'] = ''  # Menetapkan nilai awal untuk kolom 'key_words'\n",
        "\n",
        "for index, row in df.iterrows():\n",
        "    plot = row['description']\n",
        "    r = Rake(language='indonesian')\n",
        "    r.extract_keywords_from_text(plot)\n",
        "    key_words_dict_scores = r.get_word_degrees()\n",
        "    df.at[index, 'key_words_description'] = list(key_words_dict_scores.keys())"
      ],
      "metadata": {
        "id": "7Xlfam_5WIft"
      },
      "execution_count": null,
      "outputs": []
    },
    {
      "cell_type": "code",
      "source": [
        "columns_to_drop = ['general_info','business_product','description']\n",
        "df = df.drop(columns=columns_to_drop)"
      ],
      "metadata": {
        "id": "dhBh_ouvmt3E"
      },
      "execution_count": null,
      "outputs": []
    },
    {
      "cell_type": "code",
      "source": [
        "df.head()"
      ],
      "metadata": {
        "colab": {
          "base_uri": "https://localhost:8080/",
          "height": 420
        },
        "id": "7WDwU1Lgu9u5",
        "outputId": "5e629a19-10ba-4a65-ac6c-2c5e1aab66c8"
      },
      "execution_count": null,
      "outputs": [
        {
          "output_type": "execute_result",
          "data": {
            "text/plain": [
              "                 sector                                                idx  \\\n",
              "_id                                                                          \n",
              "AALI   [\"Non-Siklikal\"]  [\"IDXSMC-LIQ\" \"JII70\" \"ESGQKEHATI\" \"IDX80\" \"IS...   \n",
              "ABBA       [\"Siklikal\"]                                                 []   \n",
              "ABDA       [\"Keuangan\"]                                     [\"IDXSMC-COM\"]   \n",
              "ABMM  [\"Perindustrian\"]                  [\"IDXSMC-COM\" \"KOMPAS100\" \"ISSI\"]   \n",
              "ACES       [\"Siklikal\"]  [\"IDXSMC-LIQ\" \"JII\" \"IDX80\" \"IDXQ30\" \"ISSI\" \"I...   \n",
              "\n",
              "                                        thematic  \\\n",
              "_id                                                \n",
              "AALI                                          []   \n",
              "ABBA                                          []   \n",
              "ABDA                                          []   \n",
              "ABMM  [\"Value Investing\" \"Komoditas Supercycle\"]   \n",
              "ACES        [\"Retailer Indonesia\" \"ESG Leaders\"]   \n",
              "\n",
              "                             industry  \\\n",
              "_id                                     \n",
              "AALI         Produk Makanan Pertanian   \n",
              "ABBA                            Media   \n",
              "ABDA                         Asuransi   \n",
              "ABMM  Perusahaan Holding Multi-sektor   \n",
              "ACES                     Ritel Khusus   \n",
              "\n",
              "                             key_words_business_product  \\\n",
              "_id                                                       \n",
              "AALI  [based, company, articles, association, scope,...   \n",
              "ABBA                                                 []   \n",
              "ABDA  [company, engaged, general, insurance, busines...   \n",
              "ABMM  [company, scope, activities, conducting, busin...   \n",
              "ACES  [company, scope, activities, consist, general,...   \n",
              "\n",
              "                                 key_words_general_info  \\\n",
              "_id                                                       \n",
              "AALI  [pt, astra, agro, lestari, tbk, idx, aali, ana...   \n",
              "ABBA  [pt, mahaka, media, tbk, idx, abba, perusahaan...   \n",
              "ABDA  [pt, asuransi, bina, dana, arta, tbk, idx, abd...   \n",
              "ABMM  [pt, abm, investama, tbk, idx, abmm, emiten, m...   \n",
              "ACES  [pt, ace, hardware, indonesia, tbk, idx, aces,...   \n",
              "\n",
              "                                  key_words_description  \n",
              "_id                                                      \n",
              "AALI  [astra, agro, lestari, pt, the, company, was, ...  \n",
              "ABBA                                                 []  \n",
              "ABDA  [pt, asuransi, bina, dana, arta, tbk, was, est...  \n",
              "ABMM  [abm, investama, pt, the, company, was, establ...  \n",
              "ACES  [pt, ace, hardware, indonesia, the, company, w...  "
            ],
            "text/html": [
              "\n",
              "  <div id=\"df-ef2f5d5c-4e17-400c-b006-7dc56776f7cc\">\n",
              "    <div class=\"colab-df-container\">\n",
              "      <div>\n",
              "<style scoped>\n",
              "    .dataframe tbody tr th:only-of-type {\n",
              "        vertical-align: middle;\n",
              "    }\n",
              "\n",
              "    .dataframe tbody tr th {\n",
              "        vertical-align: top;\n",
              "    }\n",
              "\n",
              "    .dataframe thead th {\n",
              "        text-align: right;\n",
              "    }\n",
              "</style>\n",
              "<table border=\"1\" class=\"dataframe\">\n",
              "  <thead>\n",
              "    <tr style=\"text-align: right;\">\n",
              "      <th></th>\n",
              "      <th>sector</th>\n",
              "      <th>idx</th>\n",
              "      <th>thematic</th>\n",
              "      <th>industry</th>\n",
              "      <th>key_words_business_product</th>\n",
              "      <th>key_words_general_info</th>\n",
              "      <th>key_words_description</th>\n",
              "    </tr>\n",
              "    <tr>\n",
              "      <th>_id</th>\n",
              "      <th></th>\n",
              "      <th></th>\n",
              "      <th></th>\n",
              "      <th></th>\n",
              "      <th></th>\n",
              "      <th></th>\n",
              "      <th></th>\n",
              "    </tr>\n",
              "  </thead>\n",
              "  <tbody>\n",
              "    <tr>\n",
              "      <th>AALI</th>\n",
              "      <td>[\"Non-Siklikal\"]</td>\n",
              "      <td>[\"IDXSMC-LIQ\" \"JII70\" \"ESGQKEHATI\" \"IDX80\" \"IS...</td>\n",
              "      <td>[]</td>\n",
              "      <td>Produk Makanan Pertanian</td>\n",
              "      <td>[based, company, articles, association, scope,...</td>\n",
              "      <td>[pt, astra, agro, lestari, tbk, idx, aali, ana...</td>\n",
              "      <td>[astra, agro, lestari, pt, the, company, was, ...</td>\n",
              "    </tr>\n",
              "    <tr>\n",
              "      <th>ABBA</th>\n",
              "      <td>[\"Siklikal\"]</td>\n",
              "      <td>[]</td>\n",
              "      <td>[]</td>\n",
              "      <td>Media</td>\n",
              "      <td>[]</td>\n",
              "      <td>[pt, mahaka, media, tbk, idx, abba, perusahaan...</td>\n",
              "      <td>[]</td>\n",
              "    </tr>\n",
              "    <tr>\n",
              "      <th>ABDA</th>\n",
              "      <td>[\"Keuangan\"]</td>\n",
              "      <td>[\"IDXSMC-COM\"]</td>\n",
              "      <td>[]</td>\n",
              "      <td>Asuransi</td>\n",
              "      <td>[company, engaged, general, insurance, busines...</td>\n",
              "      <td>[pt, asuransi, bina, dana, arta, tbk, idx, abd...</td>\n",
              "      <td>[pt, asuransi, bina, dana, arta, tbk, was, est...</td>\n",
              "    </tr>\n",
              "    <tr>\n",
              "      <th>ABMM</th>\n",
              "      <td>[\"Perindustrian\"]</td>\n",
              "      <td>[\"IDXSMC-COM\" \"KOMPAS100\" \"ISSI\"]</td>\n",
              "      <td>[\"Value Investing\" \"Komoditas Supercycle\"]</td>\n",
              "      <td>Perusahaan Holding Multi-sektor</td>\n",
              "      <td>[company, scope, activities, conducting, busin...</td>\n",
              "      <td>[pt, abm, investama, tbk, idx, abmm, emiten, m...</td>\n",
              "      <td>[abm, investama, pt, the, company, was, establ...</td>\n",
              "    </tr>\n",
              "    <tr>\n",
              "      <th>ACES</th>\n",
              "      <td>[\"Siklikal\"]</td>\n",
              "      <td>[\"IDXSMC-LIQ\" \"JII\" \"IDX80\" \"IDXQ30\" \"ISSI\" \"I...</td>\n",
              "      <td>[\"Retailer Indonesia\" \"ESG Leaders\"]</td>\n",
              "      <td>Ritel Khusus</td>\n",
              "      <td>[company, scope, activities, consist, general,...</td>\n",
              "      <td>[pt, ace, hardware, indonesia, tbk, idx, aces,...</td>\n",
              "      <td>[pt, ace, hardware, indonesia, the, company, w...</td>\n",
              "    </tr>\n",
              "  </tbody>\n",
              "</table>\n",
              "</div>\n",
              "      <button class=\"colab-df-convert\" onclick=\"convertToInteractive('df-ef2f5d5c-4e17-400c-b006-7dc56776f7cc')\"\n",
              "              title=\"Convert this dataframe to an interactive table.\"\n",
              "              style=\"display:none;\">\n",
              "        \n",
              "  <svg xmlns=\"http://www.w3.org/2000/svg\" height=\"24px\"viewBox=\"0 0 24 24\"\n",
              "       width=\"24px\">\n",
              "    <path d=\"M0 0h24v24H0V0z\" fill=\"none\"/>\n",
              "    <path d=\"M18.56 5.44l.94 2.06.94-2.06 2.06-.94-2.06-.94-.94-2.06-.94 2.06-2.06.94zm-11 1L8.5 8.5l.94-2.06 2.06-.94-2.06-.94L8.5 2.5l-.94 2.06-2.06.94zm10 10l.94 2.06.94-2.06 2.06-.94-2.06-.94-.94-2.06-.94 2.06-2.06.94z\"/><path d=\"M17.41 7.96l-1.37-1.37c-.4-.4-.92-.59-1.43-.59-.52 0-1.04.2-1.43.59L10.3 9.45l-7.72 7.72c-.78.78-.78 2.05 0 2.83L4 21.41c.39.39.9.59 1.41.59.51 0 1.02-.2 1.41-.59l7.78-7.78 2.81-2.81c.8-.78.8-2.07 0-2.86zM5.41 20L4 18.59l7.72-7.72 1.47 1.35L5.41 20z\"/>\n",
              "  </svg>\n",
              "      </button>\n",
              "      \n",
              "  <style>\n",
              "    .colab-df-container {\n",
              "      display:flex;\n",
              "      flex-wrap:wrap;\n",
              "      gap: 12px;\n",
              "    }\n",
              "\n",
              "    .colab-df-convert {\n",
              "      background-color: #E8F0FE;\n",
              "      border: none;\n",
              "      border-radius: 50%;\n",
              "      cursor: pointer;\n",
              "      display: none;\n",
              "      fill: #1967D2;\n",
              "      height: 32px;\n",
              "      padding: 0 0 0 0;\n",
              "      width: 32px;\n",
              "    }\n",
              "\n",
              "    .colab-df-convert:hover {\n",
              "      background-color: #E2EBFA;\n",
              "      box-shadow: 0px 1px 2px rgba(60, 64, 67, 0.3), 0px 1px 3px 1px rgba(60, 64, 67, 0.15);\n",
              "      fill: #174EA6;\n",
              "    }\n",
              "\n",
              "    [theme=dark] .colab-df-convert {\n",
              "      background-color: #3B4455;\n",
              "      fill: #D2E3FC;\n",
              "    }\n",
              "\n",
              "    [theme=dark] .colab-df-convert:hover {\n",
              "      background-color: #434B5C;\n",
              "      box-shadow: 0px 1px 3px 1px rgba(0, 0, 0, 0.15);\n",
              "      filter: drop-shadow(0px 1px 2px rgba(0, 0, 0, 0.3));\n",
              "      fill: #FFFFFF;\n",
              "    }\n",
              "  </style>\n",
              "\n",
              "      <script>\n",
              "        const buttonEl =\n",
              "          document.querySelector('#df-ef2f5d5c-4e17-400c-b006-7dc56776f7cc button.colab-df-convert');\n",
              "        buttonEl.style.display =\n",
              "          google.colab.kernel.accessAllowed ? 'block' : 'none';\n",
              "\n",
              "        async function convertToInteractive(key) {\n",
              "          const element = document.querySelector('#df-ef2f5d5c-4e17-400c-b006-7dc56776f7cc');\n",
              "          const dataTable =\n",
              "            await google.colab.kernel.invokeFunction('convertToInteractive',\n",
              "                                                     [key], {});\n",
              "          if (!dataTable) return;\n",
              "\n",
              "          const docLinkHtml = 'Like what you see? Visit the ' +\n",
              "            '<a target=\"_blank\" href=https://colab.research.google.com/notebooks/data_table.ipynb>data table notebook</a>'\n",
              "            + ' to learn more about interactive tables.';\n",
              "          element.innerHTML = '';\n",
              "          dataTable['output_type'] = 'display_data';\n",
              "          await google.colab.output.renderOutput(dataTable, element);\n",
              "          const docLink = document.createElement('div');\n",
              "          docLink.innerHTML = docLinkHtml;\n",
              "          element.appendChild(docLink);\n",
              "        }\n",
              "      </script>\n",
              "    </div>\n",
              "  </div>\n",
              "  "
            ]
          },
          "metadata": {},
          "execution_count": 145
        }
      ]
    },
    {
      "cell_type": "code",
      "source": [
        "#idx dihapus saja karena itu terkait saham itu di list dimana saja di bursa, tidak ada kalitannya sama rekomendation system\n",
        "columns_to_drop = ['idx']\n",
        "df = df.drop(columns=columns_to_drop)"
      ],
      "metadata": {
        "id": "7ffnDynm_z7p"
      },
      "execution_count": null,
      "outputs": []
    },
    {
      "cell_type": "code",
      "source": [
        "df['thematic'] = df['thematic'].str.replace('[', '').str.replace('\"', '').str.replace(']', '')"
      ],
      "metadata": {
        "colab": {
          "base_uri": "https://localhost:8080/"
        },
        "id": "ys4zUnZpAYxi",
        "outputId": "b86f24b8-7249-4562-b042-3124687ee735"
      },
      "execution_count": null,
      "outputs": [
        {
          "output_type": "stream",
          "name": "stderr",
          "text": [
            "<ipython-input-146-8b033f66425a>:1: FutureWarning: The default value of regex will change from True to False in a future version. In addition, single character regular expressions will *not* be treated as literal strings when regex=True.\n",
            "  df['thematic'] = df['thematic'].str.replace('[', '').str.replace('\"', '').str.replace(']', '')\n"
          ]
        }
      ]
    },
    {
      "cell_type": "code",
      "source": [
        "df['industry'] = df['industry'].map(lambda x:x.split(' '))"
      ],
      "metadata": {
        "id": "dB3t9Lt0vkR1"
      },
      "execution_count": null,
      "outputs": []
    },
    {
      "cell_type": "code",
      "source": [
        "for index, row in df.iterrows():\n",
        "  row['industry'] = ''.join(row['industry']).lower()"
      ],
      "metadata": {
        "id": "wCPOOT5qBKw2"
      },
      "execution_count": null,
      "outputs": []
    },
    {
      "cell_type": "code",
      "source": [
        "df.head(1)"
      ],
      "metadata": {
        "colab": {
          "base_uri": "https://localhost:8080/",
          "height": 173
        },
        "id": "6jgwJsO-BxYp",
        "outputId": "6cad3dbe-e950-4b6d-b30c-faca9b99285e"
      },
      "execution_count": null,
      "outputs": [
        {
          "output_type": "execute_result",
          "data": {
            "text/plain": [
              "            sector thematic                  industry  \\\n",
              "_id                                                     \n",
              "AALI  non-siklikal           [produkmakananpertanian]   \n",
              "\n",
              "                             key_words_business_product  \\\n",
              "_id                                                       \n",
              "AALI  [based, company, articles, association, scope,...   \n",
              "\n",
              "                                 key_words_general_info  \\\n",
              "_id                                                       \n",
              "AALI  [pt, astra, agro, lestari, tbk, idx, aali, ana...   \n",
              "\n",
              "                                  key_words_description  \\\n",
              "_id                                                       \n",
              "AALI  [astra, agro, lestari, pt, the, company, was, ...   \n",
              "\n",
              "                                           bag_of_words  \n",
              "_id                                                      \n",
              "AALI  n o n - s i k l i k a l  produkmakananpertania...  "
            ],
            "text/html": [
              "\n",
              "  <div id=\"df-a7bbf552-b29d-4bc4-8039-936240792986\">\n",
              "    <div class=\"colab-df-container\">\n",
              "      <div>\n",
              "<style scoped>\n",
              "    .dataframe tbody tr th:only-of-type {\n",
              "        vertical-align: middle;\n",
              "    }\n",
              "\n",
              "    .dataframe tbody tr th {\n",
              "        vertical-align: top;\n",
              "    }\n",
              "\n",
              "    .dataframe thead th {\n",
              "        text-align: right;\n",
              "    }\n",
              "</style>\n",
              "<table border=\"1\" class=\"dataframe\">\n",
              "  <thead>\n",
              "    <tr style=\"text-align: right;\">\n",
              "      <th></th>\n",
              "      <th>sector</th>\n",
              "      <th>thematic</th>\n",
              "      <th>industry</th>\n",
              "      <th>key_words_business_product</th>\n",
              "      <th>key_words_general_info</th>\n",
              "      <th>key_words_description</th>\n",
              "      <th>bag_of_words</th>\n",
              "    </tr>\n",
              "    <tr>\n",
              "      <th>_id</th>\n",
              "      <th></th>\n",
              "      <th></th>\n",
              "      <th></th>\n",
              "      <th></th>\n",
              "      <th></th>\n",
              "      <th></th>\n",
              "      <th></th>\n",
              "    </tr>\n",
              "  </thead>\n",
              "  <tbody>\n",
              "    <tr>\n",
              "      <th>AALI</th>\n",
              "      <td>non-siklikal</td>\n",
              "      <td></td>\n",
              "      <td>[produkmakananpertanian]</td>\n",
              "      <td>[based, company, articles, association, scope,...</td>\n",
              "      <td>[pt, astra, agro, lestari, tbk, idx, aali, ana...</td>\n",
              "      <td>[astra, agro, lestari, pt, the, company, was, ...</td>\n",
              "      <td>n o n - s i k l i k a l  produkmakananpertania...</td>\n",
              "    </tr>\n",
              "  </tbody>\n",
              "</table>\n",
              "</div>\n",
              "      <button class=\"colab-df-convert\" onclick=\"convertToInteractive('df-a7bbf552-b29d-4bc4-8039-936240792986')\"\n",
              "              title=\"Convert this dataframe to an interactive table.\"\n",
              "              style=\"display:none;\">\n",
              "        \n",
              "  <svg xmlns=\"http://www.w3.org/2000/svg\" height=\"24px\"viewBox=\"0 0 24 24\"\n",
              "       width=\"24px\">\n",
              "    <path d=\"M0 0h24v24H0V0z\" fill=\"none\"/>\n",
              "    <path d=\"M18.56 5.44l.94 2.06.94-2.06 2.06-.94-2.06-.94-.94-2.06-.94 2.06-2.06.94zm-11 1L8.5 8.5l.94-2.06 2.06-.94-2.06-.94L8.5 2.5l-.94 2.06-2.06.94zm10 10l.94 2.06.94-2.06 2.06-.94-2.06-.94-.94-2.06-.94 2.06-2.06.94z\"/><path d=\"M17.41 7.96l-1.37-1.37c-.4-.4-.92-.59-1.43-.59-.52 0-1.04.2-1.43.59L10.3 9.45l-7.72 7.72c-.78.78-.78 2.05 0 2.83L4 21.41c.39.39.9.59 1.41.59.51 0 1.02-.2 1.41-.59l7.78-7.78 2.81-2.81c.8-.78.8-2.07 0-2.86zM5.41 20L4 18.59l7.72-7.72 1.47 1.35L5.41 20z\"/>\n",
              "  </svg>\n",
              "      </button>\n",
              "      \n",
              "  <style>\n",
              "    .colab-df-container {\n",
              "      display:flex;\n",
              "      flex-wrap:wrap;\n",
              "      gap: 12px;\n",
              "    }\n",
              "\n",
              "    .colab-df-convert {\n",
              "      background-color: #E8F0FE;\n",
              "      border: none;\n",
              "      border-radius: 50%;\n",
              "      cursor: pointer;\n",
              "      display: none;\n",
              "      fill: #1967D2;\n",
              "      height: 32px;\n",
              "      padding: 0 0 0 0;\n",
              "      width: 32px;\n",
              "    }\n",
              "\n",
              "    .colab-df-convert:hover {\n",
              "      background-color: #E2EBFA;\n",
              "      box-shadow: 0px 1px 2px rgba(60, 64, 67, 0.3), 0px 1px 3px 1px rgba(60, 64, 67, 0.15);\n",
              "      fill: #174EA6;\n",
              "    }\n",
              "\n",
              "    [theme=dark] .colab-df-convert {\n",
              "      background-color: #3B4455;\n",
              "      fill: #D2E3FC;\n",
              "    }\n",
              "\n",
              "    [theme=dark] .colab-df-convert:hover {\n",
              "      background-color: #434B5C;\n",
              "      box-shadow: 0px 1px 3px 1px rgba(0, 0, 0, 0.15);\n",
              "      filter: drop-shadow(0px 1px 2px rgba(0, 0, 0, 0.3));\n",
              "      fill: #FFFFFF;\n",
              "    }\n",
              "  </style>\n",
              "\n",
              "      <script>\n",
              "        const buttonEl =\n",
              "          document.querySelector('#df-a7bbf552-b29d-4bc4-8039-936240792986 button.colab-df-convert');\n",
              "        buttonEl.style.display =\n",
              "          google.colab.kernel.accessAllowed ? 'block' : 'none';\n",
              "\n",
              "        async function convertToInteractive(key) {\n",
              "          const element = document.querySelector('#df-a7bbf552-b29d-4bc4-8039-936240792986');\n",
              "          const dataTable =\n",
              "            await google.colab.kernel.invokeFunction('convertToInteractive',\n",
              "                                                     [key], {});\n",
              "          if (!dataTable) return;\n",
              "\n",
              "          const docLinkHtml = 'Like what you see? Visit the ' +\n",
              "            '<a target=\"_blank\" href=https://colab.research.google.com/notebooks/data_table.ipynb>data table notebook</a>'\n",
              "            + ' to learn more about interactive tables.';\n",
              "          element.innerHTML = '';\n",
              "          dataTable['output_type'] = 'display_data';\n",
              "          await google.colab.output.renderOutput(dataTable, element);\n",
              "          const docLink = document.createElement('div');\n",
              "          docLink.innerHTML = docLinkHtml;\n",
              "          element.appendChild(docLink);\n",
              "        }\n",
              "      </script>\n",
              "    </div>\n",
              "  </div>\n",
              "  "
            ]
          },
          "metadata": {},
          "execution_count": 159
        }
      ]
    },
    {
      "cell_type": "code",
      "source": [
        "df['industry'] = df['industry'].map(lambda x : x.lower().split(' '))"
      ],
      "metadata": {
        "id": "C4FfCIb_DJ-B"
      },
      "execution_count": null,
      "outputs": []
    },
    {
      "cell_type": "code",
      "source": [
        "type(df['sector'])"
      ],
      "metadata": {
        "colab": {
          "base_uri": "https://localhost:8080/"
        },
        "id": "7tCvhaN5XFHs",
        "outputId": "bf560f5e-eb28-409b-bec8-18c2d384a631"
      },
      "execution_count": null,
      "outputs": [
        {
          "output_type": "execute_result",
          "data": {
            "text/plain": [
              "pandas.core.series.Series"
            ]
          },
          "metadata": {},
          "execution_count": 150
        }
      ]
    },
    {
      "cell_type": "code",
      "source": [
        "df['sector'] = df['sector'].str.replace('[', '').str.replace('\"', '').str.replace(']', '')"
      ],
      "metadata": {
        "colab": {
          "base_uri": "https://localhost:8080/"
        },
        "id": "Zqn7VI24XhJt",
        "outputId": "7ab9b316-7e71-4d10-edc9-2e62ef5d01a7"
      },
      "execution_count": null,
      "outputs": [
        {
          "output_type": "stream",
          "name": "stderr",
          "text": [
            "<ipython-input-151-b0b9ecc882b9>:1: FutureWarning: The default value of regex will change from True to False in a future version. In addition, single character regular expressions will *not* be treated as literal strings when regex=True.\n",
            "  df['sector'] = df['sector'].str.replace('[', '').str.replace('\"', '').str.replace(']', '')\n"
          ]
        }
      ]
    },
    {
      "cell_type": "code",
      "source": [
        "df['sector'] = df['sector'].str.lower()"
      ],
      "metadata": {
        "id": "FSLxTGD9YLeC"
      },
      "execution_count": null,
      "outputs": []
    },
    {
      "cell_type": "code",
      "source": [
        "df['bag_of_words'] = ''\n",
        "columns = df.columns\n",
        "for index, row in df.iterrows():\n",
        "  words= ''\n",
        "  for col in columns:\n",
        "      words = words + ' '.join(row[col]) + ' '\n",
        "\n",
        "  row['bag_of_words'] = words\n"
      ],
      "metadata": {
        "id": "YHIIO_DIIzhI"
      },
      "execution_count": null,
      "outputs": []
    },
    {
      "cell_type": "code",
      "source": [
        "#mengecek ada berapa baris yang mengandung double space\n",
        "df['bag_of_words'].str.contains(r'\\s\\s').sum()"
      ],
      "metadata": {
        "colab": {
          "base_uri": "https://localhost:8080/"
        },
        "id": "pcIn_xzSHnUv",
        "outputId": "a9941e19-1d12-467a-da62-5ada64e22b55"
      },
      "execution_count": null,
      "outputs": [
        {
          "output_type": "execute_result",
          "data": {
            "text/plain": [
              "0"
            ]
          },
          "metadata": {},
          "execution_count": 186
        }
      ]
    },
    {
      "cell_type": "code",
      "source": [
        "df['bag_of_words'] = df['bag_of_words'].str.replace(r'\\s\\s', ' ')"
      ],
      "metadata": {
        "colab": {
          "base_uri": "https://localhost:8080/"
        },
        "id": "qR5sEZGKH-i4",
        "outputId": "bb963304-ed35-459c-b815-2818d8ef7eae"
      },
      "execution_count": null,
      "outputs": [
        {
          "output_type": "stream",
          "name": "stderr",
          "text": [
            "<ipython-input-185-df9588f9567a>:1: FutureWarning: The default value of regex will change from True to False in a future version.\n",
            "  df['bag_of_words'] = df['bag_of_words'].str.replace(r'\\s\\s', ' ')\n"
          ]
        }
      ]
    },
    {
      "cell_type": "code",
      "source": [],
      "metadata": {
        "colab": {
          "base_uri": "https://localhost:8080/"
        },
        "id": "ea4gXBEOmqNH",
        "outputId": "779391f5-a6d9-4452-e995-79ba18c99682"
      },
      "execution_count": null,
      "outputs": [
        {
          "output_type": "execute_result",
          "data": {
            "text/plain": [
              "pandas.core.series.Series"
            ]
          },
          "metadata": {},
          "execution_count": 73
        }
      ]
    },
    {
      "cell_type": "code",
      "source": [],
      "metadata": {
        "id": "r_8g32FTnidU"
      },
      "execution_count": null,
      "outputs": []
    },
    {
      "cell_type": "code",
      "source": [
        "df.head()"
      ],
      "metadata": {
        "colab": {
          "base_uri": "https://localhost:8080/",
          "height": 237
        },
        "id": "DQSCG7nxDa4b",
        "outputId": "a93efc4c-bce8-4bc9-902c-7ee9dee013df"
      },
      "execution_count": null,
      "outputs": [
        {
          "output_type": "execute_result",
          "data": {
            "text/plain": [
              "                                           bag_of_words\n",
              "_id                                                    \n",
              "AALI  non-siklikal idxsmc-liq jii70 esgqkehati idx80...\n",
              "ABBA  siklikal media pt mahaka media tbk idx abba pe...\n",
              "ABDA  keuangan idxsmc-com asuransi company engaged g...\n",
              "ABMM  perindustrian idxsmc-com kompas100 issi V a l ...\n",
              "ACES  siklikal idxsmc-liq jii idx80 idxq30 issi idxe..."
            ],
            "text/html": [
              "\n",
              "  <div id=\"df-1585313d-7f81-4c56-a270-6d4acc68757b\">\n",
              "    <div class=\"colab-df-container\">\n",
              "      <div>\n",
              "<style scoped>\n",
              "    .dataframe tbody tr th:only-of-type {\n",
              "        vertical-align: middle;\n",
              "    }\n",
              "\n",
              "    .dataframe tbody tr th {\n",
              "        vertical-align: top;\n",
              "    }\n",
              "\n",
              "    .dataframe thead th {\n",
              "        text-align: right;\n",
              "    }\n",
              "</style>\n",
              "<table border=\"1\" class=\"dataframe\">\n",
              "  <thead>\n",
              "    <tr style=\"text-align: right;\">\n",
              "      <th></th>\n",
              "      <th>bag_of_words</th>\n",
              "    </tr>\n",
              "    <tr>\n",
              "      <th>_id</th>\n",
              "      <th></th>\n",
              "    </tr>\n",
              "  </thead>\n",
              "  <tbody>\n",
              "    <tr>\n",
              "      <th>AALI</th>\n",
              "      <td>non-siklikal idxsmc-liq jii70 esgqkehati idx80...</td>\n",
              "    </tr>\n",
              "    <tr>\n",
              "      <th>ABBA</th>\n",
              "      <td>siklikal media pt mahaka media tbk idx abba pe...</td>\n",
              "    </tr>\n",
              "    <tr>\n",
              "      <th>ABDA</th>\n",
              "      <td>keuangan idxsmc-com asuransi company engaged g...</td>\n",
              "    </tr>\n",
              "    <tr>\n",
              "      <th>ABMM</th>\n",
              "      <td>perindustrian idxsmc-com kompas100 issi V a l ...</td>\n",
              "    </tr>\n",
              "    <tr>\n",
              "      <th>ACES</th>\n",
              "      <td>siklikal idxsmc-liq jii idx80 idxq30 issi idxe...</td>\n",
              "    </tr>\n",
              "  </tbody>\n",
              "</table>\n",
              "</div>\n",
              "      <button class=\"colab-df-convert\" onclick=\"convertToInteractive('df-1585313d-7f81-4c56-a270-6d4acc68757b')\"\n",
              "              title=\"Convert this dataframe to an interactive table.\"\n",
              "              style=\"display:none;\">\n",
              "        \n",
              "  <svg xmlns=\"http://www.w3.org/2000/svg\" height=\"24px\"viewBox=\"0 0 24 24\"\n",
              "       width=\"24px\">\n",
              "    <path d=\"M0 0h24v24H0V0z\" fill=\"none\"/>\n",
              "    <path d=\"M18.56 5.44l.94 2.06.94-2.06 2.06-.94-2.06-.94-.94-2.06-.94 2.06-2.06.94zm-11 1L8.5 8.5l.94-2.06 2.06-.94-2.06-.94L8.5 2.5l-.94 2.06-2.06.94zm10 10l.94 2.06.94-2.06 2.06-.94-2.06-.94-.94-2.06-.94 2.06-2.06.94z\"/><path d=\"M17.41 7.96l-1.37-1.37c-.4-.4-.92-.59-1.43-.59-.52 0-1.04.2-1.43.59L10.3 9.45l-7.72 7.72c-.78.78-.78 2.05 0 2.83L4 21.41c.39.39.9.59 1.41.59.51 0 1.02-.2 1.41-.59l7.78-7.78 2.81-2.81c.8-.78.8-2.07 0-2.86zM5.41 20L4 18.59l7.72-7.72 1.47 1.35L5.41 20z\"/>\n",
              "  </svg>\n",
              "      </button>\n",
              "      \n",
              "  <style>\n",
              "    .colab-df-container {\n",
              "      display:flex;\n",
              "      flex-wrap:wrap;\n",
              "      gap: 12px;\n",
              "    }\n",
              "\n",
              "    .colab-df-convert {\n",
              "      background-color: #E8F0FE;\n",
              "      border: none;\n",
              "      border-radius: 50%;\n",
              "      cursor: pointer;\n",
              "      display: none;\n",
              "      fill: #1967D2;\n",
              "      height: 32px;\n",
              "      padding: 0 0 0 0;\n",
              "      width: 32px;\n",
              "    }\n",
              "\n",
              "    .colab-df-convert:hover {\n",
              "      background-color: #E2EBFA;\n",
              "      box-shadow: 0px 1px 2px rgba(60, 64, 67, 0.3), 0px 1px 3px 1px rgba(60, 64, 67, 0.15);\n",
              "      fill: #174EA6;\n",
              "    }\n",
              "\n",
              "    [theme=dark] .colab-df-convert {\n",
              "      background-color: #3B4455;\n",
              "      fill: #D2E3FC;\n",
              "    }\n",
              "\n",
              "    [theme=dark] .colab-df-convert:hover {\n",
              "      background-color: #434B5C;\n",
              "      box-shadow: 0px 1px 3px 1px rgba(0, 0, 0, 0.15);\n",
              "      filter: drop-shadow(0px 1px 2px rgba(0, 0, 0, 0.3));\n",
              "      fill: #FFFFFF;\n",
              "    }\n",
              "  </style>\n",
              "\n",
              "      <script>\n",
              "        const buttonEl =\n",
              "          document.querySelector('#df-1585313d-7f81-4c56-a270-6d4acc68757b button.colab-df-convert');\n",
              "        buttonEl.style.display =\n",
              "          google.colab.kernel.accessAllowed ? 'block' : 'none';\n",
              "\n",
              "        async function convertToInteractive(key) {\n",
              "          const element = document.querySelector('#df-1585313d-7f81-4c56-a270-6d4acc68757b');\n",
              "          const dataTable =\n",
              "            await google.colab.kernel.invokeFunction('convertToInteractive',\n",
              "                                                     [key], {});\n",
              "          if (!dataTable) return;\n",
              "\n",
              "          const docLinkHtml = 'Like what you see? Visit the ' +\n",
              "            '<a target=\"_blank\" href=https://colab.research.google.com/notebooks/data_table.ipynb>data table notebook</a>'\n",
              "            + ' to learn more about interactive tables.';\n",
              "          element.innerHTML = '';\n",
              "          dataTable['output_type'] = 'display_data';\n",
              "          await google.colab.output.renderOutput(dataTable, element);\n",
              "          const docLink = document.createElement('div');\n",
              "          docLink.innerHTML = docLinkHtml;\n",
              "          element.appendChild(docLink);\n",
              "        }\n",
              "      </script>\n",
              "    </div>\n",
              "  </div>\n",
              "  "
            ]
          },
          "metadata": {},
          "execution_count": 192
        }
      ]
    },
    {
      "cell_type": "code",
      "source": [
        "count = CountVectorizer()\n",
        "count_matrix = count.fit_transform(df['bag_of_words'])"
      ],
      "metadata": {
        "id": "4vgOYQ6SImTt"
      },
      "execution_count": null,
      "outputs": []
    },
    {
      "cell_type": "code",
      "source": [
        "count_matrix"
      ],
      "metadata": {
        "colab": {
          "base_uri": "https://localhost:8080/"
        },
        "id": "hfPLDThOImYC",
        "outputId": "5530141b-2b4a-4a28-e1a4-d75a0c6f3200"
      },
      "execution_count": null,
      "outputs": [
        {
          "output_type": "execute_result",
          "data": {
            "text/plain": [
              "<883x9426 sparse matrix of type '<class 'numpy.int64'>'\n",
              "\twith 60989 stored elements in Compressed Sparse Row format>"
            ]
          },
          "metadata": {},
          "execution_count": 196
        }
      ]
    },
    {
      "cell_type": "code",
      "source": [
        "c = count_matrix.todense()\n",
        "c"
      ],
      "metadata": {
        "colab": {
          "base_uri": "https://localhost:8080/"
        },
        "id": "ouRuUm1QJkr3",
        "outputId": "3db7aaf7-5fce-43b0-91fc-43a6f644e6b2"
      },
      "execution_count": null,
      "outputs": [
        {
          "output_type": "execute_result",
          "data": {
            "text/plain": [
              "matrix([[0, 0, 0, ..., 0, 0, 0],\n",
              "        [0, 0, 0, ..., 0, 0, 0],\n",
              "        [0, 0, 0, ..., 0, 0, 0],\n",
              "        ...,\n",
              "        [0, 0, 0, ..., 0, 0, 0],\n",
              "        [0, 0, 0, ..., 0, 0, 0],\n",
              "        [0, 0, 0, ..., 1, 1, 1]])"
            ]
          },
          "metadata": {},
          "execution_count": 197
        }
      ]
    },
    {
      "cell_type": "code",
      "source": [],
      "metadata": {
        "id": "Hsgma9y4Jnt2"
      },
      "execution_count": null,
      "outputs": []
    },
    {
      "cell_type": "code",
      "source": [
        "print(count_matrix[0,:])"
      ],
      "metadata": {
        "colab": {
          "base_uri": "https://localhost:8080/"
        },
        "id": "C8jSu5GlJnws",
        "outputId": "0fa15b05-94f0-428a-f6a8-a6d3598cc14f"
      },
      "execution_count": null,
      "outputs": [
        {
          "output_type": "stream",
          "name": "stdout",
          "text": [
            "  (0, 5979)\t1\n",
            "  (0, 7975)\t1\n",
            "  (0, 3906)\t2\n",
            "  (0, 5044)\t1\n",
            "  (0, 4326)\t1\n",
            "  (0, 3093)\t1\n",
            "  (0, 3899)\t1\n",
            "  (0, 4207)\t1\n",
            "  (0, 4161)\t1\n",
            "  (0, 4724)\t1\n",
            "  (0, 8209)\t1\n",
            "  (0, 3907)\t1\n",
            "  (0, 3094)\t1\n",
            "  (0, 2256)\t1\n",
            "  (0, 7104)\t1\n",
            "  (0, 1333)\t1\n",
            "  (0, 2279)\t1\n",
            "  (0, 1117)\t1\n",
            "  (0, 1176)\t1\n",
            "  (0, 7746)\t1\n",
            "  (0, 716)\t1\n",
            "  (0, 3037)\t1\n",
            "  (0, 6866)\t1\n",
            "  (0, 6120)\t1\n",
            "  (0, 3505)\t1\n",
            "  :\t:\n",
            "  (0, 5690)\t1\n",
            "  (0, 7722)\t1\n",
            "  (0, 6241)\t1\n",
            "  (0, 6065)\t1\n",
            "  (0, 6492)\t1\n",
            "  (0, 4541)\t1\n",
            "  (0, 5473)\t1\n",
            "  (0, 8513)\t1\n",
            "  (0, 7107)\t1\n",
            "  (0, 8593)\t1\n",
            "  (0, 4391)\t1\n",
            "  (0, 5451)\t1\n",
            "  (0, 8360)\t1\n",
            "  (0, 4406)\t1\n",
            "  (0, 8350)\t1\n",
            "  (0, 1309)\t1\n",
            "  (0, 7493)\t1\n",
            "  (0, 1326)\t1\n",
            "  (0, 7462)\t1\n",
            "  (0, 5054)\t1\n",
            "  (0, 1411)\t1\n",
            "  (0, 8521)\t1\n",
            "  (0, 32)\t1\n",
            "  (0, 2611)\t1\n",
            "  (0, 320)\t1\n"
          ]
        }
      ]
    },
    {
      "cell_type": "code",
      "source": [],
      "metadata": {
        "id": "dbvrwjDlJvsH"
      },
      "execution_count": null,
      "outputs": []
    },
    {
      "cell_type": "code",
      "source": [
        "cosine_sim = cosine_similarity(count_matrix, count_matrix)\n",
        "cosine_sim"
      ],
      "metadata": {
        "colab": {
          "base_uri": "https://localhost:8080/"
        },
        "id": "wqBvsTvpJvvN",
        "outputId": "56885fe0-e158-4b3a-c362-fd1fe5472626"
      },
      "execution_count": null,
      "outputs": [
        {
          "output_type": "execute_result",
          "data": {
            "text/plain": [
              "array([[1.        , 0.24802326, 0.26595839, ..., 0.23865177, 0.23788041,\n",
              "        0.28248299],\n",
              "       [0.24802326, 1.        , 0.3207008 , ..., 0.21637116, 0.15097027,\n",
              "        0.20758412],\n",
              "       [0.26595839, 0.3207008 , 1.        , ..., 0.24980546, 0.20640627,\n",
              "        0.24080732],\n",
              "       ...,\n",
              "       [0.23865177, 0.21637116, 0.24980546, ..., 1.        , 0.23519241,\n",
              "        0.29399052],\n",
              "       [0.23788041, 0.15097027, 0.20640627, ..., 0.23519241, 1.        ,\n",
              "        0.21794872],\n",
              "       [0.28248299, 0.20758412, 0.24080732, ..., 0.29399052, 0.21794872,\n",
              "        1.        ]])"
            ]
          },
          "metadata": {},
          "execution_count": 199
        }
      ]
    },
    {
      "cell_type": "code",
      "source": [
        "indices = pd.Series(df.index)\n",
        "indices"
      ],
      "metadata": {
        "colab": {
          "base_uri": "https://localhost:8080/"
        },
        "id": "3CzLGpAyJyX7",
        "outputId": "f2365bd1-2e5a-436f-d12d-bbe66b7531fc"
      },
      "execution_count": null,
      "outputs": [
        {
          "output_type": "execute_result",
          "data": {
            "text/plain": [
              "0      AALI\n",
              "1      ABBA\n",
              "2      ABDA\n",
              "3      ABMM\n",
              "4      ACES\n",
              "       ... \n",
              "878    ZATA\n",
              "879    ZBRA\n",
              "880    ZINC\n",
              "881    ZONE\n",
              "882    ZYRX\n",
              "Name: _id, Length: 883, dtype: object"
            ]
          },
          "metadata": {},
          "execution_count": 200
        }
      ]
    },
    {
      "cell_type": "code",
      "source": [
        "def recomendations(id, cosine_sim = cosine_sim):\n",
        "  recomended_stock= []\n",
        "  idx = indices[indices == id].index[0]\n",
        "\n",
        "  score_series = pd.Series(cosine_sim[idx]).sort_values(ascending = False)\n",
        "\n",
        "  top_10_indexes = list(score_series.iloc[1:11].index)\n",
        "\n",
        "  print(top_10_indexes)\n",
        "\n",
        "  for i in top_10_indexes:\n",
        "    recomended_stock.append(list(df.index)[i])\n",
        "\n",
        "  return recomended_stock"
      ],
      "metadata": {
        "id": "y03k-6u5J1fN"
      },
      "execution_count": null,
      "outputs": []
    },
    {
      "cell_type": "code",
      "source": [
        "recomendations('TAPG')"
      ],
      "metadata": {
        "colab": {
          "base_uri": "https://localhost:8080/"
        },
        "id": "feWk3n-RKFsw",
        "outputId": "bd8583d9-deb9-4873-971e-bdd824b8c03a"
      },
      "execution_count": null,
      "outputs": [
        {
          "output_type": "stream",
          "name": "stdout",
          "text": [
            "[802, 454, 0, 656, 177, 490, 765, 256, 495, 798]\n"
          ]
        },
        {
          "output_type": "execute_result",
          "data": {
            "text/plain": [
              "['TLDN',\n",
              " 'KMTR',\n",
              " 'AALI',\n",
              " 'PSGO',\n",
              " 'BWPT',\n",
              " 'LSIP',\n",
              " 'SSMS',\n",
              " 'DSNG',\n",
              " 'MAGP',\n",
              " 'TINS']"
            ]
          },
          "metadata": {},
          "execution_count": 204
        }
      ]
    },
    {
      "cell_type": "code",
      "source": [],
      "metadata": {
        "id": "a5UDx-teKI86"
      },
      "execution_count": null,
      "outputs": []
    }
  ]
}